{
  "nbformat": 4,
  "nbformat_minor": 0,
  "metadata": {
    "colab": {
      "name": "hackhub.ipynb",
      "version": "0.3.2",
      "provenance": [],
      "collapsed_sections": []
    },
    "kernelspec": {
      "name": "python3",
      "display_name": "Python 3"
    }
  },
  "cells": [
    {
      "metadata": {
        "id": "5Frcc4R1WTQb",
        "colab_type": "text"
      },
      "cell_type": "markdown",
      "source": [
        "# Problem Statements, hackHub\n",
        "\n",
        "##ML and AI\n",
        "\n",
        "### Extent and damage of earthquake\n",
        "\n",
        "---\n"
      ]
    },
    {
      "metadata": {
        "id": "hI5m55XrDkA-",
        "colab_type": "text"
      },
      "cell_type": "markdown",
      "source": [
        "# **PHASE 1**"
      ]
    },
    {
      "metadata": {
        "id": "Bl3NdIP4DtDV",
        "colab_type": "text"
      },
      "cell_type": "markdown",
      "source": [
        "*Import all the packages here*"
      ]
    },
    {
      "metadata": {
        "id": "HYuXIVzaM6hf",
        "colab_type": "code",
        "colab": {}
      },
      "cell_type": "code",
      "source": [
        "import pandas as pd\n",
        "import numpy as np\n",
        "import os\n",
        "import seaborn as sns\n",
        "import matplotlib.pyplot as plt\n",
        "from sklearn import preprocessing \n",
        "from sklearn.ensemble import ExtraTreesClassifier\n",
        "from sklearn.model_selection import train_test_split\n",
        "from sklearn.metrics import accuracy_score\n",
        "from sklearn.preprocessing import LabelEncoder \n",
        "from sklearn.model_selection import GridSearchCV\n",
        "from sklearn.ensemble import RandomForestClassifier\n",
        "from time import time\n",
        "\n",
        "import tensorflow as tf\n"
      ],
      "execution_count": 0,
      "outputs": []
    },
    {
      "metadata": {
        "id": "2HluiUEkDztJ",
        "colab_type": "text"
      },
      "cell_type": "markdown",
      "source": [
        "*Upload the csv files to the colab*"
      ]
    },
    {
      "metadata": {
        "id": "ncU5f-vrRpJY",
        "colab_type": "code",
        "outputId": "a1179a3f-361e-4f75-f3c6-480d48c61094",
        "colab": {
          "base_uri": "https://localhost:8080/",
          "height": 54
        }
      },
      "cell_type": "code",
      "source": [
        "from google.colab import drive\n",
        "drive.mount('/content/gdrive')"
      ],
      "execution_count": 0,
      "outputs": [
        {
          "output_type": "stream",
          "text": [
            "Drive already mounted at /content/gdrive; to attempt to forcibly remount, call drive.mount(\"/content/gdrive\", force_remount=True).\n"
          ],
          "name": "stdout"
        }
      ]
    },
    {
      "metadata": {
        "id": "M8-c-VpdD5FU",
        "colab_type": "text"
      },
      "cell_type": "markdown",
      "source": [
        "*Import the datasets into the notebook*"
      ]
    },
    {
      "metadata": {
        "id": "V0NCJ15XWS7R",
        "colab_type": "code",
        "colab": {}
      },
      "cell_type": "code",
      "source": [
        "df1 = pd.read_csv('gdrive/My Drive/Colab Notebooks/Dataset/train.csv')\n",
        "df2 = pd.read_csv('gdrive/My Drive/Colab Notebooks/Dataset/Building_Structure.csv')\n",
        "df3 =pd.read_csv('gdrive/My Drive/Colab Notebooks/Dataset/Building_Ownership_Use.csv')\n",
        "df4_test =pd.read_csv('gdrive/My Drive/Colab Notebooks/Dataset/test.csv')"
      ],
      "execution_count": 0,
      "outputs": []
    },
    {
      "metadata": {
        "id": "JJ5W_n6aEAda",
        "colab_type": "text"
      },
      "cell_type": "markdown",
      "source": [
        "*Define a function for finding the common columns in two datasets*"
      ]
    },
    {
      "metadata": {
        "id": "ffA58yWNc6LO",
        "colab_type": "code",
        "colab": {}
      },
      "cell_type": "code",
      "source": [
        "def common_member(a, b): \n",
        "      \n",
        "    a_set = set(a) \n",
        "    b_set = set(b) \n",
        "      \n",
        "    # check length  \n",
        "    if len(a_set.intersection(b_set)) > 0:\n",
        "        return(a_set.intersection(b_set))   \n",
        "    else: \n",
        "        return(\"no common elements\") "
      ],
      "execution_count": 0,
      "outputs": []
    },
    {
      "metadata": {
        "id": "VDmADHKHEKiG",
        "colab_type": "text"
      },
      "cell_type": "markdown",
      "source": [
        "*testing Random forests on the df1 by splitting it into train and test*"
      ]
    },
    {
      "metadata": {
        "id": "EN8qF5_wiBl0",
        "colab_type": "code",
        "outputId": "d37528df-8bd0-45d2-920a-d1e1ca7efef5",
        "colab": {
          "base_uri": "https://localhost:8080/",
          "height": 88
        }
      },
      "cell_type": "code",
      "source": [
        "df_train=df1\n",
        "y=df1.damage_grade\n",
        "del(df_train['damage_grade'])\n",
        "del(df_train['area_assesed'])\n",
        "del(df_train['building_id'])\n",
        "del(df_train['district_id'])\n",
        "del(df_train['has_repair_started'])\n",
        "del(df_train[\"vdcmun_id\"])\n",
        "x=df_train\n",
        "\n",
        "x_train, x_test, y_train, y_test=train_test_split(x, y, test_size=0.25)\n",
        "clf=RandomForestClassifier()\n",
        "clf.fit(x_train, y_train)\n",
        "y_pred=clf.predict(x_test)\n",
        "\n",
        "from sklearn.metrics import accuracy_score\n",
        "accuracy_score(y_test, y_pred)"
      ],
      "execution_count": 0,
      "outputs": [
        {
          "output_type": "stream",
          "text": [
            "/usr/local/lib/python3.6/dist-packages/sklearn/ensemble/forest.py:246: FutureWarning: The default value of n_estimators will change from 10 in version 0.20 to 100 in 0.22.\n",
            "  \"10 in version 0.20 to 100 in 0.22.\", FutureWarning)\n"
          ],
          "name": "stderr"
        },
        {
          "output_type": "execute_result",
          "data": {
            "text/plain": [
              "0.33405512184929814"
            ]
          },
          "metadata": {
            "tags": []
          },
          "execution_count": 268
        }
      ]
    },
    {
      "metadata": {
        "id": "Cka_hesOEVTR",
        "colab_type": "text"
      },
      "cell_type": "markdown",
      "source": [
        "# Phase 1.2"
      ]
    },
    {
      "metadata": {
        "id": "B87tBTuYEaD8",
        "colab_type": "text"
      },
      "cell_type": "markdown",
      "source": [
        "*Import the data sets here and merge the extra datasets given with the train dataset and the test dataset with respect to the buildings id*"
      ]
    },
    {
      "metadata": {
        "id": "7kQmO6BTnDtS",
        "colab_type": "code",
        "colab": {}
      },
      "cell_type": "code",
      "source": [
        "df_train = pd.read_csv('gdrive/My Drive/Colab Notebooks/Dataset/train.csv')\n",
        "df_train2 = pd.read_csv('gdrive/My Drive/Colab Notebooks/Dataset/Building_Ownership_Use.csv')\n",
        "df_train3 = pd.read_csv('gdrive/My Drive/Colab Notebooks/Dataset/Building_Structure.csv')\n",
        "\n",
        "del(df_train['area_assesed'])\n",
        "# del(df_train['building_id'])\n",
        "del(df_train['district_id'])\n",
        "del(df_train['has_repair_started'])\n",
        "del(df_train[\"vdcmun_id\"])\n",
        "df_train=pd.merge(df_train, df_train2, on='building_id')\n",
        "df_train=pd.merge(df_train, df_train3, on='building_id')\n",
        "del(df_train['building_id'])"
      ],
      "execution_count": 0,
      "outputs": []
    },
    {
      "metadata": {
        "id": "caoWBETREe_P",
        "colab_type": "text"
      },
      "cell_type": "markdown",
      "source": [
        "*Seeing the head of the output train variable*"
      ]
    },
    {
      "metadata": {
        "id": "4Q3awwIzypgA",
        "colab_type": "code",
        "outputId": "4f227bd4-f96e-4e82-ddb0-3bd9caa24bd9",
        "colab": {
          "base_uri": "https://localhost:8080/",
          "height": 119
        }
      },
      "cell_type": "code",
      "source": [
        "df_train['damage_grade'].head()"
      ],
      "execution_count": 0,
      "outputs": [
        {
          "output_type": "execute_result",
          "data": {
            "text/plain": [
              "0    Grade 4\n",
              "1    Grade 2\n",
              "2    Grade 1\n",
              "3    Grade 5\n",
              "4    Grade 3\n",
              "Name: damage_grade, dtype: object"
            ]
          },
          "metadata": {
            "tags": []
          },
          "execution_count": 270
        }
      ]
    },
    {
      "metadata": {
        "id": "ruIlWDFIEo2r",
        "colab_type": "text"
      },
      "cell_type": "markdown",
      "source": [
        "*import the test dataset and join the extra datasets' columns to the test dataset having the building ID as the primary variable*"
      ]
    },
    {
      "metadata": {
        "id": "Jl5mdkxXFGia",
        "colab_type": "text"
      },
      "cell_type": "markdown",
      "source": [
        "*splitting the train data into train and output variable to split it further*"
      ]
    },
    {
      "metadata": {
        "id": "8E-qPIF3z955",
        "colab_type": "code",
        "colab": {}
      },
      "cell_type": "code",
      "source": [
        "df_train=df_train.dropna()\n",
        "y=df_train.damage_grade\n",
        "df_train=df_train.select_dtypes([np.number])\n",
        "x=df_train"
      ],
      "execution_count": 0,
      "outputs": []
    },
    {
      "metadata": {
        "id": "iI4kS7wwFPcz",
        "colab_type": "text"
      },
      "cell_type": "markdown",
      "source": [
        "*split the train data into train and validation dataset with the test size as 25%*\n",
        "\n",
        "#### Train the data using the Extra trees classifier and test it on the validation data"
      ]
    },
    {
      "metadata": {
        "id": "glCxSO2gucmk",
        "colab_type": "code",
        "outputId": "5b37c215-5c66-48da-8d92-a50c9b0f4132",
        "colab": {
          "base_uri": "https://localhost:8080/",
          "height": 88
        }
      },
      "cell_type": "code",
      "source": [
        "\n",
        "x_train, x_test, y_train, y_test=train_test_split(x, y, test_size=0.25)\n",
        "clf=ExtraTreesClassifier()\n",
        "clf.fit(x_train, y_train)\n",
        "y_pred=clf.predict(x_test)\n",
        "\n",
        "accuracy_score(y_test, y_pred)"
      ],
      "execution_count": 0,
      "outputs": [
        {
          "output_type": "stream",
          "text": [
            "/usr/local/lib/python3.6/dist-packages/sklearn/ensemble/forest.py:246: FutureWarning: The default value of n_estimators will change from 10 in version 0.20 to 100 in 0.22.\n",
            "  \"10 in version 0.20 to 100 in 0.22.\", FutureWarning)\n"
          ],
          "name": "stderr"
        },
        {
          "output_type": "execute_result",
          "data": {
            "text/plain": [
              "0.688615930100038"
            ]
          },
          "metadata": {
            "tags": []
          },
          "execution_count": 277
        }
      ]
    },
    {
      "metadata": {
        "id": "OJUzNYFkFl4j",
        "colab_type": "text"
      },
      "cell_type": "markdown",
      "source": [
        "# PHASE 2"
      ]
    },
    {
      "metadata": {
        "id": "vLzMNLUaGBhC",
        "colab_type": "text"
      },
      "cell_type": "markdown",
      "source": [
        "*import the data sets into the colab *"
      ]
    },
    {
      "metadata": {
        "id": "i5a8nxNJGYBk",
        "colab_type": "code",
        "colab": {}
      },
      "cell_type": "code",
      "source": [
        "df_train = pd.read_csv('gdrive/My Drive/Colab Notebooks/Dataset/train.csv')\n",
        "df_train2 = pd.read_csv('gdrive/My Drive/Colab Notebooks/Dataset/Building_Ownership_Use.csv')\n",
        "df_train3 = pd.read_csv('gdrive/My Drive/Colab Notebooks/Dataset/Building_Structure.csv')\n",
        "\n",
        "del(df_train['area_assesed'])\n",
        "# del(df_train['building_id'])\n",
        "del(df_train['district_id'])\n",
        "del(df_train['has_repair_started'])\n",
        "del(df_train[\"vdcmun_id\"])\n",
        "df_train=pd.merge(df_train, df_train2, on='building_id')\n",
        "df_train=pd.merge(df_train, df_train3, on='building_id')\n",
        "del(df_train['building_id'])"
      ],
      "execution_count": 0,
      "outputs": []
    },
    {
      "metadata": {
        "id": "m_ycs6LJGaTQ",
        "colab_type": "code",
        "outputId": "e4ac52db-2f55-4399-9fab-3c3c15d5f6e2",
        "colab": {
          "base_uri": "https://localhost:8080/",
          "height": 304
        }
      },
      "cell_type": "code",
      "source": [
        "df_train.head()"
      ],
      "execution_count": 291,
      "outputs": [
        {
          "output_type": "execute_result",
          "data": {
            "text/html": [
              "<div>\n",
              "<style scoped>\n",
              "    .dataframe tbody tr th:only-of-type {\n",
              "        vertical-align: middle;\n",
              "    }\n",
              "\n",
              "    .dataframe tbody tr th {\n",
              "        vertical-align: top;\n",
              "    }\n",
              "\n",
              "    .dataframe thead th {\n",
              "        text-align: right;\n",
              "    }\n",
              "</style>\n",
              "<table border=\"1\" class=\"dataframe\">\n",
              "  <thead>\n",
              "    <tr style=\"text-align: right;\">\n",
              "      <th></th>\n",
              "      <th>damage_grade</th>\n",
              "      <th>has_geotechnical_risk</th>\n",
              "      <th>has_geotechnical_risk_fault_crack</th>\n",
              "      <th>has_geotechnical_risk_flood</th>\n",
              "      <th>has_geotechnical_risk_land_settlement</th>\n",
              "      <th>has_geotechnical_risk_landslide</th>\n",
              "      <th>has_geotechnical_risk_liquefaction</th>\n",
              "      <th>has_geotechnical_risk_other</th>\n",
              "      <th>has_geotechnical_risk_rock_fall</th>\n",
              "      <th>district_id_x</th>\n",
              "      <th>...</th>\n",
              "      <th>has_superstructure_stone_flag</th>\n",
              "      <th>has_superstructure_cement_mortar_stone</th>\n",
              "      <th>has_superstructure_mud_mortar_brick</th>\n",
              "      <th>has_superstructure_cement_mortar_brick</th>\n",
              "      <th>has_superstructure_timber</th>\n",
              "      <th>has_superstructure_bamboo</th>\n",
              "      <th>has_superstructure_rc_non_engineered</th>\n",
              "      <th>has_superstructure_rc_engineered</th>\n",
              "      <th>has_superstructure_other</th>\n",
              "      <th>condition_post_eq</th>\n",
              "    </tr>\n",
              "  </thead>\n",
              "  <tbody>\n",
              "    <tr>\n",
              "      <th>0</th>\n",
              "      <td>Grade 4</td>\n",
              "      <td>0.0</td>\n",
              "      <td>0</td>\n",
              "      <td>0</td>\n",
              "      <td>0</td>\n",
              "      <td>0</td>\n",
              "      <td>0</td>\n",
              "      <td>0</td>\n",
              "      <td>0</td>\n",
              "      <td>24</td>\n",
              "      <td>...</td>\n",
              "      <td>0</td>\n",
              "      <td>0</td>\n",
              "      <td>0</td>\n",
              "      <td>0</td>\n",
              "      <td>0</td>\n",
              "      <td>0</td>\n",
              "      <td>0</td>\n",
              "      <td>0</td>\n",
              "      <td>0</td>\n",
              "      <td>Damaged-Not used</td>\n",
              "    </tr>\n",
              "    <tr>\n",
              "      <th>1</th>\n",
              "      <td>Grade 2</td>\n",
              "      <td>0.0</td>\n",
              "      <td>0</td>\n",
              "      <td>0</td>\n",
              "      <td>0</td>\n",
              "      <td>0</td>\n",
              "      <td>0</td>\n",
              "      <td>0</td>\n",
              "      <td>0</td>\n",
              "      <td>44</td>\n",
              "      <td>...</td>\n",
              "      <td>0</td>\n",
              "      <td>0</td>\n",
              "      <td>1</td>\n",
              "      <td>0</td>\n",
              "      <td>0</td>\n",
              "      <td>0</td>\n",
              "      <td>0</td>\n",
              "      <td>0</td>\n",
              "      <td>0</td>\n",
              "      <td>Damaged-Repaired and used</td>\n",
              "    </tr>\n",
              "    <tr>\n",
              "      <th>2</th>\n",
              "      <td>Grade 1</td>\n",
              "      <td>0.0</td>\n",
              "      <td>0</td>\n",
              "      <td>0</td>\n",
              "      <td>0</td>\n",
              "      <td>0</td>\n",
              "      <td>0</td>\n",
              "      <td>0</td>\n",
              "      <td>0</td>\n",
              "      <td>36</td>\n",
              "      <td>...</td>\n",
              "      <td>0</td>\n",
              "      <td>0</td>\n",
              "      <td>0</td>\n",
              "      <td>0</td>\n",
              "      <td>0</td>\n",
              "      <td>0</td>\n",
              "      <td>0</td>\n",
              "      <td>1</td>\n",
              "      <td>0</td>\n",
              "      <td>Not damaged</td>\n",
              "    </tr>\n",
              "    <tr>\n",
              "      <th>3</th>\n",
              "      <td>Grade 5</td>\n",
              "      <td>0.0</td>\n",
              "      <td>0</td>\n",
              "      <td>0</td>\n",
              "      <td>0</td>\n",
              "      <td>0</td>\n",
              "      <td>0</td>\n",
              "      <td>0</td>\n",
              "      <td>0</td>\n",
              "      <td>30</td>\n",
              "      <td>...</td>\n",
              "      <td>0</td>\n",
              "      <td>0</td>\n",
              "      <td>0</td>\n",
              "      <td>0</td>\n",
              "      <td>0</td>\n",
              "      <td>0</td>\n",
              "      <td>0</td>\n",
              "      <td>0</td>\n",
              "      <td>0</td>\n",
              "      <td>Damaged-Rubble clear</td>\n",
              "    </tr>\n",
              "    <tr>\n",
              "      <th>4</th>\n",
              "      <td>Grade 3</td>\n",
              "      <td>0.0</td>\n",
              "      <td>0</td>\n",
              "      <td>0</td>\n",
              "      <td>0</td>\n",
              "      <td>0</td>\n",
              "      <td>0</td>\n",
              "      <td>0</td>\n",
              "      <td>0</td>\n",
              "      <td>36</td>\n",
              "      <td>...</td>\n",
              "      <td>0</td>\n",
              "      <td>0</td>\n",
              "      <td>0</td>\n",
              "      <td>0</td>\n",
              "      <td>0</td>\n",
              "      <td>0</td>\n",
              "      <td>0</td>\n",
              "      <td>0</td>\n",
              "      <td>0</td>\n",
              "      <td>Damaged-Used in risk</td>\n",
              "    </tr>\n",
              "  </tbody>\n",
              "</table>\n",
              "<p>5 rows × 53 columns</p>\n",
              "</div>"
            ],
            "text/plain": [
              "  damage_grade  has_geotechnical_risk  has_geotechnical_risk_fault_crack  \\\n",
              "0      Grade 4                    0.0                                  0   \n",
              "1      Grade 2                    0.0                                  0   \n",
              "2      Grade 1                    0.0                                  0   \n",
              "3      Grade 5                    0.0                                  0   \n",
              "4      Grade 3                    0.0                                  0   \n",
              "\n",
              "   has_geotechnical_risk_flood  has_geotechnical_risk_land_settlement  \\\n",
              "0                            0                                      0   \n",
              "1                            0                                      0   \n",
              "2                            0                                      0   \n",
              "3                            0                                      0   \n",
              "4                            0                                      0   \n",
              "\n",
              "   has_geotechnical_risk_landslide  has_geotechnical_risk_liquefaction  \\\n",
              "0                                0                                   0   \n",
              "1                                0                                   0   \n",
              "2                                0                                   0   \n",
              "3                                0                                   0   \n",
              "4                                0                                   0   \n",
              "\n",
              "   has_geotechnical_risk_other  has_geotechnical_risk_rock_fall  \\\n",
              "0                            0                                0   \n",
              "1                            0                                0   \n",
              "2                            0                                0   \n",
              "3                            0                                0   \n",
              "4                            0                                0   \n",
              "\n",
              "   district_id_x            ...              has_superstructure_stone_flag  \\\n",
              "0             24            ...                                          0   \n",
              "1             44            ...                                          0   \n",
              "2             36            ...                                          0   \n",
              "3             30            ...                                          0   \n",
              "4             36            ...                                          0   \n",
              "\n",
              "   has_superstructure_cement_mortar_stone has_superstructure_mud_mortar_brick  \\\n",
              "0                                       0                                   0   \n",
              "1                                       0                                   1   \n",
              "2                                       0                                   0   \n",
              "3                                       0                                   0   \n",
              "4                                       0                                   0   \n",
              "\n",
              "   has_superstructure_cement_mortar_brick  has_superstructure_timber  \\\n",
              "0                                       0                          0   \n",
              "1                                       0                          0   \n",
              "2                                       0                          0   \n",
              "3                                       0                          0   \n",
              "4                                       0                          0   \n",
              "\n",
              "   has_superstructure_bamboo  has_superstructure_rc_non_engineered  \\\n",
              "0                          0                                     0   \n",
              "1                          0                                     0   \n",
              "2                          0                                     0   \n",
              "3                          0                                     0   \n",
              "4                          0                                     0   \n",
              "\n",
              "   has_superstructure_rc_engineered  has_superstructure_other  \\\n",
              "0                                 0                         0   \n",
              "1                                 0                         0   \n",
              "2                                 1                         0   \n",
              "3                                 0                         0   \n",
              "4                                 0                         0   \n",
              "\n",
              "           condition_post_eq  \n",
              "0           Damaged-Not used  \n",
              "1  Damaged-Repaired and used  \n",
              "2                Not damaged  \n",
              "3       Damaged-Rubble clear  \n",
              "4       Damaged-Used in risk  \n",
              "\n",
              "[5 rows x 53 columns]"
            ]
          },
          "metadata": {
            "tags": []
          },
          "execution_count": 291
        }
      ]
    },
    {
      "metadata": {
        "id": "2exe7DcWHnEK",
        "colab_type": "text"
      },
      "cell_type": "markdown",
      "source": [
        "*label Encoding the variables*"
      ]
    },
    {
      "metadata": {
        "id": "XWay3XnSGb0K",
        "colab_type": "code",
        "colab": {}
      },
      "cell_type": "code",
      "source": [
        "df_train=df_train.apply(LabelEncoder().fit_transform)"
      ],
      "execution_count": 0,
      "outputs": []
    },
    {
      "metadata": {
        "id": "qsHbJ4uRTBs0",
        "colab_type": "code",
        "colab": {}
      },
      "cell_type": "code",
      "source": [
        "remove=['vdcmun_id_x', 'ward_id_x', 'district_id_y', 'vdcmun_id_y', 'ward_id_y']\n",
        "for i in remove:\n",
        "  del(df_train[i])"
      ],
      "execution_count": 0,
      "outputs": []
    },
    {
      "metadata": {
        "id": "X8Rdud2hVVV-",
        "colab_type": "text"
      },
      "cell_type": "markdown",
      "source": [
        "*Corrrelation between the value Y and the rest of the variables*"
      ]
    },
    {
      "metadata": {
        "id": "CcC71s-pU-xA",
        "colab_type": "code",
        "outputId": "b5d3ebbd-b61e-41b8-9aa4-f6bac654abb6",
        "colab": {
          "base_uri": "https://localhost:8080/",
          "height": 850
        }
      },
      "cell_type": "code",
      "source": [
        "df_train.corr()['damage_grade']"
      ],
      "execution_count": 294,
      "outputs": [
        {
          "output_type": "execute_result",
          "data": {
            "text/plain": [
              "damage_grade                              1.000000\n",
              "has_geotechnical_risk                     0.086293\n",
              "has_geotechnical_risk_fault_crack         0.098152\n",
              "has_geotechnical_risk_flood              -0.021316\n",
              "has_geotechnical_risk_land_settlement     0.057551\n",
              "has_geotechnical_risk_landslide           0.063065\n",
              "has_geotechnical_risk_liquefaction        0.001484\n",
              "has_geotechnical_risk_other              -0.002173\n",
              "has_geotechnical_risk_rock_fall           0.058279\n",
              "district_id_x                            -0.102444\n",
              "legal_ownership_status                   -0.081362\n",
              "count_families                            0.066395\n",
              "has_secondary_use                        -0.082237\n",
              "has_secondary_use_agriculture             0.026161\n",
              "has_secondary_use_hotel                  -0.112932\n",
              "has_secondary_use_rental                 -0.095129\n",
              "has_secondary_use_institution            -0.034927\n",
              "has_secondary_use_school                 -0.018036\n",
              "has_secondary_use_industry               -0.010701\n",
              "has_secondary_use_health_post            -0.008811\n",
              "has_secondary_use_gov_office             -0.009534\n",
              "has_secondary_use_use_police             -0.002591\n",
              "has_secondary_use_other                  -0.022153\n",
              "count_floors_pre_eq                       0.173777\n",
              "count_floors_post_eq                     -0.592553\n",
              "age_building                              0.164663\n",
              "plinth_area_sq_ft                        -0.150042\n",
              "height_ft_pre_eq                          0.079276\n",
              "height_ft_post_eq                        -0.531566\n",
              "land_surface_condition                    0.023783\n",
              "foundation_type                           0.013758\n",
              "roof_type                                -0.215399\n",
              "ground_floor_type                        -0.316316\n",
              "other_floor_type                          0.221498\n",
              "position                                 -0.050833\n",
              "plan_configuration                        0.056611\n",
              "has_superstructure_adobe_mud              0.087013\n",
              "has_superstructure_mud_mortar_stone       0.314609\n",
              "has_superstructure_stone_flag             0.056319\n",
              "has_superstructure_cement_mortar_stone   -0.074798\n",
              "has_superstructure_mud_mortar_brick       0.049749\n",
              "has_superstructure_cement_mortar_brick   -0.297147\n",
              "has_superstructure_timber                -0.079269\n",
              "has_superstructure_bamboo                -0.075515\n",
              "has_superstructure_rc_non_engineered     -0.191947\n",
              "has_superstructure_rc_engineered         -0.195764\n",
              "has_superstructure_other                 -0.031685\n",
              "condition_post_eq                        -0.078684\n",
              "Name: damage_grade, dtype: float64"
            ]
          },
          "metadata": {
            "tags": []
          },
          "execution_count": 294
        }
      ]
    },
    {
      "metadata": {
        "id": "ZwG7kPrqWNly",
        "colab_type": "text"
      },
      "cell_type": "markdown",
      "source": [
        "*The Heat map is plotted*"
      ]
    },
    {
      "metadata": {
        "id": "y6mYBSB2ywoW",
        "colab_type": "code",
        "outputId": "211dd340-f6c9-4e60-f4ca-d570f9e165b1",
        "colab": {
          "base_uri": "https://localhost:8080/",
          "height": 791
        }
      },
      "cell_type": "code",
      "source": [
        "plt.figure(figsize = (10,10))\n",
        "sns.heatmap(abs(df_train.corr()), linewidth=0.5)"
      ],
      "execution_count": 295,
      "outputs": [
        {
          "output_type": "execute_result",
          "data": {
            "text/plain": [
              "<matplotlib.axes._subplots.AxesSubplot at 0x7f3194b8c438>"
            ]
          },
          "metadata": {
            "tags": []
          },
          "execution_count": 295
        },
        {
          "output_type": "display_data",
          "data": {
            "image/png": "[encoded data removed]",
            "text/plain": [
              "<Figure size 720x720 with 2 Axes>"
            ]
          },
          "metadata": {
            "tags": []
          }
        }
      ]
    },
    {
      "metadata": {
        "id": "sUmasU_kRABL",
        "colab_type": "text"
      },
      "cell_type": "markdown",
      "source": [
        "*The damage grade distribution in the training set *"
      ]
    },
    {
      "metadata": {
        "id": "WWVlfL9GQ95r",
        "colab_type": "code",
        "outputId": "dcf7be56-7269-4781-ff67-d9e1038786f3",
        "colab": {
          "base_uri": "https://localhost:8080/",
          "height": 412
        }
      },
      "cell_type": "code",
      "source": [
        "sns.countplot(df_train['damage_grade'])"
      ],
      "execution_count": 296,
      "outputs": [
        {
          "output_type": "stream",
          "text": [
            "/usr/local/lib/python3.6/dist-packages/seaborn/categorical.py:1428: FutureWarning: remove_na is deprecated and is a private function. Do not use.\n",
            "  stat_data = remove_na(group_data)\n"
          ],
          "name": "stderr"
        },
        {
          "output_type": "execute_result",
          "data": {
            "text/plain": [
              "<matplotlib.axes._subplots.AxesSubplot at 0x7f3195a31390>"
            ]
          },
          "metadata": {
            "tags": []
          },
          "execution_count": 296
        },
        {
          "output_type": "display_data",
          "data": {
            "image/png": "[encoded data removed]",
            "text/plain": [
              "<Figure size 576x396 with 1 Axes>"
            ]
          },
          "metadata": {
            "tags": []
          }
        }
      ]
    },
    {
      "metadata": {
        "id": "CsxhX1QwPzsR",
        "colab_type": "text"
      },
      "cell_type": "markdown",
      "source": [
        ""
      ]
    },
    {
      "metadata": {
        "id": "uGHHoND_Q9NN",
        "colab_type": "code",
        "colab": {}
      },
      "cell_type": "code",
      "source": [
        "def plot_new_feature_distribution(df1, df2, df3, df4, df5, features):\n",
        "    i = 0\n",
        "    sns.set_style('whitegrid')\n",
        "    plt.figure()\n",
        "    fig, ax = plt.subplots(2,4,figsize=(18,8))\n",
        "\n",
        "    for feature in features:\n",
        "        i += 1\n",
        "        plt.subplot(2,4,i)\n",
        "        sns.kdeplot(df1[feature], bw=0.5,label=1)\n",
        "        sns.kdeplot(df2[feature], bw=0.5,label=2)\n",
        "        sns.kdeplot(df3[feature], bw=0.5,label=3)\n",
        "        sns.kdeplot(df4[feature], bw=0.5,label=4)\n",
        "        sns.kdeplot(df5[feature], bw=0.5,label=5)\n",
        "        plt.xlabel(feature, fontsize=11)\n",
        "        locs, labels = plt.xticks()\n",
        "        plt.tick_params(axis='x', which='major', labelsize=8)\n",
        "        plt.tick_params(axis='y', which='major', labelsize=8)\n",
        "    plt.show();"
      ],
      "execution_count": 0,
      "outputs": []
    },
    {
      "metadata": {
        "id": "bHaJyyB8SUjn",
        "colab_type": "code",
        "colab": {}
      },
      "cell_type": "code",
      "source": [
        "#these are the continous variables\n",
        "continuous_var=[\"count_floors_pre_eq\", \"count_floors_post_eq\", \"age_building\", \"plinth_area_sq_ft\", \"height_ft_pre_eq\", \"height_ft_post_eq\", \"count_families\"]\n",
        "cont_data=pd.DataFrame(df_train[\"count_floors_pre_eq\"])\n",
        "for i in continuous_var:\n",
        "  cont_data[i]=df_train[i]\n",
        "cont_data['damage_grade']=df_train['damage_grade']\n",
        "t0 = cont_data.loc[cont_data['damage_grade'] == 0]\n",
        "t1 = cont_data.loc[cont_data['damage_grade'] == 1]\n",
        "t2 = cont_data.loc[cont_data['damage_grade'] == 2]\n",
        "t3 = cont_data.loc[cont_data['damage_grade'] == 3]\n",
        "t4 = cont_data.loc[cont_data['damage_grade'] == 4]\n",
        "\n",
        "features = cont_data.columns.values[202:]\n",
        "# plot_new_feature_distribution(t1, t2, t3, t4, t5, features)\n",
        "# t1.head()\n"
      ],
      "execution_count": 0,
      "outputs": []
    },
    {
      "metadata": {
        "id": "st_KpGHCqgQZ",
        "colab_type": "code",
        "outputId": "b7339636-4571-4396-b703-67746311ba36",
        "colab": {
          "base_uri": "https://localhost:8080/",
          "height": 204
        }
      },
      "cell_type": "code",
      "source": [
        "t0.head()"
      ],
      "execution_count": 299,
      "outputs": [
        {
          "output_type": "execute_result",
          "data": {
            "text/html": [
              "<div>\n",
              "<style scoped>\n",
              "    .dataframe tbody tr th:only-of-type {\n",
              "        vertical-align: middle;\n",
              "    }\n",
              "\n",
              "    .dataframe tbody tr th {\n",
              "        vertical-align: top;\n",
              "    }\n",
              "\n",
              "    .dataframe thead th {\n",
              "        text-align: right;\n",
              "    }\n",
              "</style>\n",
              "<table border=\"1\" class=\"dataframe\">\n",
              "  <thead>\n",
              "    <tr style=\"text-align: right;\">\n",
              "      <th></th>\n",
              "      <th>count_floors_pre_eq</th>\n",
              "      <th>count_floors_post_eq</th>\n",
              "      <th>age_building</th>\n",
              "      <th>plinth_area_sq_ft</th>\n",
              "      <th>height_ft_pre_eq</th>\n",
              "      <th>height_ft_post_eq</th>\n",
              "      <th>count_families</th>\n",
              "      <th>damage_grade</th>\n",
              "    </tr>\n",
              "  </thead>\n",
              "  <tbody>\n",
              "    <tr>\n",
              "      <th>2</th>\n",
              "      <td>2</td>\n",
              "      <td>3</td>\n",
              "      <td>2</td>\n",
              "      <td>629</td>\n",
              "      <td>15</td>\n",
              "      <td>16</td>\n",
              "      <td>1</td>\n",
              "      <td>0</td>\n",
              "    </tr>\n",
              "    <tr>\n",
              "      <th>8</th>\n",
              "      <td>1</td>\n",
              "      <td>2</td>\n",
              "      <td>1</td>\n",
              "      <td>549</td>\n",
              "      <td>6</td>\n",
              "      <td>7</td>\n",
              "      <td>1</td>\n",
              "      <td>0</td>\n",
              "    </tr>\n",
              "    <tr>\n",
              "      <th>32</th>\n",
              "      <td>1</td>\n",
              "      <td>2</td>\n",
              "      <td>12</td>\n",
              "      <td>193</td>\n",
              "      <td>8</td>\n",
              "      <td>9</td>\n",
              "      <td>0</td>\n",
              "      <td>0</td>\n",
              "    </tr>\n",
              "    <tr>\n",
              "      <th>57</th>\n",
              "      <td>1</td>\n",
              "      <td>2</td>\n",
              "      <td>11</td>\n",
              "      <td>477</td>\n",
              "      <td>11</td>\n",
              "      <td>12</td>\n",
              "      <td>1</td>\n",
              "      <td>0</td>\n",
              "    </tr>\n",
              "    <tr>\n",
              "      <th>63</th>\n",
              "      <td>0</td>\n",
              "      <td>1</td>\n",
              "      <td>3</td>\n",
              "      <td>229</td>\n",
              "      <td>5</td>\n",
              "      <td>6</td>\n",
              "      <td>1</td>\n",
              "      <td>0</td>\n",
              "    </tr>\n",
              "  </tbody>\n",
              "</table>\n",
              "</div>"
            ],
            "text/plain": [
              "    count_floors_pre_eq  count_floors_post_eq  age_building  \\\n",
              "2                     2                     3             2   \n",
              "8                     1                     2             1   \n",
              "32                    1                     2            12   \n",
              "57                    1                     2            11   \n",
              "63                    0                     1             3   \n",
              "\n",
              "    plinth_area_sq_ft  height_ft_pre_eq  height_ft_post_eq  count_families  \\\n",
              "2                 629                15                 16               1   \n",
              "8                 549                 6                  7               1   \n",
              "32                193                 8                  9               0   \n",
              "57                477                11                 12               1   \n",
              "63                229                 5                  6               1   \n",
              "\n",
              "    damage_grade  \n",
              "2              0  \n",
              "8              0  \n",
              "32             0  \n",
              "57             0  \n",
              "63             0  "
            ]
          },
          "metadata": {
            "tags": []
          },
          "execution_count": 299
        }
      ]
    },
    {
      "metadata": {
        "id": "5Qd42wQ2oTna",
        "colab_type": "code",
        "outputId": "674de7ca-97dd-4b19-bf83-1129e045a671",
        "colab": {
          "base_uri": "https://localhost:8080/",
          "height": 511
        }
      },
      "cell_type": "code",
      "source": [
        "i = 0\n",
        "sns.set_style('whitegrid')\n",
        "plt.figure()\n",
        "fig, ax = plt.subplots(2,4,figsize=(18,8))\n",
        "for feature in continuous_var:\n",
        "    i += 1\n",
        "    plt.subplot(2,4,i)\n",
        "    sns.kdeplot(t0[feature], bw=0.5,label=\"damage0\")\n",
        "    sns.kdeplot(t1[feature], bw=0.5,label=\"damage1\")\n",
        "    sns.kdeplot(t2[feature], bw=0.5,label=\"damage2\")\n",
        "    sns.kdeplot(t3[feature], bw=0.5,label=\"damage3\")\n",
        "    sns.kdeplot(t4[feature], bw=0.5,label=\"damage4\")\n",
        "    \n",
        "\n",
        "    plt.xlabel(feature, fontsize=11)\n",
        "    locs, labels = plt.xticks()\n",
        "    plt.tick_params(axis='x', which='major', labelsize=8)\n",
        "    plt.tick_params(axis='y', which='major', labelsize=8)\n",
        "plt.show();\n"
      ],
      "execution_count": 300,
      "outputs": [
        {
          "output_type": "display_data",
          "data": {
            "text/plain": [
              "<Figure size 576x396 with 0 Axes>"
            ]
          },
          "metadata": {
            "tags": []
          }
        },
        {
          "output_type": "display_data",
          "data": {
            "image/png": "[encoded data removed]",
            "text/plain": [
              "<Figure size 1296x576 with 8 Axes>"
            ]
          },
          "metadata": {
            "tags": []
          }
        }
      ]
    },
    {
      "metadata": {
        "id": "Dl1oPTu5lJ9i",
        "colab_type": "code",
        "outputId": "9f15e4eb-0d02-4fd3-eb86-4232b5f2c942",
        "colab": {
          "base_uri": "https://localhost:8080/",
          "height": 698
        }
      },
      "cell_type": "code",
      "source": [
        "plt.figure(figsize = (10,10))\n",
        "sns.heatmap(abs(cont_data.corr()), linewidth=0.5)"
      ],
      "execution_count": 301,
      "outputs": [
        {
          "output_type": "execute_result",
          "data": {
            "text/plain": [
              "<matplotlib.axes._subplots.AxesSubplot at 0x7f31a50869b0>"
            ]
          },
          "metadata": {
            "tags": []
          },
          "execution_count": 301
        },
        {
          "output_type": "display_data",
          "data": {
            "image/png": "[encoded data removed]",
            "text/plain": [
              "<Figure size 720x720 with 2 Axes>"
            ]
          },
          "metadata": {
            "tags": []
          }
        }
      ]
    },
    {
      "metadata": {
        "id": "MSXQrgHvss8I",
        "colab_type": "text"
      },
      "cell_type": "markdown",
      "source": [
        "*feature Engineering*"
      ]
    },
    {
      "metadata": {
        "id": "dJrzBOpVoB5X",
        "colab_type": "code",
        "colab": {}
      },
      "cell_type": "code",
      "source": [
        "# \"count_floors_pre_eq\", \"count_floors_post_eq\", \"age_building\", \"plinth_area_sq_ft\", \"height_ft_pre_eq\", \"height_ft_post_eq\", \"count_families\"\n",
        "cont_data['add1']=cont_data['height_ft_post_eq']+cont_data['count_floors_post_eq']\n",
        "cont_data['add2']=cont_data['height_ft_post_eq']-cont_data['count_floors_post_eq']\n",
        "cont_data['add3']=cont_data['age_building']+cont_data['count_floors_pre_eq']\n",
        "cont_data['add4']=cont_data['age_building']-cont_data['count_floors_pre_eq']\n",
        "# cont_data['add5']=cont_data['count_floors_pre_eq']+cont_data['count_floors_post_eq']\n",
        "# cont_data['add6']=cont_data['count_floors_pre_eq']-cont_data['count_floors_post_eq']\n",
        "# cont_data['add7']=cont_data['height_ft_pre_eq']+cont_data['count_floors_pre_eq']\n",
        "# cont_data['add8']=cont_data['height_ft_pre_eq']+cont_data['count_floors_pre_eq']"
      ],
      "execution_count": 0,
      "outputs": []
    },
    {
      "metadata": {
        "id": "KJU-HICdxvw2",
        "colab_type": "code",
        "outputId": "6b24e199-e93e-4489-a520-eb9b2e239461",
        "colab": {
          "base_uri": "https://localhost:8080/",
          "height": 224
        }
      },
      "cell_type": "code",
      "source": [
        "cont_data.head()"
      ],
      "execution_count": 303,
      "outputs": [
        {
          "output_type": "execute_result",
          "data": {
            "text/html": [
              "<div>\n",
              "<style scoped>\n",
              "    .dataframe tbody tr th:only-of-type {\n",
              "        vertical-align: middle;\n",
              "    }\n",
              "\n",
              "    .dataframe tbody tr th {\n",
              "        vertical-align: top;\n",
              "    }\n",
              "\n",
              "    .dataframe thead th {\n",
              "        text-align: right;\n",
              "    }\n",
              "</style>\n",
              "<table border=\"1\" class=\"dataframe\">\n",
              "  <thead>\n",
              "    <tr style=\"text-align: right;\">\n",
              "      <th></th>\n",
              "      <th>count_floors_pre_eq</th>\n",
              "      <th>count_floors_post_eq</th>\n",
              "      <th>age_building</th>\n",
              "      <th>plinth_area_sq_ft</th>\n",
              "      <th>height_ft_pre_eq</th>\n",
              "      <th>height_ft_post_eq</th>\n",
              "      <th>count_families</th>\n",
              "      <th>damage_grade</th>\n",
              "      <th>add1</th>\n",
              "      <th>add2</th>\n",
              "      <th>add3</th>\n",
              "      <th>add4</th>\n",
              "    </tr>\n",
              "  </thead>\n",
              "  <tbody>\n",
              "    <tr>\n",
              "      <th>0</th>\n",
              "      <td>2</td>\n",
              "      <td>3</td>\n",
              "      <td>21</td>\n",
              "      <td>314</td>\n",
              "      <td>14</td>\n",
              "      <td>15</td>\n",
              "      <td>2</td>\n",
              "      <td>3</td>\n",
              "      <td>18</td>\n",
              "      <td>12</td>\n",
              "      <td>23</td>\n",
              "      <td>19</td>\n",
              "    </tr>\n",
              "    <tr>\n",
              "      <th>1</th>\n",
              "      <td>2</td>\n",
              "      <td>3</td>\n",
              "      <td>33</td>\n",
              "      <td>531</td>\n",
              "      <td>18</td>\n",
              "      <td>19</td>\n",
              "      <td>1</td>\n",
              "      <td>1</td>\n",
              "      <td>22</td>\n",
              "      <td>16</td>\n",
              "      <td>35</td>\n",
              "      <td>31</td>\n",
              "    </tr>\n",
              "    <tr>\n",
              "      <th>2</th>\n",
              "      <td>2</td>\n",
              "      <td>3</td>\n",
              "      <td>2</td>\n",
              "      <td>629</td>\n",
              "      <td>15</td>\n",
              "      <td>16</td>\n",
              "      <td>1</td>\n",
              "      <td>0</td>\n",
              "      <td>19</td>\n",
              "      <td>13</td>\n",
              "      <td>4</td>\n",
              "      <td>0</td>\n",
              "    </tr>\n",
              "    <tr>\n",
              "      <th>3</th>\n",
              "      <td>2</td>\n",
              "      <td>0</td>\n",
              "      <td>3</td>\n",
              "      <td>244</td>\n",
              "      <td>14</td>\n",
              "      <td>0</td>\n",
              "      <td>1</td>\n",
              "      <td>4</td>\n",
              "      <td>0</td>\n",
              "      <td>0</td>\n",
              "      <td>5</td>\n",
              "      <td>1</td>\n",
              "    </tr>\n",
              "    <tr>\n",
              "      <th>4</th>\n",
              "      <td>1</td>\n",
              "      <td>2</td>\n",
              "      <td>22</td>\n",
              "      <td>214</td>\n",
              "      <td>12</td>\n",
              "      <td>13</td>\n",
              "      <td>1</td>\n",
              "      <td>2</td>\n",
              "      <td>15</td>\n",
              "      <td>11</td>\n",
              "      <td>23</td>\n",
              "      <td>21</td>\n",
              "    </tr>\n",
              "  </tbody>\n",
              "</table>\n",
              "</div>"
            ],
            "text/plain": [
              "   count_floors_pre_eq  count_floors_post_eq  age_building  plinth_area_sq_ft  \\\n",
              "0                    2                     3            21                314   \n",
              "1                    2                     3            33                531   \n",
              "2                    2                     3             2                629   \n",
              "3                    2                     0             3                244   \n",
              "4                    1                     2            22                214   \n",
              "\n",
              "   height_ft_pre_eq  height_ft_post_eq  count_families  damage_grade  add1  \\\n",
              "0                14                 15               2             3    18   \n",
              "1                18                 19               1             1    22   \n",
              "2                15                 16               1             0    19   \n",
              "3                14                  0               1             4     0   \n",
              "4                12                 13               1             2    15   \n",
              "\n",
              "   add2  add3  add4  \n",
              "0    12    23    19  \n",
              "1    16    35    31  \n",
              "2    13     4     0  \n",
              "3     0     5     1  \n",
              "4    11    23    21  "
            ]
          },
          "metadata": {
            "tags": []
          },
          "execution_count": 303
        }
      ]
    },
    {
      "metadata": {
        "id": "EeDan-bD0iAb",
        "colab_type": "code",
        "outputId": "26924fff-3c20-444e-f52d-0ba44602bec5",
        "colab": {
          "base_uri": "https://localhost:8080/",
          "height": 34
        }
      },
      "cell_type": "code",
      "source": [
        "cont_data.shape"
      ],
      "execution_count": 304,
      "outputs": [
        {
          "output_type": "execute_result",
          "data": {
            "text/plain": [
              "(631761, 12)"
            ]
          },
          "metadata": {
            "tags": []
          },
          "execution_count": 304
        }
      ]
    },
    {
      "metadata": {
        "id": "OOOpNa210k1-",
        "colab_type": "code",
        "outputId": "697e67da-2962-4a7e-a1b3-d62e25b10355",
        "colab": {
          "base_uri": "https://localhost:8080/",
          "height": 34
        }
      },
      "cell_type": "code",
      "source": [
        "df_train.shape"
      ],
      "execution_count": 305,
      "outputs": [
        {
          "output_type": "execute_result",
          "data": {
            "text/plain": [
              "(631761, 48)"
            ]
          },
          "metadata": {
            "tags": []
          },
          "execution_count": 305
        }
      ]
    },
    {
      "metadata": {
        "id": "LmMkLkE833dM",
        "colab_type": "code",
        "colab": {}
      },
      "cell_type": "code",
      "source": [
        "del(df_train['damage_grade'])"
      ],
      "execution_count": 0,
      "outputs": []
    },
    {
      "metadata": {
        "id": "3ibUd2ozUdwT",
        "colab_type": "code",
        "outputId": "87141ca3-c5db-4713-d4e9-9c1e507d5684",
        "colab": {
          "base_uri": "https://localhost:8080/",
          "height": 253
        }
      },
      "cell_type": "code",
      "source": [
        "result = pd.concat([df_train, cont_data], axis=1)\n",
        "result.head()"
      ],
      "execution_count": 307,
      "outputs": [
        {
          "output_type": "execute_result",
          "data": {
            "text/html": [
              "<div>\n",
              "<style scoped>\n",
              "    .dataframe tbody tr th:only-of-type {\n",
              "        vertical-align: middle;\n",
              "    }\n",
              "\n",
              "    .dataframe tbody tr th {\n",
              "        vertical-align: top;\n",
              "    }\n",
              "\n",
              "    .dataframe thead th {\n",
              "        text-align: right;\n",
              "    }\n",
              "</style>\n",
              "<table border=\"1\" class=\"dataframe\">\n",
              "  <thead>\n",
              "    <tr style=\"text-align: right;\">\n",
              "      <th></th>\n",
              "      <th>has_geotechnical_risk</th>\n",
              "      <th>has_geotechnical_risk_fault_crack</th>\n",
              "      <th>has_geotechnical_risk_flood</th>\n",
              "      <th>has_geotechnical_risk_land_settlement</th>\n",
              "      <th>has_geotechnical_risk_landslide</th>\n",
              "      <th>has_geotechnical_risk_liquefaction</th>\n",
              "      <th>has_geotechnical_risk_other</th>\n",
              "      <th>has_geotechnical_risk_rock_fall</th>\n",
              "      <th>district_id_x</th>\n",
              "      <th>legal_ownership_status</th>\n",
              "      <th>...</th>\n",
              "      <th>age_building</th>\n",
              "      <th>plinth_area_sq_ft</th>\n",
              "      <th>height_ft_pre_eq</th>\n",
              "      <th>height_ft_post_eq</th>\n",
              "      <th>count_families</th>\n",
              "      <th>damage_grade</th>\n",
              "      <th>add1</th>\n",
              "      <th>add2</th>\n",
              "      <th>add3</th>\n",
              "      <th>add4</th>\n",
              "    </tr>\n",
              "  </thead>\n",
              "  <tbody>\n",
              "    <tr>\n",
              "      <th>0</th>\n",
              "      <td>0</td>\n",
              "      <td>0</td>\n",
              "      <td>0</td>\n",
              "      <td>0</td>\n",
              "      <td>0</td>\n",
              "      <td>0</td>\n",
              "      <td>0</td>\n",
              "      <td>0</td>\n",
              "      <td>10</td>\n",
              "      <td>2</td>\n",
              "      <td>...</td>\n",
              "      <td>21</td>\n",
              "      <td>314</td>\n",
              "      <td>14</td>\n",
              "      <td>15</td>\n",
              "      <td>2</td>\n",
              "      <td>3</td>\n",
              "      <td>18</td>\n",
              "      <td>12</td>\n",
              "      <td>23</td>\n",
              "      <td>19</td>\n",
              "    </tr>\n",
              "    <tr>\n",
              "      <th>1</th>\n",
              "      <td>0</td>\n",
              "      <td>0</td>\n",
              "      <td>0</td>\n",
              "      <td>0</td>\n",
              "      <td>0</td>\n",
              "      <td>0</td>\n",
              "      <td>0</td>\n",
              "      <td>0</td>\n",
              "      <td>25</td>\n",
              "      <td>2</td>\n",
              "      <td>...</td>\n",
              "      <td>33</td>\n",
              "      <td>531</td>\n",
              "      <td>18</td>\n",
              "      <td>19</td>\n",
              "      <td>1</td>\n",
              "      <td>1</td>\n",
              "      <td>22</td>\n",
              "      <td>16</td>\n",
              "      <td>35</td>\n",
              "      <td>31</td>\n",
              "    </tr>\n",
              "    <tr>\n",
              "      <th>2</th>\n",
              "      <td>0</td>\n",
              "      <td>0</td>\n",
              "      <td>0</td>\n",
              "      <td>0</td>\n",
              "      <td>0</td>\n",
              "      <td>0</td>\n",
              "      <td>0</td>\n",
              "      <td>0</td>\n",
              "      <td>19</td>\n",
              "      <td>2</td>\n",
              "      <td>...</td>\n",
              "      <td>2</td>\n",
              "      <td>629</td>\n",
              "      <td>15</td>\n",
              "      <td>16</td>\n",
              "      <td>1</td>\n",
              "      <td>0</td>\n",
              "      <td>19</td>\n",
              "      <td>13</td>\n",
              "      <td>4</td>\n",
              "      <td>0</td>\n",
              "    </tr>\n",
              "    <tr>\n",
              "      <th>3</th>\n",
              "      <td>0</td>\n",
              "      <td>0</td>\n",
              "      <td>0</td>\n",
              "      <td>0</td>\n",
              "      <td>0</td>\n",
              "      <td>0</td>\n",
              "      <td>0</td>\n",
              "      <td>0</td>\n",
              "      <td>16</td>\n",
              "      <td>2</td>\n",
              "      <td>...</td>\n",
              "      <td>3</td>\n",
              "      <td>244</td>\n",
              "      <td>14</td>\n",
              "      <td>0</td>\n",
              "      <td>1</td>\n",
              "      <td>4</td>\n",
              "      <td>0</td>\n",
              "      <td>0</td>\n",
              "      <td>5</td>\n",
              "      <td>1</td>\n",
              "    </tr>\n",
              "    <tr>\n",
              "      <th>4</th>\n",
              "      <td>0</td>\n",
              "      <td>0</td>\n",
              "      <td>0</td>\n",
              "      <td>0</td>\n",
              "      <td>0</td>\n",
              "      <td>0</td>\n",
              "      <td>0</td>\n",
              "      <td>0</td>\n",
              "      <td>19</td>\n",
              "      <td>2</td>\n",
              "      <td>...</td>\n",
              "      <td>22</td>\n",
              "      <td>214</td>\n",
              "      <td>12</td>\n",
              "      <td>13</td>\n",
              "      <td>1</td>\n",
              "      <td>2</td>\n",
              "      <td>15</td>\n",
              "      <td>11</td>\n",
              "      <td>23</td>\n",
              "      <td>21</td>\n",
              "    </tr>\n",
              "  </tbody>\n",
              "</table>\n",
              "<p>5 rows × 59 columns</p>\n",
              "</div>"
            ],
            "text/plain": [
              "   has_geotechnical_risk  has_geotechnical_risk_fault_crack  \\\n",
              "0                      0                                  0   \n",
              "1                      0                                  0   \n",
              "2                      0                                  0   \n",
              "3                      0                                  0   \n",
              "4                      0                                  0   \n",
              "\n",
              "   has_geotechnical_risk_flood  has_geotechnical_risk_land_settlement  \\\n",
              "0                            0                                      0   \n",
              "1                            0                                      0   \n",
              "2                            0                                      0   \n",
              "3                            0                                      0   \n",
              "4                            0                                      0   \n",
              "\n",
              "   has_geotechnical_risk_landslide  has_geotechnical_risk_liquefaction  \\\n",
              "0                                0                                   0   \n",
              "1                                0                                   0   \n",
              "2                                0                                   0   \n",
              "3                                0                                   0   \n",
              "4                                0                                   0   \n",
              "\n",
              "   has_geotechnical_risk_other  has_geotechnical_risk_rock_fall  \\\n",
              "0                            0                                0   \n",
              "1                            0                                0   \n",
              "2                            0                                0   \n",
              "3                            0                                0   \n",
              "4                            0                                0   \n",
              "\n",
              "   district_id_x  legal_ownership_status  ...   age_building  \\\n",
              "0             10                       2  ...             21   \n",
              "1             25                       2  ...             33   \n",
              "2             19                       2  ...              2   \n",
              "3             16                       2  ...              3   \n",
              "4             19                       2  ...             22   \n",
              "\n",
              "   plinth_area_sq_ft  height_ft_pre_eq  height_ft_post_eq  count_families  \\\n",
              "0                314                14                 15               2   \n",
              "1                531                18                 19               1   \n",
              "2                629                15                 16               1   \n",
              "3                244                14                  0               1   \n",
              "4                214                12                 13               1   \n",
              "\n",
              "   damage_grade  add1  add2  add3  add4  \n",
              "0             3    18    12    23    19  \n",
              "1             1    22    16    35    31  \n",
              "2             0    19    13     4     0  \n",
              "3             4     0     0     5     1  \n",
              "4             2    15    11    23    21  \n",
              "\n",
              "[5 rows x 59 columns]"
            ]
          },
          "metadata": {
            "tags": []
          },
          "execution_count": 307
        }
      ]
    },
    {
      "metadata": {
        "id": "z3lnTZVt1SK4",
        "colab_type": "code",
        "outputId": "dc725a15-b818-455a-c0c4-1adc8e65494b",
        "colab": {
          "base_uri": "https://localhost:8080/",
          "height": 34
        }
      },
      "cell_type": "code",
      "source": [
        "result.shape"
      ],
      "execution_count": 308,
      "outputs": [
        {
          "output_type": "execute_result",
          "data": {
            "text/plain": [
              "(631761, 59)"
            ]
          },
          "metadata": {
            "tags": []
          },
          "execution_count": 308
        }
      ]
    },
    {
      "metadata": {
        "id": "RSJJca5K4Hzc",
        "colab_type": "code",
        "colab": {}
      },
      "cell_type": "code",
      "source": [
        "result=result.dropna()\n",
        "yy=result.damage_grade\n",
        "del(result['damage_grade'])\n",
        "x=result"
      ],
      "execution_count": 0,
      "outputs": []
    },
    {
      "metadata": {
        "id": "eev5fDiAvWzv",
        "colab_type": "code",
        "colab": {}
      },
      "cell_type": "code",
      "source": [
        "all_data=x\n",
        "all_data_t=x.T\n",
        "all_data_t\n",
        "covar=np.cov(all_data_t)\n",
        "covar\n",
        "eigen_val, eigen_vectors=np.linalg.eig(covar)\n",
        "eigen_val_vector_pair=[]\n",
        "\n",
        "for i in range(len(eigen_val)):\n",
        "    eig_vec=eigen_vectors[:, i]\n",
        "    eigen_val_vector_pair.append((eigen_val[i], eig_vec))\n",
        "eigen_val_vector_pair.sort(reverse=True)"
      ],
      "execution_count": 0,
      "outputs": []
    },
    {
      "metadata": {
        "id": "7hF8VybeyTKQ",
        "colab_type": "code",
        "outputId": "361ebaea-6cef-453b-b8ff-2f49be94e732",
        "colab": {
          "base_uri": "https://localhost:8080/",
          "height": 34
        }
      },
      "cell_type": "code",
      "source": [
        "counter_eig=0\n",
        "for i in (eigen_val):\n",
        "    if(i>0):\n",
        "        counter_eig+=1\n",
        "counter_eig"
      ],
      "execution_count": 311,
      "outputs": [
        {
          "output_type": "execute_result",
          "data": {
            "text/plain": [
              "54"
            ]
          },
          "metadata": {
            "tags": []
          },
          "execution_count": 311
        }
      ]
    },
    {
      "metadata": {
        "id": "UvoHK9Lv3QwX",
        "colab_type": "code",
        "outputId": "4a71a978-3e38-4121-ba6f-ed5bac90fc50",
        "colab": {
          "base_uri": "https://localhost:8080/",
          "height": 442
        }
      },
      "cell_type": "code",
      "source": [
        "x.columns"
      ],
      "execution_count": 312,
      "outputs": [
        {
          "output_type": "execute_result",
          "data": {
            "text/plain": [
              "Index(['has_geotechnical_risk', 'has_geotechnical_risk_fault_crack',\n",
              "       'has_geotechnical_risk_flood', 'has_geotechnical_risk_land_settlement',\n",
              "       'has_geotechnical_risk_landslide', 'has_geotechnical_risk_liquefaction',\n",
              "       'has_geotechnical_risk_other', 'has_geotechnical_risk_rock_fall',\n",
              "       'district_id_x', 'legal_ownership_status', 'count_families',\n",
              "       'has_secondary_use', 'has_secondary_use_agriculture',\n",
              "       'has_secondary_use_hotel', 'has_secondary_use_rental',\n",
              "       'has_secondary_use_institution', 'has_secondary_use_school',\n",
              "       'has_secondary_use_industry', 'has_secondary_use_health_post',\n",
              "       'has_secondary_use_gov_office', 'has_secondary_use_use_police',\n",
              "       'has_secondary_use_other', 'count_floors_pre_eq',\n",
              "       'count_floors_post_eq', 'age_building', 'plinth_area_sq_ft',\n",
              "       'height_ft_pre_eq', 'height_ft_post_eq', 'land_surface_condition',\n",
              "       'foundation_type', 'roof_type', 'ground_floor_type', 'other_floor_type',\n",
              "       'position', 'plan_configuration', 'has_superstructure_adobe_mud',\n",
              "       'has_superstructure_mud_mortar_stone', 'has_superstructure_stone_flag',\n",
              "       'has_superstructure_cement_mortar_stone',\n",
              "       'has_superstructure_mud_mortar_brick',\n",
              "       'has_superstructure_cement_mortar_brick', 'has_superstructure_timber',\n",
              "       'has_superstructure_bamboo', 'has_superstructure_rc_non_engineered',\n",
              "       'has_superstructure_rc_engineered', 'has_superstructure_other',\n",
              "       'condition_post_eq', 'count_floors_pre_eq', 'count_floors_post_eq',\n",
              "       'age_building', 'plinth_area_sq_ft', 'height_ft_pre_eq',\n",
              "       'height_ft_post_eq', 'count_families', 'add1', 'add2', 'add3', 'add4'],\n",
              "      dtype='object')"
            ]
          },
          "metadata": {
            "tags": []
          },
          "execution_count": 312
        }
      ]
    },
    {
      "metadata": {
        "id": "Ft3Rt2VkyX62",
        "colab_type": "code",
        "colab": {}
      },
      "cell_type": "code",
      "source": [
        "from sklearn import decomposition\n",
        "pca=decomposition.PCA(n_components=54)\n",
        "x_train_pca=pca.fit_transform(all_data_t.T)\n",
        "x_train, x_test, y_train, y_test=train_test_split(x_train_pca, yy, test_size=0.2, random_state=1)"
      ],
      "execution_count": 0,
      "outputs": []
    },
    {
      "metadata": {
        "id": "cp09Q02lAtty",
        "colab_type": "code",
        "outputId": "940b06e3-2580-4921-d543-2d267f24695f",
        "colab": {
          "base_uri": "https://localhost:8080/",
          "height": 88
        }
      },
      "cell_type": "code",
      "source": [
        "clf=ExtraTreesClassifier()\n",
        "clf.fit(x_train, y_train)\n",
        "y_pred=clf.predict(x_test)\n",
        "from sklearn.metrics import accuracy_score\n",
        "accuracy_score(y_test, y_pred)"
      ],
      "execution_count": 314,
      "outputs": [
        {
          "output_type": "stream",
          "text": [
            "/usr/local/lib/python3.6/dist-packages/sklearn/ensemble/forest.py:246: FutureWarning: The default value of n_estimators will change from 10 in version 0.20 to 100 in 0.22.\n",
            "  \"10 in version 0.20 to 100 in 0.22.\", FutureWarning)\n"
          ],
          "name": "stderr"
        },
        {
          "output_type": "execute_result",
          "data": {
            "text/plain": [
              "0.6857850624836767"
            ]
          },
          "metadata": {
            "tags": []
          },
          "execution_count": 314
        }
      ]
    },
    {
      "metadata": {
        "id": "jT9Ju_3ZiYc7",
        "colab_type": "code",
        "colab": {}
      },
      "cell_type": "code",
      "source": [
        ""
      ],
      "execution_count": 0,
      "outputs": []
    },
    {
      "metadata": {
        "id": "hFwszWhC4sf-",
        "colab_type": "code",
        "colab": {}
      },
      "cell_type": "code",
      "source": [
        "clf = RandomForestClassifier(max_depth=7, min_samples_split=5, bootstrap=True, n_estimators=2000)\n",
        "clf.fit(x_train, y_train)\n",
        "y_pred=clf.predict(x_test)\n",
        "from sklearn.metrics import accuracy_score\n",
        "accuracy_score(y_test, y_pred)"
      ],
      "execution_count": 0,
      "outputs": []
    },
    {
      "metadata": {
        "id": "AGhA3CRwS5qt",
        "colab_type": "code",
        "colab": {}
      },
      "cell_type": "code",
      "source": [
        ""
      ],
      "execution_count": 0,
      "outputs": []
    },
    {
      "metadata": {
        "id": "EppgmpziOa7j",
        "colab_type": "code",
        "colab": {}
      },
      "cell_type": "code",
      "source": [
        ""
      ],
      "execution_count": 0,
      "outputs": []
    },
    {
      "metadata": {
        "id": "7019j1M17JAx",
        "colab_type": "code",
        "outputId": "0f612157-5948-4097-d2a0-a1d5fb433f72",
        "colab": {
          "base_uri": "https://localhost:8080/",
          "height": 253
        }
      },
      "cell_type": "code",
      "source": [
        "result2 = pd.concat([df_train, cont_data], axis=1)\n",
        "result2.head()"
      ],
      "execution_count": 0,
      "outputs": [
        {
          "output_type": "execute_result",
          "data": {
            "text/html": [
              "<div>\n",
              "<style scoped>\n",
              "    .dataframe tbody tr th:only-of-type {\n",
              "        vertical-align: middle;\n",
              "    }\n",
              "\n",
              "    .dataframe tbody tr th {\n",
              "        vertical-align: top;\n",
              "    }\n",
              "\n",
              "    .dataframe thead th {\n",
              "        text-align: right;\n",
              "    }\n",
              "</style>\n",
              "<table border=\"1\" class=\"dataframe\">\n",
              "  <thead>\n",
              "    <tr style=\"text-align: right;\">\n",
              "      <th></th>\n",
              "      <th>has_geotechnical_risk</th>\n",
              "      <th>has_geotechnical_risk_fault_crack</th>\n",
              "      <th>has_geotechnical_risk_flood</th>\n",
              "      <th>has_geotechnical_risk_land_settlement</th>\n",
              "      <th>has_geotechnical_risk_landslide</th>\n",
              "      <th>has_geotechnical_risk_liquefaction</th>\n",
              "      <th>has_geotechnical_risk_other</th>\n",
              "      <th>has_geotechnical_risk_rock_fall</th>\n",
              "      <th>district_id_x</th>\n",
              "      <th>legal_ownership_status</th>\n",
              "      <th>...</th>\n",
              "      <th>age_building</th>\n",
              "      <th>plinth_area_sq_ft</th>\n",
              "      <th>height_ft_pre_eq</th>\n",
              "      <th>height_ft_post_eq</th>\n",
              "      <th>count_families</th>\n",
              "      <th>damage_grade</th>\n",
              "      <th>add1</th>\n",
              "      <th>add2</th>\n",
              "      <th>add3</th>\n",
              "      <th>add4</th>\n",
              "    </tr>\n",
              "  </thead>\n",
              "  <tbody>\n",
              "    <tr>\n",
              "      <th>0</th>\n",
              "      <td>0</td>\n",
              "      <td>0</td>\n",
              "      <td>0</td>\n",
              "      <td>0</td>\n",
              "      <td>0</td>\n",
              "      <td>0</td>\n",
              "      <td>0</td>\n",
              "      <td>0</td>\n",
              "      <td>10</td>\n",
              "      <td>2</td>\n",
              "      <td>...</td>\n",
              "      <td>21</td>\n",
              "      <td>314</td>\n",
              "      <td>14</td>\n",
              "      <td>15</td>\n",
              "      <td>2</td>\n",
              "      <td>3</td>\n",
              "      <td>18</td>\n",
              "      <td>12</td>\n",
              "      <td>23</td>\n",
              "      <td>19</td>\n",
              "    </tr>\n",
              "    <tr>\n",
              "      <th>1</th>\n",
              "      <td>0</td>\n",
              "      <td>0</td>\n",
              "      <td>0</td>\n",
              "      <td>0</td>\n",
              "      <td>0</td>\n",
              "      <td>0</td>\n",
              "      <td>0</td>\n",
              "      <td>0</td>\n",
              "      <td>25</td>\n",
              "      <td>2</td>\n",
              "      <td>...</td>\n",
              "      <td>33</td>\n",
              "      <td>531</td>\n",
              "      <td>18</td>\n",
              "      <td>19</td>\n",
              "      <td>1</td>\n",
              "      <td>1</td>\n",
              "      <td>22</td>\n",
              "      <td>16</td>\n",
              "      <td>35</td>\n",
              "      <td>31</td>\n",
              "    </tr>\n",
              "    <tr>\n",
              "      <th>2</th>\n",
              "      <td>0</td>\n",
              "      <td>0</td>\n",
              "      <td>0</td>\n",
              "      <td>0</td>\n",
              "      <td>0</td>\n",
              "      <td>0</td>\n",
              "      <td>0</td>\n",
              "      <td>0</td>\n",
              "      <td>19</td>\n",
              "      <td>2</td>\n",
              "      <td>...</td>\n",
              "      <td>2</td>\n",
              "      <td>629</td>\n",
              "      <td>15</td>\n",
              "      <td>16</td>\n",
              "      <td>1</td>\n",
              "      <td>0</td>\n",
              "      <td>19</td>\n",
              "      <td>13</td>\n",
              "      <td>4</td>\n",
              "      <td>0</td>\n",
              "    </tr>\n",
              "    <tr>\n",
              "      <th>3</th>\n",
              "      <td>0</td>\n",
              "      <td>0</td>\n",
              "      <td>0</td>\n",
              "      <td>0</td>\n",
              "      <td>0</td>\n",
              "      <td>0</td>\n",
              "      <td>0</td>\n",
              "      <td>0</td>\n",
              "      <td>16</td>\n",
              "      <td>2</td>\n",
              "      <td>...</td>\n",
              "      <td>3</td>\n",
              "      <td>244</td>\n",
              "      <td>14</td>\n",
              "      <td>0</td>\n",
              "      <td>1</td>\n",
              "      <td>4</td>\n",
              "      <td>0</td>\n",
              "      <td>0</td>\n",
              "      <td>5</td>\n",
              "      <td>1</td>\n",
              "    </tr>\n",
              "    <tr>\n",
              "      <th>4</th>\n",
              "      <td>0</td>\n",
              "      <td>0</td>\n",
              "      <td>0</td>\n",
              "      <td>0</td>\n",
              "      <td>0</td>\n",
              "      <td>0</td>\n",
              "      <td>0</td>\n",
              "      <td>0</td>\n",
              "      <td>19</td>\n",
              "      <td>2</td>\n",
              "      <td>...</td>\n",
              "      <td>22</td>\n",
              "      <td>214</td>\n",
              "      <td>12</td>\n",
              "      <td>13</td>\n",
              "      <td>1</td>\n",
              "      <td>2</td>\n",
              "      <td>15</td>\n",
              "      <td>11</td>\n",
              "      <td>23</td>\n",
              "      <td>21</td>\n",
              "    </tr>\n",
              "  </tbody>\n",
              "</table>\n",
              "<p>5 rows × 59 columns</p>\n",
              "</div>"
            ],
            "text/plain": [
              "   has_geotechnical_risk  has_geotechnical_risk_fault_crack  \\\n",
              "0                      0                                  0   \n",
              "1                      0                                  0   \n",
              "2                      0                                  0   \n",
              "3                      0                                  0   \n",
              "4                      0                                  0   \n",
              "\n",
              "   has_geotechnical_risk_flood  has_geotechnical_risk_land_settlement  \\\n",
              "0                            0                                      0   \n",
              "1                            0                                      0   \n",
              "2                            0                                      0   \n",
              "3                            0                                      0   \n",
              "4                            0                                      0   \n",
              "\n",
              "   has_geotechnical_risk_landslide  has_geotechnical_risk_liquefaction  \\\n",
              "0                                0                                   0   \n",
              "1                                0                                   0   \n",
              "2                                0                                   0   \n",
              "3                                0                                   0   \n",
              "4                                0                                   0   \n",
              "\n",
              "   has_geotechnical_risk_other  has_geotechnical_risk_rock_fall  \\\n",
              "0                            0                                0   \n",
              "1                            0                                0   \n",
              "2                            0                                0   \n",
              "3                            0                                0   \n",
              "4                            0                                0   \n",
              "\n",
              "   district_id_x  legal_ownership_status  ...   age_building  \\\n",
              "0             10                       2  ...             21   \n",
              "1             25                       2  ...             33   \n",
              "2             19                       2  ...              2   \n",
              "3             16                       2  ...              3   \n",
              "4             19                       2  ...             22   \n",
              "\n",
              "   plinth_area_sq_ft  height_ft_pre_eq  height_ft_post_eq  count_families  \\\n",
              "0                314                14                 15               2   \n",
              "1                531                18                 19               1   \n",
              "2                629                15                 16               1   \n",
              "3                244                14                  0               1   \n",
              "4                214                12                 13               1   \n",
              "\n",
              "   damage_grade  add1  add2  add3  add4  \n",
              "0             3    18    12    23    19  \n",
              "1             1    22    16    35    31  \n",
              "2             0    19    13     4     0  \n",
              "3             4     0     0     5     1  \n",
              "4             2    15    11    23    21  \n",
              "\n",
              "[5 rows x 59 columns]"
            ]
          },
          "metadata": {
            "tags": []
          },
          "execution_count": 227
        }
      ]
    },
    {
      "metadata": {
        "id": "lM6cBXlhAkwB",
        "colab_type": "code",
        "colab": {}
      },
      "cell_type": "code",
      "source": [
        "from google.colab import files\n",
        "\n",
        "result2.to_csv('mydf.csv')\n",
        "files.download('mydf.csv')"
      ],
      "execution_count": 0,
      "outputs": []
    },
    {
      "metadata": {
        "id": "bL3RRqBlA9Ub",
        "colab_type": "code",
        "colab": {}
      },
      "cell_type": "code",
      "source": [
        "files.download('mydf.csv')"
      ],
      "execution_count": 0,
      "outputs": []
    },
    {
      "metadata": {
        "id": "2S6g68fYmcOv",
        "colab_type": "code",
        "colab": {}
      },
      "cell_type": "code",
      "source": [
        ""
      ],
      "execution_count": 0,
      "outputs": []
    },
    {
      "metadata": {
        "id": "jbL6t7FQG2yx",
        "colab_type": "code",
        "outputId": "3d9be613-ffa0-44b4-8620-bc298c9decc6",
        "colab": {
          "base_uri": "https://localhost:8080/",
          "height": 270
        }
      },
      "cell_type": "code",
      "source": [
        "X_train=pd.read_csv('gdrive/My Drive/Colab Notebooks/mydf.csv')\n",
        "X_train.head()"
      ],
      "execution_count": 249,
      "outputs": [
        {
          "output_type": "execute_result",
          "data": {
            "text/html": [
              "<div>\n",
              "<style scoped>\n",
              "    .dataframe tbody tr th:only-of-type {\n",
              "        vertical-align: middle;\n",
              "    }\n",
              "\n",
              "    .dataframe tbody tr th {\n",
              "        vertical-align: top;\n",
              "    }\n",
              "\n",
              "    .dataframe thead th {\n",
              "        text-align: right;\n",
              "    }\n",
              "</style>\n",
              "<table border=\"1\" class=\"dataframe\">\n",
              "  <thead>\n",
              "    <tr style=\"text-align: right;\">\n",
              "      <th></th>\n",
              "      <th>Unnamed: 0</th>\n",
              "      <th>has_geotechnical_risk</th>\n",
              "      <th>has_geotechnical_risk_fault_crack</th>\n",
              "      <th>has_geotechnical_risk_flood</th>\n",
              "      <th>has_geotechnical_risk_land_settlement</th>\n",
              "      <th>has_geotechnical_risk_landslide</th>\n",
              "      <th>has_geotechnical_risk_liquefaction</th>\n",
              "      <th>has_geotechnical_risk_other</th>\n",
              "      <th>has_geotechnical_risk_rock_fall</th>\n",
              "      <th>district_id_x</th>\n",
              "      <th>...</th>\n",
              "      <th>age_building.1</th>\n",
              "      <th>plinth_area_sq_ft.1</th>\n",
              "      <th>height_ft_pre_eq.1</th>\n",
              "      <th>height_ft_post_eq.1</th>\n",
              "      <th>count_families.1</th>\n",
              "      <th>damage_grade</th>\n",
              "      <th>add1</th>\n",
              "      <th>add2</th>\n",
              "      <th>add3</th>\n",
              "      <th>add4</th>\n",
              "    </tr>\n",
              "  </thead>\n",
              "  <tbody>\n",
              "    <tr>\n",
              "      <th>0</th>\n",
              "      <td>0</td>\n",
              "      <td>0</td>\n",
              "      <td>0</td>\n",
              "      <td>0</td>\n",
              "      <td>0</td>\n",
              "      <td>0</td>\n",
              "      <td>0</td>\n",
              "      <td>0</td>\n",
              "      <td>0</td>\n",
              "      <td>10</td>\n",
              "      <td>...</td>\n",
              "      <td>21</td>\n",
              "      <td>314</td>\n",
              "      <td>14</td>\n",
              "      <td>15</td>\n",
              "      <td>2</td>\n",
              "      <td>3</td>\n",
              "      <td>18</td>\n",
              "      <td>12</td>\n",
              "      <td>23</td>\n",
              "      <td>19</td>\n",
              "    </tr>\n",
              "    <tr>\n",
              "      <th>1</th>\n",
              "      <td>1</td>\n",
              "      <td>0</td>\n",
              "      <td>0</td>\n",
              "      <td>0</td>\n",
              "      <td>0</td>\n",
              "      <td>0</td>\n",
              "      <td>0</td>\n",
              "      <td>0</td>\n",
              "      <td>0</td>\n",
              "      <td>25</td>\n",
              "      <td>...</td>\n",
              "      <td>33</td>\n",
              "      <td>531</td>\n",
              "      <td>18</td>\n",
              "      <td>19</td>\n",
              "      <td>1</td>\n",
              "      <td>1</td>\n",
              "      <td>22</td>\n",
              "      <td>16</td>\n",
              "      <td>35</td>\n",
              "      <td>31</td>\n",
              "    </tr>\n",
              "    <tr>\n",
              "      <th>2</th>\n",
              "      <td>2</td>\n",
              "      <td>0</td>\n",
              "      <td>0</td>\n",
              "      <td>0</td>\n",
              "      <td>0</td>\n",
              "      <td>0</td>\n",
              "      <td>0</td>\n",
              "      <td>0</td>\n",
              "      <td>0</td>\n",
              "      <td>19</td>\n",
              "      <td>...</td>\n",
              "      <td>2</td>\n",
              "      <td>629</td>\n",
              "      <td>15</td>\n",
              "      <td>16</td>\n",
              "      <td>1</td>\n",
              "      <td>0</td>\n",
              "      <td>19</td>\n",
              "      <td>13</td>\n",
              "      <td>4</td>\n",
              "      <td>0</td>\n",
              "    </tr>\n",
              "    <tr>\n",
              "      <th>3</th>\n",
              "      <td>3</td>\n",
              "      <td>0</td>\n",
              "      <td>0</td>\n",
              "      <td>0</td>\n",
              "      <td>0</td>\n",
              "      <td>0</td>\n",
              "      <td>0</td>\n",
              "      <td>0</td>\n",
              "      <td>0</td>\n",
              "      <td>16</td>\n",
              "      <td>...</td>\n",
              "      <td>3</td>\n",
              "      <td>244</td>\n",
              "      <td>14</td>\n",
              "      <td>0</td>\n",
              "      <td>1</td>\n",
              "      <td>4</td>\n",
              "      <td>0</td>\n",
              "      <td>0</td>\n",
              "      <td>5</td>\n",
              "      <td>1</td>\n",
              "    </tr>\n",
              "    <tr>\n",
              "      <th>4</th>\n",
              "      <td>4</td>\n",
              "      <td>0</td>\n",
              "      <td>0</td>\n",
              "      <td>0</td>\n",
              "      <td>0</td>\n",
              "      <td>0</td>\n",
              "      <td>0</td>\n",
              "      <td>0</td>\n",
              "      <td>0</td>\n",
              "      <td>19</td>\n",
              "      <td>...</td>\n",
              "      <td>22</td>\n",
              "      <td>214</td>\n",
              "      <td>12</td>\n",
              "      <td>13</td>\n",
              "      <td>1</td>\n",
              "      <td>2</td>\n",
              "      <td>15</td>\n",
              "      <td>11</td>\n",
              "      <td>23</td>\n",
              "      <td>21</td>\n",
              "    </tr>\n",
              "  </tbody>\n",
              "</table>\n",
              "<p>5 rows × 60 columns</p>\n",
              "</div>"
            ],
            "text/plain": [
              "   Unnamed: 0  has_geotechnical_risk  has_geotechnical_risk_fault_crack  \\\n",
              "0           0                      0                                  0   \n",
              "1           1                      0                                  0   \n",
              "2           2                      0                                  0   \n",
              "3           3                      0                                  0   \n",
              "4           4                      0                                  0   \n",
              "\n",
              "   has_geotechnical_risk_flood  has_geotechnical_risk_land_settlement  \\\n",
              "0                            0                                      0   \n",
              "1                            0                                      0   \n",
              "2                            0                                      0   \n",
              "3                            0                                      0   \n",
              "4                            0                                      0   \n",
              "\n",
              "   has_geotechnical_risk_landslide  has_geotechnical_risk_liquefaction  \\\n",
              "0                                0                                   0   \n",
              "1                                0                                   0   \n",
              "2                                0                                   0   \n",
              "3                                0                                   0   \n",
              "4                                0                                   0   \n",
              "\n",
              "   has_geotechnical_risk_other  has_geotechnical_risk_rock_fall  \\\n",
              "0                            0                                0   \n",
              "1                            0                                0   \n",
              "2                            0                                0   \n",
              "3                            0                                0   \n",
              "4                            0                                0   \n",
              "\n",
              "   district_id_x  ...   age_building.1  plinth_area_sq_ft.1  \\\n",
              "0             10  ...               21                  314   \n",
              "1             25  ...               33                  531   \n",
              "2             19  ...                2                  629   \n",
              "3             16  ...                3                  244   \n",
              "4             19  ...               22                  214   \n",
              "\n",
              "   height_ft_pre_eq.1  height_ft_post_eq.1  count_families.1  damage_grade  \\\n",
              "0                  14                   15                 2             3   \n",
              "1                  18                   19                 1             1   \n",
              "2                  15                   16                 1             0   \n",
              "3                  14                    0                 1             4   \n",
              "4                  12                   13                 1             2   \n",
              "\n",
              "   add1  add2  add3  add4  \n",
              "0    18    12    23    19  \n",
              "1    22    16    35    31  \n",
              "2    19    13     4     0  \n",
              "3     0     0     5     1  \n",
              "4    15    11    23    21  \n",
              "\n",
              "[5 rows x 60 columns]"
            ]
          },
          "metadata": {
            "tags": []
          },
          "execution_count": 249
        }
      ]
    },
    {
      "metadata": {
        "id": "sBd5Rdz4x8ZI",
        "colab_type": "text"
      },
      "cell_type": "markdown",
      "source": [
        "NEURAL NETWORKS"
      ]
    },
    {
      "metadata": {
        "id": "VErFOfgjx93_",
        "colab_type": "code",
        "colab": {}
      },
      "cell_type": "code",
      "source": [
        "X_train=np.loadtxt('gdrive/My Drive/Colab Notebooks/mydf.csv', delimiter=\",\", usecols=range(1, 60), skiprows=1)"
      ],
      "execution_count": 0,
      "outputs": []
    },
    {
      "metadata": {
        "id": "a_6htvHmFD8u",
        "colab_type": "code",
        "colab": {}
      },
      "cell_type": "code",
      "source": [
        "labels=np.genfromtxt('gdrive/My Drive/Colab Notebooks/mydf.csv', delimiter=\",\", usecols=(55),dtype='int', skip_header=1)"
      ],
      "execution_count": 0,
      "outputs": []
    },
    {
      "metadata": {
        "id": "i5CsQ7FkHPPv",
        "colab_type": "code",
        "colab": {
          "base_uri": "https://localhost:8080/",
          "height": 34
        },
        "outputId": "506ef131-4f05-41d9-b7a7-5c25ebbdb0cb"
      },
      "cell_type": "code",
      "source": [
        "np.unique(labels)\n"
      ],
      "execution_count": 277,
      "outputs": [
        {
          "output_type": "execute_result",
          "data": {
            "text/plain": [
              "array([0, 1, 2, 3, 4])"
            ]
          },
          "metadata": {
            "tags": []
          },
          "execution_count": 277
        }
      ]
    },
    {
      "metadata": {
        "id": "3a0x_9J9KWn_",
        "colab_type": "code",
        "colab": {
          "base_uri": "https://localhost:8080/",
          "height": 105
        },
        "outputId": "28c8a1da-56d3-4ace-eff3-fd777ef1366b"
      },
      "cell_type": "code",
      "source": [
        "from sklearn.preprocessing import OneHotEncoder, LabelEncoder\n",
        "enc=OneHotEncoder()\n",
        "lbl=LabelEncoder()\n",
        "labels= LabelEncoder().fit_transform(labels.ravel())\n",
        "trans_labels=labels.reshape(-1,1)\n",
        "Y_train=enc.fit_transform(trans_labels).toarray()"
      ],
      "execution_count": 278,
      "outputs": [
        {
          "output_type": "stream",
          "text": [
            "/usr/local/lib/python3.6/dist-packages/sklearn/preprocessing/_encoders.py:371: FutureWarning: The handling of integer data will change in version 0.22. Currently, the categories are determined based on the range [0, max(values)], while in the future they will be determined based on the unique values.\n",
            "If you want the future behaviour and silence this warning, you can specify \"categories='auto'\".\n",
            "In case you used a LabelEncoder before this OneHotEncoder to convert the categories to integers, then you can now use the OneHotEncoder directly.\n",
            "  warnings.warn(msg, FutureWarning)\n"
          ],
          "name": "stderr"
        }
      ]
    },
    {
      "metadata": {
        "id": "YSztfwrXKkVM",
        "colab_type": "code",
        "colab": {
          "base_uri": "https://localhost:8080/",
          "height": 51
        },
        "outputId": "f422e1cb-0d37-4d36-a2a5-afb2aabc014e"
      },
      "cell_type": "code",
      "source": [
        "nb_classes=Y_train.shape[1]\n",
        "dims=X_train.shape[1]\n",
        "print(nb_classes, \"Classes\")\n",
        "print(dims, \"dims\")"
      ],
      "execution_count": 267,
      "outputs": [
        {
          "output_type": "stream",
          "text": [
            "5 Classes\n",
            "59 dims\n"
          ],
          "name": "stdout"
        }
      ]
    },
    {
      "metadata": {
        "id": "-l0_DIZuKpci",
        "colab_type": "code",
        "colab": {}
      },
      "cell_type": "code",
      "source": [
        "from keras.models import Sequential\n",
        "from keras.layers import Dense, Activation"
      ],
      "execution_count": 0,
      "outputs": []
    },
    {
      "metadata": {
        "id": "a2achbODKtpg",
        "colab_type": "code",
        "colab": {
          "base_uri": "https://localhost:8080/",
          "height": 547
        },
        "outputId": "cb889885-2dd4-4e14-cd2a-2308c7c737d7"
      },
      "cell_type": "code",
      "source": [
        "dims=X_train.shape[1]\n",
        "print(dims, 'dims')\n",
        "print(\"building the model....\")\n",
        "\n",
        "nb_classes=Y_train.shape[1]\n",
        "print(nb_classes,\"classes\")\n",
        "\n",
        "#dense =fully connected\n",
        "model=Sequential()\n",
        "model.add(Dense(nb_classes, input_shape=(dims,), activation='sigmoid'))\n",
        "# 1st param: no.of units\n",
        "model.add(Activation('softmax'))\n",
        "model.compile(optimizer='sgd', loss='categorical_crossentropy')\n",
        "model.fit(X_train, Y_train, epochs=10)"
      ],
      "execution_count": 269,
      "outputs": [
        {
          "output_type": "stream",
          "text": [
            "59 dims\n",
            "building the model....\n",
            "5 classes\n",
            "WARNING:tensorflow:From /usr/local/lib/python3.6/dist-packages/tensorflow/python/framework/op_def_library.py:263: colocate_with (from tensorflow.python.framework.ops) is deprecated and will be removed in a future version.\n",
            "Instructions for updating:\n",
            "Colocations handled automatically by placer.\n",
            "WARNING:tensorflow:From /usr/local/lib/python3.6/dist-packages/tensorflow/python/ops/math_ops.py:3066: to_int32 (from tensorflow.python.ops.math_ops) is deprecated and will be removed in a future version.\n",
            "Instructions for updating:\n",
            "Use tf.cast instead.\n",
            "Epoch 1/10\n",
            "631761/631761 [==============================] - 20s 31us/step - loss: 1.5782\n",
            "Epoch 2/10\n",
            "631761/631761 [==============================] - 20s 32us/step - loss: 1.5665\n",
            "Epoch 3/10\n",
            "631761/631761 [==============================] - 19s 30us/step - loss: 1.5601\n",
            "Epoch 4/10\n",
            "631761/631761 [==============================] - 19s 30us/step - loss: 1.5577\n",
            "Epoch 5/10\n",
            "631761/631761 [==============================] - 19s 30us/step - loss: 1.5388\n",
            "Epoch 6/10\n",
            "631761/631761 [==============================] - 19s 31us/step - loss: 1.5048\n",
            "Epoch 7/10\n",
            "631761/631761 [==============================] - 19s 30us/step - loss: 1.4928\n",
            "Epoch 8/10\n",
            "631761/631761 [==============================] - 19s 30us/step - loss: 1.4867\n",
            "Epoch 9/10\n",
            "631761/631761 [==============================] - 19s 30us/step - loss: 1.4787\n",
            "Epoch 10/10\n",
            "631761/631761 [==============================] - 19s 30us/step - loss: 1.4744\n"
          ],
          "name": "stdout"
        },
        {
          "output_type": "execute_result",
          "data": {
            "text/plain": [
              "<keras.callbacks.History at 0x7f31821646a0>"
            ]
          },
          "metadata": {
            "tags": []
          },
          "execution_count": 269
        }
      ]
    },
    {
      "metadata": {
        "id": "uidFhHKpKzW6",
        "colab_type": "code",
        "colab": {
          "base_uri": "https://localhost:8080/",
          "height": 34
        },
        "outputId": "7019226f-e6be-4195-defc-b72d72ca3aaa"
      },
      "cell_type": "code",
      "source": [
        "X_train, X_test, Y_train, Y_test=train_test_split(X_train, Y_train, test_size=0.15, random_state=0)\n",
        "X_train, X_val, Y_train, Y_val=train_test_split(X_train, Y_train, test_size=0.15, random_state=0)\n",
        "print(X_train.shape, Y_train.shape, X_val.shape, Y_val.shape)"
      ],
      "execution_count": 279,
      "outputs": [
        {
          "output_type": "stream",
          "text": [
            "(456446, 59) (456446, 5) (80550, 59) (80550, 5)\n"
          ],
          "name": "stdout"
        }
      ]
    },
    {
      "metadata": {
        "id": "dyWqKfilKgUf",
        "colab_type": "code",
        "colab": {
          "base_uri": "https://localhost:8080/",
          "height": 731
        },
        "outputId": "7c8dd136-d16c-417f-c37b-200580be2d22"
      },
      "cell_type": "code",
      "source": [
        "model=Sequential()\n",
        "model.add(Dense(100, input_shape=(dims, )))\n",
        "\n",
        "model.add(Dense(nb_classes))\n",
        "model.add(Activation('softmax'))\n",
        "model.compile(optimizer='sgd', loss='categorical_crossentropy')\n",
        "model.fit(X_train, Y_train, validation_data=(X_val, Y_val), epochs=20,\n",
        "         batch_size=120, verbose=True)"
      ],
      "execution_count": 280,
      "outputs": [
        {
          "output_type": "stream",
          "text": [
            "Train on 456446 samples, validate on 80550 samples\n",
            "Epoch 1/20\n",
            "456446/456446 [==============================] - 7s 15us/step - loss: 11.6235 - val_loss: 10.7289\n",
            "Epoch 2/20\n",
            "456446/456446 [==============================] - 6s 14us/step - loss: 10.7426 - val_loss: 10.7253\n",
            "Epoch 3/20\n",
            "456446/456446 [==============================] - 6s 14us/step - loss: 11.8374 - val_loss: 12.2360\n",
            "Epoch 4/20\n",
            "456446/456446 [==============================] - 7s 14us/step - loss: 11.5605 - val_loss: 10.7263\n",
            "Epoch 5/20\n",
            "456446/456446 [==============================] - 6s 14us/step - loss: 10.8952 - val_loss: 10.7105\n",
            "Epoch 6/20\n",
            "456446/456446 [==============================] - 7s 14us/step - loss: 12.2532 - val_loss: 12.2324\n",
            "Epoch 7/20\n",
            "456446/456446 [==============================] - 6s 14us/step - loss: 11.1547 - val_loss: 10.6751\n",
            "Epoch 8/20\n",
            "456446/456446 [==============================] - 7s 14us/step - loss: 8.6209 - val_loss: 5.2904\n",
            "Epoch 9/20\n",
            "456446/456446 [==============================] - 6s 14us/step - loss: 6.7421 - val_loss: 6.7297\n",
            "Epoch 10/20\n",
            "456446/456446 [==============================] - 6s 14us/step - loss: 7.1355 - val_loss: 5.1571\n",
            "Epoch 11/20\n",
            "456446/456446 [==============================] - 7s 14us/step - loss: 7.2831 - val_loss: 6.4737\n",
            "Epoch 12/20\n",
            "456446/456446 [==============================] - 7s 14us/step - loss: 7.2888 - val_loss: 6.7005\n",
            "Epoch 13/20\n",
            "456446/456446 [==============================] - 7s 14us/step - loss: 7.0470 - val_loss: 6.1013\n",
            "Epoch 14/20\n",
            "456446/456446 [==============================] - 7s 15us/step - loss: 6.9868 - val_loss: 10.3974\n",
            "Epoch 15/20\n",
            "456446/456446 [==============================] - 6s 14us/step - loss: 7.0757 - val_loss: 6.4020\n",
            "Epoch 16/20\n",
            "456446/456446 [==============================] - 7s 15us/step - loss: 7.1624 - val_loss: 5.2194\n",
            "Epoch 17/20\n",
            "456446/456446 [==============================] - 7s 14us/step - loss: 7.0238 - val_loss: 4.2084\n",
            "Epoch 18/20\n",
            "456446/456446 [==============================] - 7s 14us/step - loss: 7.1858 - val_loss: 6.7289\n",
            "Epoch 19/20\n",
            "456446/456446 [==============================] - 7s 14us/step - loss: 7.0749 - val_loss: 4.3156\n",
            "Epoch 20/20\n",
            "456446/456446 [==============================] - 7s 14us/step - loss: 7.1010 - val_loss: 5.7292\n"
          ],
          "name": "stdout"
        },
        {
          "output_type": "execute_result",
          "data": {
            "text/plain": [
              "<keras.callbacks.History at 0x7f31a9c783c8>"
            ]
          },
          "metadata": {
            "tags": []
          },
          "execution_count": 280
        }
      ]
    },
    {
      "metadata": {
        "id": "mGOxOvItKXKL",
        "colab_type": "code",
        "colab": {
          "base_uri": "https://localhost:8080/",
          "height": 238
        },
        "outputId": "5bc74b53-e402-4468-d644-73374823d5a9"
      },
      "cell_type": "code",
      "source": [
        "model.summary()\n"
      ],
      "execution_count": 281,
      "outputs": [
        {
          "output_type": "stream",
          "text": [
            "_________________________________________________________________\n",
            "Layer (type)                 Output Shape              Param #   \n",
            "=================================================================\n",
            "dense_4 (Dense)              (None, 100)               6000      \n",
            "_________________________________________________________________\n",
            "dense_5 (Dense)              (None, 5)                 505       \n",
            "_________________________________________________________________\n",
            "activation_3 (Activation)    (None, 5)                 0         \n",
            "=================================================================\n",
            "Total params: 6,505\n",
            "Trainable params: 6,505\n",
            "Non-trainable params: 0\n",
            "_________________________________________________________________\n"
          ],
          "name": "stdout"
        }
      ]
    },
    {
      "metadata": {
        "id": "y-FRLU50FBvo",
        "colab_type": "code",
        "colab": {
          "base_uri": "https://localhost:8080/",
          "height": 34
        },
        "outputId": "10dec8d8-ba44-4c2a-e110-4a02ca46de8a"
      },
      "cell_type": "code",
      "source": [
        "y_pred=model.predict(X_test, verbose=True)"
      ],
      "execution_count": 282,
      "outputs": [
        {
          "output_type": "stream",
          "text": [
            "94765/94765 [==============================] - 1s 12us/step\n"
          ],
          "name": "stdout"
        }
      ]
    },
    {
      "metadata": {
        "id": "BFVHxtjfL8Bw",
        "colab_type": "code",
        "colab": {
          "base_uri": "https://localhost:8080/",
          "height": 34
        },
        "outputId": "f35331a7-0e34-4eaf-84b9-4789493dbdc2"
      },
      "cell_type": "code",
      "source": [
        "y_pred.argmax(axis=-1)\n"
      ],
      "execution_count": 283,
      "outputs": [
        {
          "output_type": "execute_result",
          "data": {
            "text/plain": [
              "array([4, 4, 4, ..., 2, 4, 0])"
            ]
          },
          "metadata": {
            "tags": []
          },
          "execution_count": 283
        }
      ]
    },
    {
      "metadata": {
        "id": "YiMK0C2bMCDG",
        "colab_type": "code",
        "colab": {}
      },
      "cell_type": "code",
      "source": [
        "y_pred2=model.predict(X_val)\n",
        "val_Y=y_pred2.argmax(axis=-1)"
      ],
      "execution_count": 0,
      "outputs": []
    },
    {
      "metadata": {
        "id": "cztV-IErMNB-",
        "colab_type": "code",
        "colab": {
          "base_uri": "https://localhost:8080/",
          "height": 34
        },
        "outputId": "a037cfd6-f0f2-438d-dd2c-2c7ecb41d5c2"
      },
      "cell_type": "code",
      "source": [
        "val_Y.shape\n",
        "Y_val.shape"
      ],
      "execution_count": 285,
      "outputs": [
        {
          "output_type": "execute_result",
          "data": {
            "text/plain": [
              "(80550, 5)"
            ]
          },
          "metadata": {
            "tags": []
          },
          "execution_count": 285
        }
      ]
    },
    {
      "metadata": {
        "id": "hLHPm6fSMRHH",
        "colab_type": "code",
        "colab": {}
      },
      "cell_type": "code",
      "source": [
        "def decode(datum):\n",
        "    return np.argmax(datum)\n",
        "Y_va=[]\n",
        "for i in range(Y_val.shape[0]):\n",
        "    datum = Y_val[i]\n",
        "    decoded_datum = decode(Y_val[i])\n",
        "    Y_va.append(decoded_datum)"
      ],
      "execution_count": 0,
      "outputs": []
    },
    {
      "metadata": {
        "id": "9Z1b3AXYMaSk",
        "colab_type": "code",
        "colab": {}
      },
      "cell_type": "code",
      "source": [
        "Yva=np.array(Y_va)"
      ],
      "execution_count": 0,
      "outputs": []
    },
    {
      "metadata": {
        "id": "CzQuGS06McEx",
        "colab_type": "code",
        "colab": {
          "base_uri": "https://localhost:8080/",
          "height": 34
        },
        "outputId": "3839d9f6-f56a-4c04-c2d8-c23261986a19"
      },
      "cell_type": "code",
      "source": [
        "Yva.shape\n"
      ],
      "execution_count": 288,
      "outputs": [
        {
          "output_type": "execute_result",
          "data": {
            "text/plain": [
              "(80550,)"
            ]
          },
          "metadata": {
            "tags": []
          },
          "execution_count": 288
        }
      ]
    },
    {
      "metadata": {
        "id": "V0NnZTPlDqDR",
        "colab_type": "code",
        "colab": {
          "base_uri": "https://localhost:8080/",
          "height": 34
        },
        "outputId": "169b6ae1-d606-43ca-c886-dda93ed0d98a"
      },
      "cell_type": "code",
      "source": [
        "from sklearn.metrics import accuracy_score\n",
        "accuracy_score(Yva, val_Y)"
      ],
      "execution_count": 289,
      "outputs": [
        {
          "output_type": "execute_result",
          "data": {
            "text/plain": [
              "0.460707635009311"
            ]
          },
          "metadata": {
            "tags": []
          },
          "execution_count": 289
        }
      ]
    },
    {
      "metadata": {
        "id": "d-W7pmTQl4P1",
        "colab_type": "code",
        "colab": {
          "base_uri": "https://localhost:8080/",
          "height": 122
        },
        "outputId": "84a8c33b-030a-4271-ae8a-b5a47d85cdf3"
      },
      "cell_type": "code",
      "source": [
        "from google.colab import drive\n",
        "drive.mount('/content/gdrive')"
      ],
      "execution_count": 2,
      "outputs": [
        {
          "output_type": "stream",
          "text": [
            "Go to this URL in a browser: https://accounts.google.com/o/oauth2/auth?client_id=947318989803-6bn6qk8qdgf4n4g3pfee6491hc0brc4i.apps.googleusercontent.com&redirect_uri=urn%3Aietf%3Awg%3Aoauth%3A2.0%3Aoob&scope=email%20https%3A%2F%2Fwww.googleapis.com%2Fauth%2Fdocs.test%20https%3A%2F%2Fwww.googleapis.com%2Fauth%2Fdrive%20https%3A%2F%2Fwww.googleapis.com%2Fauth%2Fdrive.photos.readonly%20https%3A%2F%2Fwww.googleapis.com%2Fauth%2Fpeopleapi.readonly&response_type=code\n",
            "\n",
            "Enter your authorization code:\n",
            "··········\n",
            "Mounted at /content/gdrive\n"
          ],
          "name": "stdout"
        }
      ]
    },
    {
      "metadata": {
        "id": "wpPy-1xHZT7l",
        "colab_type": "code",
        "colab": {}
      },
      "cell_type": "code",
      "source": [
        "import os\n",
        "import pandas as pd\n",
        "import numpy as np\n",
        "import matplotlib.pyplot as plt\n",
        "%matplotlib inline\n",
        "from xgboost.sklearn import XGBClassifier\n",
        "import xgboost as xgb\n",
        "from sklearn.model_selection import GridSearchCV\n",
        "from sklearn.linear_model import LogisticRegression\n",
        "from sklearn.multiclass import OneVsRestClassifier\n",
        "import seaborn as sns\n",
        "import warnings\n",
        "from pandas.core.common import SettingWithCopyWarning\n",
        "warnings.simplefilter('error', SettingWithCopyWarning)\n",
        "\n",
        "\n",
        "\n",
        "\n"
      ],
      "execution_count": 0,
      "outputs": []
    },
    {
      "metadata": {
        "id": "3jm5U4-4Lx5U",
        "colab_type": "code",
        "colab": {
          "base_uri": "https://localhost:8080/",
          "height": 2482
        },
        "outputId": "53c16d44-c86d-45ad-dca6-74a077388abf"
      },
      "cell_type": "code",
      "source": [
        "#forgot to use owner and structure data. WIP\n",
        "print(train.head())\n",
        "print(test.head())\n",
        "\n",
        "print(train.info())\n",
        "print(test.info())\n",
        "\n",
        "for x in train.columns:\n",
        "    print(train[x].unique())\n",
        "for x in test.columns:\n",
        "    print(test[x].unique())\n"
      ],
      "execution_count": 4,
      "outputs": [
        {
          "output_type": "stream",
          "text": [
            "       area_assesed  building_id damage_grade  district_id  \\\n",
            "0              Both  24385bfd2a2      Grade 4           24   \n",
            "1              Both  405d1bbebbf      Grade 2           44   \n",
            "2              Both  351d9bc71f6      Grade 1           36   \n",
            "3  Building removed  2be3a971166      Grade 5           30   \n",
            "4              Both  34c7d073ea6      Grade 3           36   \n",
            "\n",
            "   has_geotechnical_risk  has_geotechnical_risk_fault_crack  \\\n",
            "0                    0.0                                  0   \n",
            "1                    0.0                                  0   \n",
            "2                    0.0                                  0   \n",
            "3                    0.0                                  0   \n",
            "4                    0.0                                  0   \n",
            "\n",
            "   has_geotechnical_risk_flood  has_geotechnical_risk_land_settlement  \\\n",
            "0                            0                                      0   \n",
            "1                            0                                      0   \n",
            "2                            0                                      0   \n",
            "3                            0                                      0   \n",
            "4                            0                                      0   \n",
            "\n",
            "   has_geotechnical_risk_landslide  has_geotechnical_risk_liquefaction  \\\n",
            "0                                0                                   0   \n",
            "1                                0                                   0   \n",
            "2                                0                                   0   \n",
            "3                                0                                   0   \n",
            "4                                0                                   0   \n",
            "\n",
            "   has_geotechnical_risk_other  has_geotechnical_risk_rock_fall  \\\n",
            "0                            0                                0   \n",
            "1                            0                                0   \n",
            "2                            0                                0   \n",
            "3                            0                                0   \n",
            "4                            0                                0   \n",
            "\n",
            "   has_repair_started  vdcmun_id  \n",
            "0                 0.0       2489  \n",
            "1                 1.0       4423  \n",
            "2                 0.0       3650  \n",
            "3                 0.0       3016  \n",
            "4                 0.0       3627  \n",
            "       area_assesed building_id  district_id  has_geotechnical_risk  \\\n",
            "0              Both  a3380c4f75            7                    0.0   \n",
            "1              Both  a338a4e653            7                    0.0   \n",
            "2  Building removed  a338a4e6b7            7                    0.0   \n",
            "3              Both  a33a6eaa3a            7                    0.0   \n",
            "4  Building removed  a33b073ff6            7                    0.0   \n",
            "\n",
            "   has_geotechnical_risk_fault_crack  has_geotechnical_risk_flood  \\\n",
            "0                                  0                            0   \n",
            "1                                  0                            0   \n",
            "2                                  0                            0   \n",
            "3                                  0                            0   \n",
            "4                                  0                            0   \n",
            "\n",
            "   has_geotechnical_risk_land_settlement  has_geotechnical_risk_landslide  \\\n",
            "0                                      0                                0   \n",
            "1                                      0                                0   \n",
            "2                                      0                                0   \n",
            "3                                      0                                0   \n",
            "4                                      0                                0   \n",
            "\n",
            "   has_geotechnical_risk_liquefaction  has_geotechnical_risk_other  \\\n",
            "0                                   0                            0   \n",
            "1                                   0                            0   \n",
            "2                                   0                            0   \n",
            "3                                   0                            0   \n",
            "4                                   0                            0   \n",
            "\n",
            "   has_geotechnical_risk_rock_fall  has_repair_started  vdcmun_id  \n",
            "0                                0                 1.0        701  \n",
            "1                                0                 1.0        701  \n",
            "2                                0                 1.0        701  \n",
            "3                                0                 1.0        701  \n",
            "4                                0                 1.0        701  \n",
            "<class 'pandas.core.frame.DataFrame'>\n",
            "RangeIndex: 631761 entries, 0 to 631760\n",
            "Data columns (total 14 columns):\n",
            "area_assesed                             631761 non-null object\n",
            "building_id                              631761 non-null object\n",
            "damage_grade                             631761 non-null object\n",
            "district_id                              631761 non-null int64\n",
            "has_geotechnical_risk                    631761 non-null float64\n",
            "has_geotechnical_risk_fault_crack        631761 non-null int64\n",
            "has_geotechnical_risk_flood              631761 non-null int64\n",
            "has_geotechnical_risk_land_settlement    631761 non-null int64\n",
            "has_geotechnical_risk_landslide          631761 non-null int64\n",
            "has_geotechnical_risk_liquefaction       631761 non-null int64\n",
            "has_geotechnical_risk_other              631761 non-null int64\n",
            "has_geotechnical_risk_rock_fall          631761 non-null int64\n",
            "has_repair_started                       598344 non-null float64\n",
            "vdcmun_id                                631761 non-null int64\n",
            "dtypes: float64(2), int64(9), object(3)\n",
            "memory usage: 67.5+ MB\n",
            "None\n",
            "<class 'pandas.core.frame.DataFrame'>\n",
            "RangeIndex: 421175 entries, 0 to 421174\n",
            "Data columns (total 13 columns):\n",
            "area_assesed                             421175 non-null object\n",
            "building_id                              421175 non-null object\n",
            "district_id                              421175 non-null int64\n",
            "has_geotechnical_risk                    421175 non-null float64\n",
            "has_geotechnical_risk_fault_crack        421175 non-null int64\n",
            "has_geotechnical_risk_flood              421175 non-null int64\n",
            "has_geotechnical_risk_land_settlement    421175 non-null int64\n",
            "has_geotechnical_risk_landslide          421175 non-null int64\n",
            "has_geotechnical_risk_liquefaction       421175 non-null int64\n",
            "has_geotechnical_risk_other              421175 non-null int64\n",
            "has_geotechnical_risk_rock_fall          421175 non-null int64\n",
            "has_repair_started                       399253 non-null float64\n",
            "vdcmun_id                                421175 non-null int64\n",
            "dtypes: float64(2), int64(9), object(2)\n",
            "memory usage: 41.8+ MB\n",
            "None\n",
            "['Both' 'Building removed' 'Exterior' 'Not able to inspect' 'Interior']\n",
            "['24385bfd2a2' '405d1bbebbf' '351d9bc71f6' ... '37fb442badd' '2c0906c86f0'\n",
            " '293272232cf']\n",
            "['Grade 4' 'Grade 2' 'Grade 1' 'Grade 5' 'Grade 3']\n",
            "[24 44 36 30 21 26 39 11  9 28 27 12 37 46 20 29 31 38 10 13 23 25 22 47\n",
            " 40 45 43 35  7 51 48]\n",
            "[0. 1.]\n",
            "[0 1]\n",
            "[0 1]\n",
            "[0 1]\n",
            "[0 1]\n",
            "[0 1]\n",
            "[0 1]\n",
            "[0 1]\n",
            "[ 0.  1. nan]\n",
            "[2489 4423 3650 ... 4532 5104 4315]\n",
            "['Both' 'Building removed' 'Not able to inspect' 'Exterior' 'Interior']\n",
            "['a3380c4f75' 'a338a4e653' 'a338a4e6b7' ... '355cf98f577' '215a1bf9ae16'\n",
            " '215a1bf9b9ce']\n",
            "[ 7  9 10 11 13 35 37 38 39 40 44 45 46 43 47 48 51 26 27 25 12 20 21 22\n",
            " 23 24 28 29 30 31 36]\n",
            "[0. 1.]\n",
            "[0 1]\n",
            "[0 1]\n",
            "[0 1]\n",
            "[0 1]\n",
            "[0 1]\n",
            "[0 1]\n",
            "[0 1]\n",
            "[ 1.  0. nan]\n",
            "[ 701  702  703 ... 3664 3666 3667]\n"
          ],
          "name": "stdout"
        }
      ]
    },
    {
      "metadata": {
        "id": "NRbEzw23L99K",
        "colab_type": "code",
        "colab": {
          "base_uri": "https://localhost:8080/",
          "height": 507
        },
        "outputId": "1692dd84-e9e8-4f05-a5e9-58be74cc2dff"
      },
      "cell_type": "code",
      "source": [
        "# Perform EDA to create hypotheses\n",
        "\n",
        "non_risks=['area_assesed', 'district_id', 'has_repair_started','vdcmun_id','has_geotechnical_risk']\n",
        "\n",
        "# Create x variables for risk counts for bar plots\n",
        "count_risks=train.drop(non_risks, axis=1)\n",
        "count_risks.info()\n",
        "count_risks['total_risks']=count_risks.sum(axis=1)\n",
        "\n",
        "damage_vs_num_risks=count_risks.groupby(['damage_grade','total_risks']).size()\n",
        "dvr=damage_vs_num_risks.reset_index()\n",
        "dvr.columns=['damage_grade','total_risks','counts']\n",
        "dvr_p=pd.pivot_table(dvr,'counts','damage_grade','total_risks')\n",
        "\n",
        "plt.figure(figsize=[9,4])\n",
        "for x in range(0,7):\n",
        "    plt.bar(dvr_p[x].index,dvr_p[x].values)\n",
        "plt.savefig('test.png')\n",
        "\n",
        "# Plotted damage grade vs count of number of risks per building.\n",
        "# Seems damage is correlated negatively to the number of geotechnical risks in the area. Perhaps damage grade is rated from grade 5 being low damage to grade 1 being high damage.\n",
        "\n",
        "# Plot damage grade vs district and municipality\n",
        "non_locations=['district_id', 'vdcmun_id', 'damage_grade']\n",
        "location_df=train[non_locations]\n",
        "\n",
        "corr = location_df.corr()\n",
        "sns.heatmap(corr,\n",
        "            xticklabels=corr.columns.values,\n",
        "            yticklabels=corr.columns.values)\n",
        "#knowing the district and municipality are definitely correlated, we can drop the more complex column\n",
        "\n",
        "train.drop('vdcmun_id', axis=1, inplace=True)\n",
        "test.drop('vdcmun_id', axis=1, inplace=True)\n",
        "\n",
        "# has_repair_started is a leakage column of data because repairs will start after the damage has occured. Our task is to predict the level of damage in a building in a particular area given several geotechnical risks, so it is a form of leaky predictor.\n",
        "\n",
        "train.drop('has_repair_started', axis=1, inplace=True)\n",
        "test.drop('has_repair_started', axis=1, inplace=True)\n",
        "\n",
        "# building_id does not matter for training purposes so we should drop this column from both sets but retain to add to submission data later\n",
        "\n",
        "test_id=test.building_id\n",
        "train_id=train.building_id\n",
        "\n",
        "train.drop('building_id', axis=1, inplace=True)\n",
        "test.drop('building_id', axis=1, inplace=True)\n",
        "\n",
        "# as long as we do not sort values, we should be able to concatenate the two later on\n"
      ],
      "execution_count": 5,
      "outputs": [
        {
          "output_type": "stream",
          "text": [
            "<class 'pandas.core.frame.DataFrame'>\n",
            "RangeIndex: 631761 entries, 0 to 631760\n",
            "Data columns (total 9 columns):\n",
            "building_id                              631761 non-null object\n",
            "damage_grade                             631761 non-null object\n",
            "has_geotechnical_risk_fault_crack        631761 non-null int64\n",
            "has_geotechnical_risk_flood              631761 non-null int64\n",
            "has_geotechnical_risk_land_settlement    631761 non-null int64\n",
            "has_geotechnical_risk_landslide          631761 non-null int64\n",
            "has_geotechnical_risk_liquefaction       631761 non-null int64\n",
            "has_geotechnical_risk_other              631761 non-null int64\n",
            "has_geotechnical_risk_rock_fall          631761 non-null int64\n",
            "dtypes: int64(7), object(2)\n",
            "memory usage: 43.4+ MB\n"
          ],
          "name": "stdout"
        },
        {
          "output_type": "display_data",
          "data": {
            "image/png": "[encoded data removed]",
            "text/plain": [
              "<Figure size 648x288 with 2 Axes>"
            ]
          },
          "metadata": {
            "tags": []
          }
        }
      ]
    },
    {
      "metadata": {
        "id": "it2ozGwFL-_7",
        "colab_type": "code",
        "colab": {
          "base_uri": "https://localhost:8080/",
          "height": 1516
        },
        "outputId": "c7f74bf1-f333-4920-a68c-25962ec3a7c1"
      },
      "cell_type": "code",
      "source": [
        "# create dummy variables for area_assesed and district_id\n",
        "train = pd.concat([train.drop('area_assesed', axis=1), pd.get_dummies(train['area_assesed'])], axis=1)\n",
        "train= pd.concat([train.drop('district_id', axis=1), pd.get_dummies(train['district_id'])], axis=1)\n",
        "\n",
        "test= pd.concat([test.drop('area_assesed', axis=1), pd.get_dummies(test['area_assesed'])], axis=1)\n",
        "test= pd.concat([test.drop('district_id', axis=1), pd.get_dummies(test['district_id'])], axis=1)\n",
        "\n",
        "\n",
        "train['damage_grade']=list(map(lambda x: x.split(' ')[1], train['damage_grade']))\n",
        "train['damage_grade']=train['damage_grade'].astype(int)\n",
        "train.info()\n",
        "# now we build a simple model with logisticregression and onevsrestclassifier\n",
        "\n",
        "clf=OneVsRestClassifier(LogisticRegression())\n",
        "x_train=train.drop('damage_grade', axis=1)\n",
        "y_train=pd.get_dummies(train['damage_grade'])\n",
        "clf.fit(x_train,y_train)\n",
        "\n",
        "print(\"Accuracy: {}\".format(clf.score(x_train, y_train))) #not accuracy 30% only.\n",
        "x_test=test\n",
        "predictions = clf.predict_proba(x_test)\n",
        "pred=pd.DataFrame(predictions, columns=y_train.columns)\n",
        "\n",
        "#return later when bderiel\n",
        "\n",
        "\n",
        "\n",
        "\n",
        "\n",
        "# now build model with xgboost using objective:softmax and testing for best CV params\n",
        "#cv_params = {'max_depth':[3,5]}\n",
        "#clf_params={'objective':'multi:softmax','nthread':2,'max_depth':3,'n_estimators':1000,'subsample':0.5}\n",
        "#\n",
        "#clf=XGBClassifier(**clf_params)\n",
        "#\n",
        "#model=GridSearchCV(clf, cv_params, scoring='accuracy', cv=3, n_jobs=3)\n",
        "#\n",
        "#model.fit(x_train, train['damage_grade'])\n",
        "\n",
        "params={}\n",
        "params['objective'] = 'multi:softmax'\n",
        "# scale weight of positive examples\n",
        "params['eta'] = 0.1\n",
        "params['max_depth'] = 7\n",
        "params['silent'] = 1\n",
        "params['nthread'] = 4\n",
        "params['num_class'] = 6\n",
        "params['subsample']=0.8\n",
        "params['colsample_bytree']=0.7\n",
        "params['min_child_weight']=3\n",
        "\n",
        "xgb_train=xgb.DMatrix(x_train, label=train['damage_grade'])\n",
        "xgb_test=xgb.DMatrix(x_test,label =np.zeros(len(x_test)))\n",
        "\n",
        "watchlist = [(xgb_train, 'train'), (xgb_test, 'test')]\n",
        "num_round = 25\n",
        "bst = xgb.train(params, xgb_train, num_round, watchlist)\n",
        "# get prediction\n",
        "train_pred=bst.predict(xgb_train)\n",
        "preds = bst.predict(xgb_test)\n",
        "error_rate = np.sum(train_pred != train['damage_grade']) / train['damage_grade'].shape[0]\n",
        "print('Accuracy using softmax = {}'.format(1-error_rate))"
      ],
      "execution_count": 6,
      "outputs": [
        {
          "output_type": "stream",
          "text": [
            "<class 'pandas.core.frame.DataFrame'>\n",
            "RangeIndex: 631761 entries, 0 to 631760\n",
            "Data columns (total 45 columns):\n",
            "damage_grade                             631761 non-null int64\n",
            "has_geotechnical_risk                    631761 non-null float64\n",
            "has_geotechnical_risk_fault_crack        631761 non-null int64\n",
            "has_geotechnical_risk_flood              631761 non-null int64\n",
            "has_geotechnical_risk_land_settlement    631761 non-null int64\n",
            "has_geotechnical_risk_landslide          631761 non-null int64\n",
            "has_geotechnical_risk_liquefaction       631761 non-null int64\n",
            "has_geotechnical_risk_other              631761 non-null int64\n",
            "has_geotechnical_risk_rock_fall          631761 non-null int64\n",
            "Both                                     631761 non-null uint8\n",
            "Building removed                         631761 non-null uint8\n",
            "Exterior                                 631761 non-null uint8\n",
            "Interior                                 631761 non-null uint8\n",
            "Not able to inspect                      631761 non-null uint8\n",
            "7                                        631761 non-null uint8\n",
            "9                                        631761 non-null uint8\n",
            "10                                       631761 non-null uint8\n",
            "11                                       631761 non-null uint8\n",
            "12                                       631761 non-null uint8\n",
            "13                                       631761 non-null uint8\n",
            "20                                       631761 non-null uint8\n",
            "21                                       631761 non-null uint8\n",
            "22                                       631761 non-null uint8\n",
            "23                                       631761 non-null uint8\n",
            "24                                       631761 non-null uint8\n",
            "25                                       631761 non-null uint8\n",
            "26                                       631761 non-null uint8\n",
            "27                                       631761 non-null uint8\n",
            "28                                       631761 non-null uint8\n",
            "29                                       631761 non-null uint8\n",
            "30                                       631761 non-null uint8\n",
            "31                                       631761 non-null uint8\n",
            "35                                       631761 non-null uint8\n",
            "36                                       631761 non-null uint8\n",
            "37                                       631761 non-null uint8\n",
            "38                                       631761 non-null uint8\n",
            "39                                       631761 non-null uint8\n",
            "40                                       631761 non-null uint8\n",
            "43                                       631761 non-null uint8\n",
            "44                                       631761 non-null uint8\n",
            "45                                       631761 non-null uint8\n",
            "46                                       631761 non-null uint8\n",
            "47                                       631761 non-null uint8\n",
            "48                                       631761 non-null uint8\n",
            "51                                       631761 non-null uint8\n",
            "dtypes: float64(1), int64(8), uint8(36)\n",
            "memory usage: 65.1 MB\n"
          ],
          "name": "stdout"
        },
        {
          "output_type": "stream",
          "text": [
            "/usr/local/lib/python3.6/dist-packages/sklearn/linear_model/logistic.py:433: FutureWarning: Default solver will be changed to 'lbfgs' in 0.22. Specify a solver to silence this warning.\n",
            "  FutureWarning)\n",
            "/usr/local/lib/python3.6/dist-packages/sklearn/linear_model/logistic.py:433: FutureWarning: Default solver will be changed to 'lbfgs' in 0.22. Specify a solver to silence this warning.\n",
            "  FutureWarning)\n",
            "/usr/local/lib/python3.6/dist-packages/sklearn/linear_model/logistic.py:433: FutureWarning: Default solver will be changed to 'lbfgs' in 0.22. Specify a solver to silence this warning.\n",
            "  FutureWarning)\n",
            "/usr/local/lib/python3.6/dist-packages/sklearn/linear_model/logistic.py:433: FutureWarning: Default solver will be changed to 'lbfgs' in 0.22. Specify a solver to silence this warning.\n",
            "  FutureWarning)\n",
            "/usr/local/lib/python3.6/dist-packages/sklearn/linear_model/logistic.py:433: FutureWarning: Default solver will be changed to 'lbfgs' in 0.22. Specify a solver to silence this warning.\n",
            "  FutureWarning)\n"
          ],
          "name": "stderr"
        },
        {
          "output_type": "stream",
          "text": [
            "Accuracy: 0.2999393758082566\n",
            "[0]\ttrain-merror:0.481704\ttest-merror:1\n",
            "[1]\ttrain-merror:0.458715\ttest-merror:1\n",
            "[2]\ttrain-merror:0.45726\ttest-merror:1\n",
            "[3]\ttrain-merror:0.456014\ttest-merror:1\n",
            "[4]\ttrain-merror:0.458664\ttest-merror:1\n",
            "[5]\ttrain-merror:0.459022\ttest-merror:1\n",
            "[6]\ttrain-merror:0.459403\ttest-merror:1\n",
            "[7]\ttrain-merror:0.457909\ttest-merror:1\n",
            "[8]\ttrain-merror:0.458555\ttest-merror:1\n",
            "[9]\ttrain-merror:0.458159\ttest-merror:1\n",
            "[10]\ttrain-merror:0.457899\ttest-merror:1\n",
            "[11]\ttrain-merror:0.458002\ttest-merror:1\n",
            "[12]\ttrain-merror:0.457108\ttest-merror:1\n",
            "[13]\ttrain-merror:0.457004\ttest-merror:1\n",
            "[14]\ttrain-merror:0.457162\ttest-merror:1\n",
            "[15]\ttrain-merror:0.456844\ttest-merror:1\n",
            "[16]\ttrain-merror:0.456719\ttest-merror:1\n",
            "[17]\ttrain-merror:0.455593\ttest-merror:1\n",
            "[18]\ttrain-merror:0.456351\ttest-merror:1\n",
            "[19]\ttrain-merror:0.455432\ttest-merror:1\n",
            "[20]\ttrain-merror:0.454564\ttest-merror:1\n",
            "[21]\ttrain-merror:0.454501\ttest-merror:1\n",
            "[22]\ttrain-merror:0.454371\ttest-merror:1\n",
            "[23]\ttrain-merror:0.454306\ttest-merror:1\n",
            "[24]\ttrain-merror:0.454403\ttest-merror:1\n",
            "Accuracy using softmax = 0.5455971482886725\n"
          ],
          "name": "stdout"
        }
      ]
    },
    {
      "metadata": {
        "id": "cOhTkKjoWM3V",
        "colab_type": "text"
      },
      "cell_type": "markdown",
      "source": [
        "# TRAIN FRM HERE"
      ]
    },
    {
      "metadata": {
        "id": "G62SMMpwMpxr",
        "colab_type": "code",
        "colab": {}
      },
      "cell_type": "code",
      "source": [
        "import numpy as np # linear algebra\n",
        "import pandas as pd # data processing, CSV file I/O (e.g. pd.read_csv)\n",
        "\n",
        "# Input data files are available in the \"../input/\" directory.\n",
        "# For example, running this (by clicking run or pressing Shift+Enter) will list the files in the input directory\n",
        "\n",
        "import os\n",
        "import matplotlib.pyplot as plt\n",
        "%matplotlib inline\n",
        "import seaborn as sns\n",
        "import sklearn"
      ],
      "execution_count": 0,
      "outputs": []
    },
    {
      "metadata": {
        "id": "f7YP6VvBP9TN",
        "colab_type": "code",
        "colab": {
          "base_uri": "https://localhost:8080/",
          "height": 224
        },
        "outputId": "14ea2b61-d3aa-44c1-9075-59dae585bbde"
      },
      "cell_type": "code",
      "source": [
        "# train=pd.read_csv('gdrive/My Drive/Colab Notebooks/Dataset/train.csv')\n",
        "# test=pd.read_csv('gdrive/My Drive/Colab Notebooks/Dataset/test.csv')\n",
        "# owner=pd.read_csv('gdrive/My Drive/Colab Notebooks/Dataset/Building_Ownership_Use.csv')\n",
        "# structure=pd.read_csv('gdrive/My Drive/Colab Notebooks/Dataset/Building_Structure.csv')\n",
        "\n",
        "building_own =pd.read_csv('gdrive/My Drive/Colab Notebooks/Dataset/Building_Ownership_Use.csv')\n",
        "building_own.head()\n",
        "\n"
      ],
      "execution_count": 9,
      "outputs": [
        {
          "output_type": "execute_result",
          "data": {
            "text/html": [
              "<div>\n",
              "<style scoped>\n",
              "    .dataframe tbody tr th:only-of-type {\n",
              "        vertical-align: middle;\n",
              "    }\n",
              "\n",
              "    .dataframe tbody tr th {\n",
              "        vertical-align: top;\n",
              "    }\n",
              "\n",
              "    .dataframe thead th {\n",
              "        text-align: right;\n",
              "    }\n",
              "</style>\n",
              "<table border=\"1\" class=\"dataframe\">\n",
              "  <thead>\n",
              "    <tr style=\"text-align: right;\">\n",
              "      <th></th>\n",
              "      <th>building_id</th>\n",
              "      <th>district_id</th>\n",
              "      <th>vdcmun_id</th>\n",
              "      <th>ward_id</th>\n",
              "      <th>legal_ownership_status</th>\n",
              "      <th>count_families</th>\n",
              "      <th>has_secondary_use</th>\n",
              "      <th>has_secondary_use_agriculture</th>\n",
              "      <th>has_secondary_use_hotel</th>\n",
              "      <th>has_secondary_use_rental</th>\n",
              "      <th>has_secondary_use_institution</th>\n",
              "      <th>has_secondary_use_school</th>\n",
              "      <th>has_secondary_use_industry</th>\n",
              "      <th>has_secondary_use_health_post</th>\n",
              "      <th>has_secondary_use_gov_office</th>\n",
              "      <th>has_secondary_use_use_police</th>\n",
              "      <th>has_secondary_use_other</th>\n",
              "    </tr>\n",
              "  </thead>\n",
              "  <tbody>\n",
              "    <tr>\n",
              "      <th>0</th>\n",
              "      <td>a3380c4f75</td>\n",
              "      <td>7</td>\n",
              "      <td>701</td>\n",
              "      <td>70102</td>\n",
              "      <td>Private</td>\n",
              "      <td>1.0</td>\n",
              "      <td>0.0</td>\n",
              "      <td>0</td>\n",
              "      <td>0</td>\n",
              "      <td>0</td>\n",
              "      <td>0</td>\n",
              "      <td>0</td>\n",
              "      <td>0</td>\n",
              "      <td>0</td>\n",
              "      <td>0</td>\n",
              "      <td>0</td>\n",
              "      <td>0</td>\n",
              "    </tr>\n",
              "    <tr>\n",
              "      <th>1</th>\n",
              "      <td>a3380c4fd9</td>\n",
              "      <td>7</td>\n",
              "      <td>701</td>\n",
              "      <td>70102</td>\n",
              "      <td>Private</td>\n",
              "      <td>1.0</td>\n",
              "      <td>0.0</td>\n",
              "      <td>0</td>\n",
              "      <td>0</td>\n",
              "      <td>0</td>\n",
              "      <td>0</td>\n",
              "      <td>0</td>\n",
              "      <td>0</td>\n",
              "      <td>0</td>\n",
              "      <td>0</td>\n",
              "      <td>0</td>\n",
              "      <td>0</td>\n",
              "    </tr>\n",
              "    <tr>\n",
              "      <th>2</th>\n",
              "      <td>a3380c503e</td>\n",
              "      <td>7</td>\n",
              "      <td>701</td>\n",
              "      <td>70102</td>\n",
              "      <td>Private</td>\n",
              "      <td>1.0</td>\n",
              "      <td>0.0</td>\n",
              "      <td>0</td>\n",
              "      <td>0</td>\n",
              "      <td>0</td>\n",
              "      <td>0</td>\n",
              "      <td>0</td>\n",
              "      <td>0</td>\n",
              "      <td>0</td>\n",
              "      <td>0</td>\n",
              "      <td>0</td>\n",
              "      <td>0</td>\n",
              "    </tr>\n",
              "    <tr>\n",
              "      <th>3</th>\n",
              "      <td>a338a4e5f2</td>\n",
              "      <td>7</td>\n",
              "      <td>701</td>\n",
              "      <td>70103</td>\n",
              "      <td>Private</td>\n",
              "      <td>1.0</td>\n",
              "      <td>0.0</td>\n",
              "      <td>0</td>\n",
              "      <td>0</td>\n",
              "      <td>0</td>\n",
              "      <td>0</td>\n",
              "      <td>0</td>\n",
              "      <td>0</td>\n",
              "      <td>0</td>\n",
              "      <td>0</td>\n",
              "      <td>0</td>\n",
              "      <td>0</td>\n",
              "    </tr>\n",
              "    <tr>\n",
              "      <th>4</th>\n",
              "      <td>a338a4e653</td>\n",
              "      <td>7</td>\n",
              "      <td>701</td>\n",
              "      <td>70103</td>\n",
              "      <td>Private</td>\n",
              "      <td>1.0</td>\n",
              "      <td>0.0</td>\n",
              "      <td>0</td>\n",
              "      <td>0</td>\n",
              "      <td>0</td>\n",
              "      <td>0</td>\n",
              "      <td>0</td>\n",
              "      <td>0</td>\n",
              "      <td>0</td>\n",
              "      <td>0</td>\n",
              "      <td>0</td>\n",
              "      <td>0</td>\n",
              "    </tr>\n",
              "  </tbody>\n",
              "</table>\n",
              "</div>"
            ],
            "text/plain": [
              "  building_id  district_id  vdcmun_id  ward_id legal_ownership_status  \\\n",
              "0  a3380c4f75            7        701    70102                Private   \n",
              "1  a3380c4fd9            7        701    70102                Private   \n",
              "2  a3380c503e            7        701    70102                Private   \n",
              "3  a338a4e5f2            7        701    70103                Private   \n",
              "4  a338a4e653            7        701    70103                Private   \n",
              "\n",
              "   count_families  has_secondary_use  has_secondary_use_agriculture  \\\n",
              "0             1.0                0.0                              0   \n",
              "1             1.0                0.0                              0   \n",
              "2             1.0                0.0                              0   \n",
              "3             1.0                0.0                              0   \n",
              "4             1.0                0.0                              0   \n",
              "\n",
              "   has_secondary_use_hotel  has_secondary_use_rental  \\\n",
              "0                        0                         0   \n",
              "1                        0                         0   \n",
              "2                        0                         0   \n",
              "3                        0                         0   \n",
              "4                        0                         0   \n",
              "\n",
              "   has_secondary_use_institution  has_secondary_use_school  \\\n",
              "0                              0                         0   \n",
              "1                              0                         0   \n",
              "2                              0                         0   \n",
              "3                              0                         0   \n",
              "4                              0                         0   \n",
              "\n",
              "   has_secondary_use_industry  has_secondary_use_health_post  \\\n",
              "0                           0                              0   \n",
              "1                           0                              0   \n",
              "2                           0                              0   \n",
              "3                           0                              0   \n",
              "4                           0                              0   \n",
              "\n",
              "   has_secondary_use_gov_office  has_secondary_use_use_police  \\\n",
              "0                             0                             0   \n",
              "1                             0                             0   \n",
              "2                             0                             0   \n",
              "3                             0                             0   \n",
              "4                             0                             0   \n",
              "\n",
              "   has_secondary_use_other  \n",
              "0                        0  \n",
              "1                        0  \n",
              "2                        0  \n",
              "3                        0  \n",
              "4                        0  "
            ]
          },
          "metadata": {
            "tags": []
          },
          "execution_count": 9
        }
      ]
    },
    {
      "metadata": {
        "id": "eQhTmfRLQTFe",
        "colab_type": "code",
        "colab": {
          "base_uri": "https://localhost:8080/",
          "height": 34
        },
        "outputId": "4591fe4d-9927-4d80-feae-8369d7cfc771"
      },
      "cell_type": "code",
      "source": [
        "train = pd.read_csv('gdrive/My Drive/Colab Notebooks/Dataset/train.csv')\n",
        "train.shape"
      ],
      "execution_count": 10,
      "outputs": [
        {
          "output_type": "execute_result",
          "data": {
            "text/plain": [
              "(631761, 14)"
            ]
          },
          "metadata": {
            "tags": []
          },
          "execution_count": 10
        }
      ]
    },
    {
      "metadata": {
        "id": "TZvU-arVQaOV",
        "colab_type": "code",
        "colab": {}
      },
      "cell_type": "code",
      "source": [
        "building_str = pd.read_csv('gdrive/My Drive/Colab Notebooks/Dataset/Building_Structure.csv')\n"
      ],
      "execution_count": 0,
      "outputs": []
    },
    {
      "metadata": {
        "id": "R5N0ejxKQis7",
        "colab_type": "code",
        "colab": {
          "base_uri": "https://localhost:8080/",
          "height": 34
        },
        "outputId": "d6400612-dbf6-4675-987a-db0261df3a56"
      },
      "cell_type": "code",
      "source": [
        "test = pd.read_csv('gdrive/My Drive/Colab Notebooks/Dataset/test.csv')\n",
        "test.shape"
      ],
      "execution_count": 12,
      "outputs": [
        {
          "output_type": "execute_result",
          "data": {
            "text/plain": [
              "(421175, 13)"
            ]
          },
          "metadata": {
            "tags": []
          },
          "execution_count": 12
        }
      ]
    },
    {
      "metadata": {
        "id": "64gi2w-8QrRt",
        "colab_type": "code",
        "colab": {}
      },
      "cell_type": "code",
      "source": [
        "#Merging the files\n",
        "combine = pd.merge(building_own,building_str, on='building_id')\n",
        "res_train = pd.merge(combine,train, on = 'building_id')\n",
        "res_test = pd.merge(combine,test, on = 'building_id')"
      ],
      "execution_count": 0,
      "outputs": []
    },
    {
      "metadata": {
        "id": "mto5V6AXRPj9",
        "colab_type": "code",
        "colab": {}
      },
      "cell_type": "code",
      "source": [
        ""
      ],
      "execution_count": 0,
      "outputs": []
    },
    {
      "metadata": {
        "id": "cjBXKnUzRUYw",
        "colab_type": "code",
        "colab": {
          "base_uri": "https://localhost:8080/",
          "height": 253
        },
        "outputId": "ee9020ac-bd72-4d0f-a695-d053af79a161"
      },
      "cell_type": "code",
      "source": [
        "res_train.head()"
      ],
      "execution_count": 14,
      "outputs": [
        {
          "output_type": "execute_result",
          "data": {
            "text/html": [
              "<div>\n",
              "<style scoped>\n",
              "    .dataframe tbody tr th:only-of-type {\n",
              "        vertical-align: middle;\n",
              "    }\n",
              "\n",
              "    .dataframe tbody tr th {\n",
              "        vertical-align: top;\n",
              "    }\n",
              "\n",
              "    .dataframe thead th {\n",
              "        text-align: right;\n",
              "    }\n",
              "</style>\n",
              "<table border=\"1\" class=\"dataframe\">\n",
              "  <thead>\n",
              "    <tr style=\"text-align: right;\">\n",
              "      <th></th>\n",
              "      <th>building_id</th>\n",
              "      <th>district_id_x</th>\n",
              "      <th>vdcmun_id_x</th>\n",
              "      <th>ward_id_x</th>\n",
              "      <th>legal_ownership_status</th>\n",
              "      <th>count_families</th>\n",
              "      <th>has_secondary_use</th>\n",
              "      <th>has_secondary_use_agriculture</th>\n",
              "      <th>has_secondary_use_hotel</th>\n",
              "      <th>has_secondary_use_rental</th>\n",
              "      <th>...</th>\n",
              "      <th>has_geotechnical_risk</th>\n",
              "      <th>has_geotechnical_risk_fault_crack</th>\n",
              "      <th>has_geotechnical_risk_flood</th>\n",
              "      <th>has_geotechnical_risk_land_settlement</th>\n",
              "      <th>has_geotechnical_risk_landslide</th>\n",
              "      <th>has_geotechnical_risk_liquefaction</th>\n",
              "      <th>has_geotechnical_risk_other</th>\n",
              "      <th>has_geotechnical_risk_rock_fall</th>\n",
              "      <th>has_repair_started</th>\n",
              "      <th>vdcmun_id</th>\n",
              "    </tr>\n",
              "  </thead>\n",
              "  <tbody>\n",
              "    <tr>\n",
              "      <th>0</th>\n",
              "      <td>a3380c4fd9</td>\n",
              "      <td>7</td>\n",
              "      <td>701</td>\n",
              "      <td>70102</td>\n",
              "      <td>Private</td>\n",
              "      <td>1.0</td>\n",
              "      <td>0.0</td>\n",
              "      <td>0</td>\n",
              "      <td>0</td>\n",
              "      <td>0</td>\n",
              "      <td>...</td>\n",
              "      <td>0.0</td>\n",
              "      <td>0</td>\n",
              "      <td>0</td>\n",
              "      <td>0</td>\n",
              "      <td>0</td>\n",
              "      <td>0</td>\n",
              "      <td>0</td>\n",
              "      <td>0</td>\n",
              "      <td>1.0</td>\n",
              "      <td>701</td>\n",
              "    </tr>\n",
              "    <tr>\n",
              "      <th>1</th>\n",
              "      <td>a3380c503e</td>\n",
              "      <td>7</td>\n",
              "      <td>701</td>\n",
              "      <td>70102</td>\n",
              "      <td>Private</td>\n",
              "      <td>1.0</td>\n",
              "      <td>0.0</td>\n",
              "      <td>0</td>\n",
              "      <td>0</td>\n",
              "      <td>0</td>\n",
              "      <td>...</td>\n",
              "      <td>0.0</td>\n",
              "      <td>0</td>\n",
              "      <td>0</td>\n",
              "      <td>0</td>\n",
              "      <td>0</td>\n",
              "      <td>0</td>\n",
              "      <td>0</td>\n",
              "      <td>0</td>\n",
              "      <td>1.0</td>\n",
              "      <td>701</td>\n",
              "    </tr>\n",
              "    <tr>\n",
              "      <th>2</th>\n",
              "      <td>a338a4e5f2</td>\n",
              "      <td>7</td>\n",
              "      <td>701</td>\n",
              "      <td>70103</td>\n",
              "      <td>Private</td>\n",
              "      <td>1.0</td>\n",
              "      <td>0.0</td>\n",
              "      <td>0</td>\n",
              "      <td>0</td>\n",
              "      <td>0</td>\n",
              "      <td>...</td>\n",
              "      <td>0.0</td>\n",
              "      <td>0</td>\n",
              "      <td>0</td>\n",
              "      <td>0</td>\n",
              "      <td>0</td>\n",
              "      <td>0</td>\n",
              "      <td>0</td>\n",
              "      <td>0</td>\n",
              "      <td>1.0</td>\n",
              "      <td>701</td>\n",
              "    </tr>\n",
              "    <tr>\n",
              "      <th>3</th>\n",
              "      <td>a338a4e71f</td>\n",
              "      <td>7</td>\n",
              "      <td>701</td>\n",
              "      <td>70103</td>\n",
              "      <td>Private</td>\n",
              "      <td>1.0</td>\n",
              "      <td>0.0</td>\n",
              "      <td>0</td>\n",
              "      <td>0</td>\n",
              "      <td>0</td>\n",
              "      <td>...</td>\n",
              "      <td>0.0</td>\n",
              "      <td>0</td>\n",
              "      <td>0</td>\n",
              "      <td>0</td>\n",
              "      <td>0</td>\n",
              "      <td>0</td>\n",
              "      <td>0</td>\n",
              "      <td>0</td>\n",
              "      <td>1.0</td>\n",
              "      <td>701</td>\n",
              "    </tr>\n",
              "    <tr>\n",
              "      <th>4</th>\n",
              "      <td>a339d612f3</td>\n",
              "      <td>7</td>\n",
              "      <td>701</td>\n",
              "      <td>70105</td>\n",
              "      <td>Private</td>\n",
              "      <td>1.0</td>\n",
              "      <td>0.0</td>\n",
              "      <td>0</td>\n",
              "      <td>0</td>\n",
              "      <td>0</td>\n",
              "      <td>...</td>\n",
              "      <td>0.0</td>\n",
              "      <td>0</td>\n",
              "      <td>0</td>\n",
              "      <td>0</td>\n",
              "      <td>0</td>\n",
              "      <td>0</td>\n",
              "      <td>0</td>\n",
              "      <td>0</td>\n",
              "      <td>1.0</td>\n",
              "      <td>701</td>\n",
              "    </tr>\n",
              "  </tbody>\n",
              "</table>\n",
              "<p>5 rows × 58 columns</p>\n",
              "</div>"
            ],
            "text/plain": [
              "  building_id  district_id_x  vdcmun_id_x  ward_id_x legal_ownership_status  \\\n",
              "0  a3380c4fd9              7          701      70102                Private   \n",
              "1  a3380c503e              7          701      70102                Private   \n",
              "2  a338a4e5f2              7          701      70103                Private   \n",
              "3  a338a4e71f              7          701      70103                Private   \n",
              "4  a339d612f3              7          701      70105                Private   \n",
              "\n",
              "   count_families  has_secondary_use  has_secondary_use_agriculture  \\\n",
              "0             1.0                0.0                              0   \n",
              "1             1.0                0.0                              0   \n",
              "2             1.0                0.0                              0   \n",
              "3             1.0                0.0                              0   \n",
              "4             1.0                0.0                              0   \n",
              "\n",
              "   has_secondary_use_hotel  has_secondary_use_rental    ...      \\\n",
              "0                        0                         0    ...       \n",
              "1                        0                         0    ...       \n",
              "2                        0                         0    ...       \n",
              "3                        0                         0    ...       \n",
              "4                        0                         0    ...       \n",
              "\n",
              "   has_geotechnical_risk  has_geotechnical_risk_fault_crack  \\\n",
              "0                    0.0                                  0   \n",
              "1                    0.0                                  0   \n",
              "2                    0.0                                  0   \n",
              "3                    0.0                                  0   \n",
              "4                    0.0                                  0   \n",
              "\n",
              "   has_geotechnical_risk_flood  has_geotechnical_risk_land_settlement  \\\n",
              "0                            0                                      0   \n",
              "1                            0                                      0   \n",
              "2                            0                                      0   \n",
              "3                            0                                      0   \n",
              "4                            0                                      0   \n",
              "\n",
              "   has_geotechnical_risk_landslide  has_geotechnical_risk_liquefaction  \\\n",
              "0                                0                                   0   \n",
              "1                                0                                   0   \n",
              "2                                0                                   0   \n",
              "3                                0                                   0   \n",
              "4                                0                                   0   \n",
              "\n",
              "   has_geotechnical_risk_other  has_geotechnical_risk_rock_fall  \\\n",
              "0                            0                                0   \n",
              "1                            0                                0   \n",
              "2                            0                                0   \n",
              "3                            0                                0   \n",
              "4                            0                                0   \n",
              "\n",
              "   has_repair_started  vdcmun_id  \n",
              "0                 1.0        701  \n",
              "1                 1.0        701  \n",
              "2                 1.0        701  \n",
              "3                 1.0        701  \n",
              "4                 1.0        701  \n",
              "\n",
              "[5 rows x 58 columns]"
            ]
          },
          "metadata": {
            "tags": []
          },
          "execution_count": 14
        }
      ]
    },
    {
      "metadata": {
        "id": "5E1567WzRU5V",
        "colab_type": "code",
        "colab": {
          "base_uri": "https://localhost:8080/",
          "height": 346
        },
        "outputId": "47966241-3935-47ac-822d-ddacb0a6cba5"
      },
      "cell_type": "code",
      "source": [
        "res_train.describe()\n"
      ],
      "execution_count": 15,
      "outputs": [
        {
          "output_type": "execute_result",
          "data": {
            "text/html": [
              "<div>\n",
              "<style scoped>\n",
              "    .dataframe tbody tr th:only-of-type {\n",
              "        vertical-align: middle;\n",
              "    }\n",
              "\n",
              "    .dataframe tbody tr th {\n",
              "        vertical-align: top;\n",
              "    }\n",
              "\n",
              "    .dataframe thead th {\n",
              "        text-align: right;\n",
              "    }\n",
              "</style>\n",
              "<table border=\"1\" class=\"dataframe\">\n",
              "  <thead>\n",
              "    <tr style=\"text-align: right;\">\n",
              "      <th></th>\n",
              "      <th>district_id_x</th>\n",
              "      <th>vdcmun_id_x</th>\n",
              "      <th>ward_id_x</th>\n",
              "      <th>count_families</th>\n",
              "      <th>has_secondary_use</th>\n",
              "      <th>has_secondary_use_agriculture</th>\n",
              "      <th>has_secondary_use_hotel</th>\n",
              "      <th>has_secondary_use_rental</th>\n",
              "      <th>has_secondary_use_institution</th>\n",
              "      <th>has_secondary_use_school</th>\n",
              "      <th>...</th>\n",
              "      <th>has_geotechnical_risk</th>\n",
              "      <th>has_geotechnical_risk_fault_crack</th>\n",
              "      <th>has_geotechnical_risk_flood</th>\n",
              "      <th>has_geotechnical_risk_land_settlement</th>\n",
              "      <th>has_geotechnical_risk_landslide</th>\n",
              "      <th>has_geotechnical_risk_liquefaction</th>\n",
              "      <th>has_geotechnical_risk_other</th>\n",
              "      <th>has_geotechnical_risk_rock_fall</th>\n",
              "      <th>has_repair_started</th>\n",
              "      <th>vdcmun_id</th>\n",
              "    </tr>\n",
              "  </thead>\n",
              "  <tbody>\n",
              "    <tr>\n",
              "      <th>count</th>\n",
              "      <td>631761.000000</td>\n",
              "      <td>631761.000000</td>\n",
              "      <td>631761.000000</td>\n",
              "      <td>631760.000000</td>\n",
              "      <td>631761.000000</td>\n",
              "      <td>631761.000000</td>\n",
              "      <td>631761.000000</td>\n",
              "      <td>631761.000000</td>\n",
              "      <td>631761.000000</td>\n",
              "      <td>631761.000000</td>\n",
              "      <td>...</td>\n",
              "      <td>631761.000000</td>\n",
              "      <td>631761.000000</td>\n",
              "      <td>631761.000000</td>\n",
              "      <td>631761.000000</td>\n",
              "      <td>631761.000000</td>\n",
              "      <td>631761.000000</td>\n",
              "      <td>631761.000000</td>\n",
              "      <td>631761.000000</td>\n",
              "      <td>598344.000000</td>\n",
              "      <td>631761.000000</td>\n",
              "    </tr>\n",
              "    <tr>\n",
              "      <th>mean</th>\n",
              "      <td>26.831720</td>\n",
              "      <td>2712.186552</td>\n",
              "      <td>271224.334601</td>\n",
              "      <td>0.984075</td>\n",
              "      <td>0.112334</td>\n",
              "      <td>0.063974</td>\n",
              "      <td>0.034182</td>\n",
              "      <td>0.008391</td>\n",
              "      <td>0.000972</td>\n",
              "      <td>0.000397</td>\n",
              "      <td>...</td>\n",
              "      <td>0.123920</td>\n",
              "      <td>0.042708</td>\n",
              "      <td>0.009263</td>\n",
              "      <td>0.034602</td>\n",
              "      <td>0.069629</td>\n",
              "      <td>0.002319</td>\n",
              "      <td>0.001061</td>\n",
              "      <td>0.034853</td>\n",
              "      <td>0.316076</td>\n",
              "      <td>2712.186552</td>\n",
              "    </tr>\n",
              "    <tr>\n",
              "      <th>std</th>\n",
              "      <td>7.771394</td>\n",
              "      <td>777.505768</td>\n",
              "      <td>77750.671303</td>\n",
              "      <td>0.419209</td>\n",
              "      <td>0.315777</td>\n",
              "      <td>0.244706</td>\n",
              "      <td>0.181697</td>\n",
              "      <td>0.091216</td>\n",
              "      <td>0.031160</td>\n",
              "      <td>0.019928</td>\n",
              "      <td>...</td>\n",
              "      <td>0.329491</td>\n",
              "      <td>0.202197</td>\n",
              "      <td>0.095798</td>\n",
              "      <td>0.182769</td>\n",
              "      <td>0.254521</td>\n",
              "      <td>0.048099</td>\n",
              "      <td>0.032548</td>\n",
              "      <td>0.183408</td>\n",
              "      <td>0.464943</td>\n",
              "      <td>777.505768</td>\n",
              "    </tr>\n",
              "    <tr>\n",
              "      <th>min</th>\n",
              "      <td>7.000000</td>\n",
              "      <td>701.000000</td>\n",
              "      <td>70102.000000</td>\n",
              "      <td>0.000000</td>\n",
              "      <td>0.000000</td>\n",
              "      <td>0.000000</td>\n",
              "      <td>0.000000</td>\n",
              "      <td>0.000000</td>\n",
              "      <td>0.000000</td>\n",
              "      <td>0.000000</td>\n",
              "      <td>...</td>\n",
              "      <td>0.000000</td>\n",
              "      <td>0.000000</td>\n",
              "      <td>0.000000</td>\n",
              "      <td>0.000000</td>\n",
              "      <td>0.000000</td>\n",
              "      <td>0.000000</td>\n",
              "      <td>0.000000</td>\n",
              "      <td>0.000000</td>\n",
              "      <td>0.000000</td>\n",
              "      <td>701.000000</td>\n",
              "    </tr>\n",
              "    <tr>\n",
              "      <th>25%</th>\n",
              "      <td>22.000000</td>\n",
              "      <td>2242.000000</td>\n",
              "      <td>224201.000000</td>\n",
              "      <td>1.000000</td>\n",
              "      <td>0.000000</td>\n",
              "      <td>0.000000</td>\n",
              "      <td>0.000000</td>\n",
              "      <td>0.000000</td>\n",
              "      <td>0.000000</td>\n",
              "      <td>0.000000</td>\n",
              "      <td>...</td>\n",
              "      <td>0.000000</td>\n",
              "      <td>0.000000</td>\n",
              "      <td>0.000000</td>\n",
              "      <td>0.000000</td>\n",
              "      <td>0.000000</td>\n",
              "      <td>0.000000</td>\n",
              "      <td>0.000000</td>\n",
              "      <td>0.000000</td>\n",
              "      <td>0.000000</td>\n",
              "      <td>2242.000000</td>\n",
              "    </tr>\n",
              "    <tr>\n",
              "      <th>50%</th>\n",
              "      <td>27.000000</td>\n",
              "      <td>2703.000000</td>\n",
              "      <td>270301.000000</td>\n",
              "      <td>1.000000</td>\n",
              "      <td>0.000000</td>\n",
              "      <td>0.000000</td>\n",
              "      <td>0.000000</td>\n",
              "      <td>0.000000</td>\n",
              "      <td>0.000000</td>\n",
              "      <td>0.000000</td>\n",
              "      <td>...</td>\n",
              "      <td>0.000000</td>\n",
              "      <td>0.000000</td>\n",
              "      <td>0.000000</td>\n",
              "      <td>0.000000</td>\n",
              "      <td>0.000000</td>\n",
              "      <td>0.000000</td>\n",
              "      <td>0.000000</td>\n",
              "      <td>0.000000</td>\n",
              "      <td>0.000000</td>\n",
              "      <td>2703.000000</td>\n",
              "    </tr>\n",
              "    <tr>\n",
              "      <th>75%</th>\n",
              "      <td>31.000000</td>\n",
              "      <td>3119.000000</td>\n",
              "      <td>311901.000000</td>\n",
              "      <td>1.000000</td>\n",
              "      <td>0.000000</td>\n",
              "      <td>0.000000</td>\n",
              "      <td>0.000000</td>\n",
              "      <td>0.000000</td>\n",
              "      <td>0.000000</td>\n",
              "      <td>0.000000</td>\n",
              "      <td>...</td>\n",
              "      <td>0.000000</td>\n",
              "      <td>0.000000</td>\n",
              "      <td>0.000000</td>\n",
              "      <td>0.000000</td>\n",
              "      <td>0.000000</td>\n",
              "      <td>0.000000</td>\n",
              "      <td>0.000000</td>\n",
              "      <td>0.000000</td>\n",
              "      <td>1.000000</td>\n",
              "      <td>3119.000000</td>\n",
              "    </tr>\n",
              "    <tr>\n",
              "      <th>max</th>\n",
              "      <td>51.000000</td>\n",
              "      <td>5142.000000</td>\n",
              "      <td>514209.000000</td>\n",
              "      <td>11.000000</td>\n",
              "      <td>1.000000</td>\n",
              "      <td>1.000000</td>\n",
              "      <td>1.000000</td>\n",
              "      <td>1.000000</td>\n",
              "      <td>1.000000</td>\n",
              "      <td>1.000000</td>\n",
              "      <td>...</td>\n",
              "      <td>1.000000</td>\n",
              "      <td>1.000000</td>\n",
              "      <td>1.000000</td>\n",
              "      <td>1.000000</td>\n",
              "      <td>1.000000</td>\n",
              "      <td>1.000000</td>\n",
              "      <td>1.000000</td>\n",
              "      <td>1.000000</td>\n",
              "      <td>1.000000</td>\n",
              "      <td>5142.000000</td>\n",
              "    </tr>\n",
              "  </tbody>\n",
              "</table>\n",
              "<p>8 rows × 46 columns</p>\n",
              "</div>"
            ],
            "text/plain": [
              "       district_id_x    vdcmun_id_x      ward_id_x  count_families  \\\n",
              "count  631761.000000  631761.000000  631761.000000   631760.000000   \n",
              "mean       26.831720    2712.186552  271224.334601        0.984075   \n",
              "std         7.771394     777.505768   77750.671303        0.419209   \n",
              "min         7.000000     701.000000   70102.000000        0.000000   \n",
              "25%        22.000000    2242.000000  224201.000000        1.000000   \n",
              "50%        27.000000    2703.000000  270301.000000        1.000000   \n",
              "75%        31.000000    3119.000000  311901.000000        1.000000   \n",
              "max        51.000000    5142.000000  514209.000000       11.000000   \n",
              "\n",
              "       has_secondary_use  has_secondary_use_agriculture  \\\n",
              "count      631761.000000                  631761.000000   \n",
              "mean            0.112334                       0.063974   \n",
              "std             0.315777                       0.244706   \n",
              "min             0.000000                       0.000000   \n",
              "25%             0.000000                       0.000000   \n",
              "50%             0.000000                       0.000000   \n",
              "75%             0.000000                       0.000000   \n",
              "max             1.000000                       1.000000   \n",
              "\n",
              "       has_secondary_use_hotel  has_secondary_use_rental  \\\n",
              "count            631761.000000             631761.000000   \n",
              "mean                  0.034182                  0.008391   \n",
              "std                   0.181697                  0.091216   \n",
              "min                   0.000000                  0.000000   \n",
              "25%                   0.000000                  0.000000   \n",
              "50%                   0.000000                  0.000000   \n",
              "75%                   0.000000                  0.000000   \n",
              "max                   1.000000                  1.000000   \n",
              "\n",
              "       has_secondary_use_institution  has_secondary_use_school      ...        \\\n",
              "count                  631761.000000             631761.000000      ...         \n",
              "mean                        0.000972                  0.000397      ...         \n",
              "std                         0.031160                  0.019928      ...         \n",
              "min                         0.000000                  0.000000      ...         \n",
              "25%                         0.000000                  0.000000      ...         \n",
              "50%                         0.000000                  0.000000      ...         \n",
              "75%                         0.000000                  0.000000      ...         \n",
              "max                         1.000000                  1.000000      ...         \n",
              "\n",
              "       has_geotechnical_risk  has_geotechnical_risk_fault_crack  \\\n",
              "count          631761.000000                      631761.000000   \n",
              "mean                0.123920                           0.042708   \n",
              "std                 0.329491                           0.202197   \n",
              "min                 0.000000                           0.000000   \n",
              "25%                 0.000000                           0.000000   \n",
              "50%                 0.000000                           0.000000   \n",
              "75%                 0.000000                           0.000000   \n",
              "max                 1.000000                           1.000000   \n",
              "\n",
              "       has_geotechnical_risk_flood  has_geotechnical_risk_land_settlement  \\\n",
              "count                631761.000000                          631761.000000   \n",
              "mean                      0.009263                               0.034602   \n",
              "std                       0.095798                               0.182769   \n",
              "min                       0.000000                               0.000000   \n",
              "25%                       0.000000                               0.000000   \n",
              "50%                       0.000000                               0.000000   \n",
              "75%                       0.000000                               0.000000   \n",
              "max                       1.000000                               1.000000   \n",
              "\n",
              "       has_geotechnical_risk_landslide  has_geotechnical_risk_liquefaction  \\\n",
              "count                    631761.000000                       631761.000000   \n",
              "mean                          0.069629                            0.002319   \n",
              "std                           0.254521                            0.048099   \n",
              "min                           0.000000                            0.000000   \n",
              "25%                           0.000000                            0.000000   \n",
              "50%                           0.000000                            0.000000   \n",
              "75%                           0.000000                            0.000000   \n",
              "max                           1.000000                            1.000000   \n",
              "\n",
              "       has_geotechnical_risk_other  has_geotechnical_risk_rock_fall  \\\n",
              "count                631761.000000                    631761.000000   \n",
              "mean                      0.001061                         0.034853   \n",
              "std                       0.032548                         0.183408   \n",
              "min                       0.000000                         0.000000   \n",
              "25%                       0.000000                         0.000000   \n",
              "50%                       0.000000                         0.000000   \n",
              "75%                       0.000000                         0.000000   \n",
              "max                       1.000000                         1.000000   \n",
              "\n",
              "       has_repair_started      vdcmun_id  \n",
              "count       598344.000000  631761.000000  \n",
              "mean             0.316076    2712.186552  \n",
              "std              0.464943     777.505768  \n",
              "min              0.000000     701.000000  \n",
              "25%              0.000000    2242.000000  \n",
              "50%              0.000000    2703.000000  \n",
              "75%              1.000000    3119.000000  \n",
              "max              1.000000    5142.000000  \n",
              "\n",
              "[8 rows x 46 columns]"
            ]
          },
          "metadata": {
            "tags": []
          },
          "execution_count": 15
        }
      ]
    },
    {
      "metadata": {
        "id": "su91c39aRYNC",
        "colab_type": "code",
        "colab": {}
      },
      "cell_type": "code",
      "source": [
        "res_train = res_train.drop((['vdcmun_id_y','district_id_y','ward_id_y','vdcmun_id','district_id']) , axis = 1)"
      ],
      "execution_count": 0,
      "outputs": []
    },
    {
      "metadata": {
        "id": "HlCcdCImRbbH",
        "colab_type": "code",
        "colab": {}
      },
      "cell_type": "code",
      "source": [
        "res_test = res_test.drop((['vdcmun_id_y','district_id_y','ward_id_y','vdcmun_id','district_id']) , axis = 1)"
      ],
      "execution_count": 0,
      "outputs": []
    },
    {
      "metadata": {
        "id": "zfUBR5swReFe",
        "colab_type": "code",
        "colab": {
          "base_uri": "https://localhost:8080/",
          "height": 34
        },
        "outputId": "3ccc4989-819a-4474-95c9-aef02a76b727"
      },
      "cell_type": "code",
      "source": [
        "len(res_train)\n"
      ],
      "execution_count": 18,
      "outputs": [
        {
          "output_type": "execute_result",
          "data": {
            "text/plain": [
              "631761"
            ]
          },
          "metadata": {
            "tags": []
          },
          "execution_count": 18
        }
      ]
    },
    {
      "metadata": {
        "id": "2YJjMTI9Rgzq",
        "colab_type": "code",
        "colab": {}
      },
      "cell_type": "code",
      "source": [
        "columns = list(res_train.columns.values)\n",
        "#columns"
      ],
      "execution_count": 0,
      "outputs": []
    },
    {
      "metadata": {
        "id": "880AQp5wRkO7",
        "colab_type": "code",
        "colab": {
          "base_uri": "https://localhost:8080/",
          "height": 34
        },
        "outputId": "e8d39600-6e6e-4397-a1ea-7321a7503721"
      },
      "cell_type": "code",
      "source": [
        "res_test.shape\n"
      ],
      "execution_count": 20,
      "outputs": [
        {
          "output_type": "execute_result",
          "data": {
            "text/plain": [
              "(421175, 52)"
            ]
          },
          "metadata": {
            "tags": []
          },
          "execution_count": 20
        }
      ]
    },
    {
      "metadata": {
        "id": "lG88omOBRmFx",
        "colab_type": "code",
        "colab": {
          "base_uri": "https://localhost:8080/",
          "height": 34
        },
        "outputId": "e1fb9ef8-7ded-4754-daaf-d577a91cf983"
      },
      "cell_type": "code",
      "source": [
        "res_train.shape\n"
      ],
      "execution_count": 21,
      "outputs": [
        {
          "output_type": "execute_result",
          "data": {
            "text/plain": [
              "(631761, 53)"
            ]
          },
          "metadata": {
            "tags": []
          },
          "execution_count": 21
        }
      ]
    },
    {
      "metadata": {
        "id": "Tygxvef4Rpmq",
        "colab_type": "code",
        "colab": {}
      },
      "cell_type": "code",
      "source": [
        ""
      ],
      "execution_count": 0,
      "outputs": []
    },
    {
      "metadata": {
        "id": "1XEdBtXGRsdV",
        "colab_type": "code",
        "colab": {
          "base_uri": "https://localhost:8080/",
          "height": 34
        },
        "outputId": "b83d2a92-01c2-4b2f-a12b-1440faa26630"
      },
      "cell_type": "code",
      "source": [
        "res_train.columns[res_train.isnull().any()]\n"
      ],
      "execution_count": 22,
      "outputs": [
        {
          "output_type": "execute_result",
          "data": {
            "text/plain": [
              "Index(['count_families', 'has_repair_started'], dtype='object')"
            ]
          },
          "metadata": {
            "tags": []
          },
          "execution_count": 22
        }
      ]
    },
    {
      "metadata": {
        "id": "Qa1nnW1qRs9x",
        "colab_type": "code",
        "colab": {
          "base_uri": "https://localhost:8080/",
          "height": 68
        },
        "outputId": "08b701a5-e73c-4113-e47e-361efc9056f4"
      },
      "cell_type": "code",
      "source": [
        "miss = res_train.isnull().sum() / len(res_train)\n",
        "miss = miss[miss > 0]\n",
        "miss"
      ],
      "execution_count": 23,
      "outputs": [
        {
          "output_type": "execute_result",
          "data": {
            "text/plain": [
              "count_families        0.000002\n",
              "has_repair_started    0.052895\n",
              "dtype: float64"
            ]
          },
          "metadata": {
            "tags": []
          },
          "execution_count": 23
        }
      ]
    },
    {
      "metadata": {
        "id": "y6_C6NAcRva7",
        "colab_type": "code",
        "colab": {
          "base_uri": "https://localhost:8080/",
          "height": 485
        },
        "outputId": "4ddcc40e-e33f-4a57-9dda-aa8b744be4c7"
      },
      "cell_type": "code",
      "source": [
        "miss = miss.to_frame()\n",
        "miss.columns = ['count']\n",
        "miss.index.names = ['Name']\n",
        "miss['Name'] = miss.index\n",
        "\n",
        "#Plotting the values\n",
        "\n",
        "sns.set(style = \"whitegrid\", color_codes = True)\n",
        "sns.barplot(x = 'Name', y = 'count',data = miss )\n",
        "plt.xticks(rotation = 90)"
      ],
      "execution_count": 24,
      "outputs": [
        {
          "output_type": "stream",
          "text": [
            "/usr/local/lib/python3.6/dist-packages/seaborn/categorical.py:1428: FutureWarning: remove_na is deprecated and is a private function. Do not use.\n",
            "  stat_data = remove_na(group_data)\n"
          ],
          "name": "stderr"
        },
        {
          "output_type": "execute_result",
          "data": {
            "text/plain": [
              "(array([0, 1]), <a list of 2 Text xticklabel objects>)"
            ]
          },
          "metadata": {
            "tags": []
          },
          "execution_count": 24
        },
        {
          "output_type": "display_data",
          "data": {
            "image/png": "[encoded data removed]",
            "text/plain": [
              "<Figure size 576x396 with 1 Axes>"
            ]
          },
          "metadata": {
            "tags": []
          }
        }
      ]
    },
    {
      "metadata": {
        "id": "YIEP0vwVRzGy",
        "colab_type": "code",
        "colab": {
          "base_uri": "https://localhost:8080/",
          "height": 540
        },
        "outputId": "01b2542a-363f-4cda-e5ee-79d855c8eb4e"
      },
      "cell_type": "code",
      "source": [
        "target = res_train['damage_grade'].value_counts()\n",
        "print(target)\n",
        "target = target.to_frame()\n",
        "target.columns = ['Count']\n",
        "target.index.names = ['Damage_Grade']\n",
        "target['Damage_Grade'] = target.index \n",
        "\n",
        "#Plotting the Target variable\n",
        "sns.set(style = 'whitegrid', color_codes = True)\n",
        "sns.barplot(x = 'Damage_Grade', y = 'Count', data = target)\n",
        "plt.xticks(rotation = 90)"
      ],
      "execution_count": 25,
      "outputs": [
        {
          "output_type": "stream",
          "text": [
            "Grade 5    210825\n",
            "Grade 4    152244\n",
            "Grade 3    122288\n",
            "Grade 2     85084\n",
            "Grade 1     61320\n",
            "Name: damage_grade, dtype: int64\n"
          ],
          "name": "stdout"
        },
        {
          "output_type": "stream",
          "text": [
            "/usr/local/lib/python3.6/dist-packages/seaborn/categorical.py:1428: FutureWarning: remove_na is deprecated and is a private function. Do not use.\n",
            "  stat_data = remove_na(group_data)\n"
          ],
          "name": "stderr"
        },
        {
          "output_type": "execute_result",
          "data": {
            "text/plain": [
              "(array([0, 1, 2, 3, 4]), <a list of 5 Text xticklabel objects>)"
            ]
          },
          "metadata": {
            "tags": []
          },
          "execution_count": 25
        },
        {
          "output_type": "display_data",
          "data": {
            "image/png": "[encoded data removed]",
            "text/plain": [
              "<Figure size 576x396 with 1 Axes>"
            ]
          },
          "metadata": {
            "tags": []
          }
        }
      ]
    },
    {
      "metadata": {
        "id": "5MAZd2kdR2SK",
        "colab_type": "code",
        "colab": {
          "base_uri": "https://localhost:8080/",
          "height": 405
        },
        "outputId": "ad6bf6c7-bac4-4ea7-a3f2-1b3ff3dc03b5"
      },
      "cell_type": "code",
      "source": [
        "res_train['legal_ownership_status'].value_counts().plot.bar()\n"
      ],
      "execution_count": 26,
      "outputs": [
        {
          "output_type": "execute_result",
          "data": {
            "text/plain": [
              "<matplotlib.axes._subplots.AxesSubplot at 0x7f2837916cf8>"
            ]
          },
          "metadata": {
            "tags": []
          },
          "execution_count": 26
        },
        {
          "output_type": "display_data",
          "data": {
            "image/png": "[encoded data removed]",
            "text/plain": [
              "<Figure size 576x396 with 1 Axes>"
            ]
          },
          "metadata": {
            "tags": []
          }
        }
      ]
    },
    {
      "metadata": {
        "id": "7qUIYl9eR76R",
        "colab_type": "code",
        "colab": {
          "base_uri": "https://localhost:8080/",
          "height": 433
        },
        "outputId": "78c3d858-6601-424d-ecb9-56e5eb1866cb"
      },
      "cell_type": "code",
      "source": [
        "sns.distplot(res_train['age_building'])\n"
      ],
      "execution_count": 27,
      "outputs": [
        {
          "output_type": "stream",
          "text": [
            "/usr/local/lib/python3.6/dist-packages/matplotlib/axes/_axes.py:6521: MatplotlibDeprecationWarning: \n",
            "The 'normed' kwarg was deprecated in Matplotlib 2.1 and will be removed in 3.1. Use 'density' instead.\n",
            "  alternative=\"'density'\", removal=\"3.1\")\n"
          ],
          "name": "stderr"
        },
        {
          "output_type": "execute_result",
          "data": {
            "text/plain": [
              "<matplotlib.axes._subplots.AxesSubplot at 0x7f28377e0d30>"
            ]
          },
          "metadata": {
            "tags": []
          },
          "execution_count": 27
        },
        {
          "output_type": "display_data",
          "data": {
            "image/png": "[encoded data removed]",
            "text/plain": [
              "<Figure size 576x396 with 1 Axes>"
            ]
          },
          "metadata": {
            "tags": []
          }
        }
      ]
    },
    {
      "metadata": {
        "id": "_BPlkRS6SBaz",
        "colab_type": "code",
        "colab": {
          "base_uri": "https://localhost:8080/",
          "height": 34
        },
        "outputId": "4a37a203-c45a-4569-ce43-d61bb3e9de87"
      },
      "cell_type": "code",
      "source": [
        "print(\"The skewness of Age of building is {}\".format(res_train['age_building'].skew()))\n"
      ],
      "execution_count": 28,
      "outputs": [
        {
          "output_type": "stream",
          "text": [
            "The skewness of Age of building is 12.356283383410254\n"
          ],
          "name": "stdout"
        }
      ]
    },
    {
      "metadata": {
        "id": "o5w351CgSEVL",
        "colab_type": "code",
        "colab": {
          "base_uri": "https://localhost:8080/",
          "height": 568
        },
        "outputId": "6f9d0032-e870-443d-ffb6-8430186e7de0"
      },
      "cell_type": "code",
      "source": [
        "print(res_train['count_families'].value_counts())\n",
        "res_train['count_families'].value_counts().sort_index().plot.line()"
      ],
      "execution_count": 29,
      "outputs": [
        {
          "output_type": "stream",
          "text": [
            "1.0     547837\n",
            "0.0      50659\n",
            "2.0      27771\n",
            "3.0       4185\n",
            "4.0        939\n",
            "5.0        262\n",
            "6.0         73\n",
            "7.0         19\n",
            "8.0          9\n",
            "9.0          5\n",
            "11.0         1\n",
            "Name: count_families, dtype: int64\n"
          ],
          "name": "stdout"
        },
        {
          "output_type": "execute_result",
          "data": {
            "text/plain": [
              "<matplotlib.axes._subplots.AxesSubplot at 0x7f2837673128>"
            ]
          },
          "metadata": {
            "tags": []
          },
          "execution_count": 29
        },
        {
          "output_type": "display_data",
          "data": {
            "image/png": "[encoded data removed]",
            "text/plain": [
              "<Figure size 576x396 with 1 Axes>"
            ]
          },
          "metadata": {
            "tags": []
          }
        }
      ]
    },
    {
      "metadata": {
        "id": "PktGjgzASHCY",
        "colab_type": "code",
        "colab": {
          "base_uri": "https://localhost:8080/",
          "height": 34
        },
        "outputId": "ecef85c9-bc4f-413e-cffd-d6c357bf7439"
      },
      "cell_type": "code",
      "source": [
        "print(\"The skewness of Count of families is {}\".format(res_train['count_families'].skew()))"
      ],
      "execution_count": 30,
      "outputs": [
        {
          "output_type": "stream",
          "text": [
            "The skewness of Count of families is 1.673681887513851\n"
          ],
          "name": "stdout"
        }
      ]
    },
    {
      "metadata": {
        "id": "s51ruh75SJ-X",
        "colab_type": "code",
        "colab": {
          "base_uri": "https://localhost:8080/",
          "height": 591
        },
        "outputId": "936557c9-4afe-46d2-de9e-fe9594fac6f2"
      },
      "cell_type": "code",
      "source": [
        "print(res_train['condition_post_eq'].unique())\n",
        "res_train['condition_post_eq'].value_counts().plot.bar()"
      ],
      "execution_count": 31,
      "outputs": [
        {
          "output_type": "stream",
          "text": [
            "['Damaged-Repaired and used' 'Damaged-Not used' 'Damaged-Rubble clear'\n",
            " 'Damaged-Rubble Clear-New building built' 'Damaged-Used in risk'\n",
            " 'Damaged-Rubble unclear' 'Not damaged' 'Covered by landslide']\n"
          ],
          "name": "stdout"
        },
        {
          "output_type": "execute_result",
          "data": {
            "text/plain": [
              "<matplotlib.axes._subplots.AxesSubplot at 0x7f2837648a58>"
            ]
          },
          "metadata": {
            "tags": []
          },
          "execution_count": 31
        },
        {
          "output_type": "display_data",
          "data": {
            "image/png": "[encoded data removed]",
            "text/plain": [
              "<Figure size 576x396 with 1 Axes>"
            ]
          },
          "metadata": {
            "tags": []
          }
        }
      ]
    },
    {
      "metadata": {
        "id": "K8J46MMySNOx",
        "colab_type": "code",
        "colab": {}
      },
      "cell_type": "code",
      "source": [
        ""
      ],
      "execution_count": 0,
      "outputs": []
    },
    {
      "metadata": {
        "id": "4pywWSlOSAxh",
        "colab_type": "code",
        "colab": {}
      },
      "cell_type": "code",
      "source": [
        "import scipy.stats as ss\n",
        "from scipy.stats import chi2_contingency\n",
        "from scipy.stats import chi2"
      ],
      "execution_count": 0,
      "outputs": []
    },
    {
      "metadata": {
        "id": "Qp89KIPcSUgN",
        "colab_type": "code",
        "colab": {
          "base_uri": "https://localhost:8080/",
          "height": 221
        },
        "outputId": "afddc661-6fe4-4c44-9969-eed3c772539e"
      },
      "cell_type": "code",
      "source": [
        "clean_up = {'damage_grade' : {\"Grade 1\" : 1, \"Grade 2\" : 2, \"Grade 3\" : 3,\"Grade 4\" : 4,\"Grade 5\" : 5}}\n",
        "train_dg = pd.DataFrame()\n",
        "train_dg['damage_grade'] = res_train['damage_grade']\n",
        "\n",
        "train_dg.replace(clean_up, inplace = True)\n",
        "print(train_dg['damage_grade'].head())\n",
        "\n",
        "res_train['damage_grade'] = train_dg['damage_grade']\n",
        "res_train['damage_grade'].head()"
      ],
      "execution_count": 33,
      "outputs": [
        {
          "output_type": "stream",
          "text": [
            "0    2\n",
            "1    3\n",
            "2    3\n",
            "3    4\n",
            "4    3\n",
            "Name: damage_grade, dtype: int64\n"
          ],
          "name": "stdout"
        },
        {
          "output_type": "execute_result",
          "data": {
            "text/plain": [
              "0    2\n",
              "1    3\n",
              "2    3\n",
              "3    4\n",
              "4    3\n",
              "Name: damage_grade, dtype: int64"
            ]
          },
          "metadata": {
            "tags": []
          },
          "execution_count": 33
        }
      ]
    },
    {
      "metadata": {
        "id": "-RYs_aNfSYT2",
        "colab_type": "code",
        "colab": {}
      },
      "cell_type": "code",
      "source": [
        "cat = [c for c in res_train if res_train[c].dtypes == \"object\"]"
      ],
      "execution_count": 0,
      "outputs": []
    },
    {
      "metadata": {
        "id": "1PbSIK0SSeV4",
        "colab_type": "code",
        "colab": {}
      },
      "cell_type": "code",
      "source": [
        "cat.remove('building_id')\n"
      ],
      "execution_count": 0,
      "outputs": []
    },
    {
      "metadata": {
        "id": "reHhDVtGSjXI",
        "colab_type": "code",
        "colab": {}
      },
      "cell_type": "code",
      "source": [
        "def ChiSquareTest(cat,res_train):\n",
        "  \n",
        "  for c in cat:\n",
        "    print(c)\n",
        "    tab = pd.crosstab(res_train['damage_grade'], res_train[c])\n",
        "    stat, p, dof, expected = chi2_contingency(tab)\n",
        "    print('dof=%d' % dof)\n",
        "    #print(expected)\n",
        "    # interpret test-statistic\n",
        "    prob = 0.95\n",
        "    critical = chi2.ppf(prob, dof)\n",
        "    print('probability=%.3f, critical=%.3f, stat=%.3f' % (prob, critical, stat))\n",
        "    if abs(stat) >= critical:\n",
        "      print('Dependent (reject H0)')\n",
        "    else:\n",
        "      print('Independent (fail to reject H0)')\n",
        "    # interpret p-value\n",
        "    alpha = 1.0 - prob\n",
        "    print('significance=%.3f, p=%.3f' % (alpha, p))\n",
        "    if p <= alpha:\n",
        "      print('Dependent (reject H0)')\n",
        "    else:\n",
        "      print('Independent (fail to reject H0)')\n",
        "     \n",
        "    print(\" \")"
      ],
      "execution_count": 0,
      "outputs": []
    },
    {
      "metadata": {
        "id": "WGnO6NX0Slxx",
        "colab_type": "code",
        "colab": {
          "base_uri": "https://localhost:8080/",
          "height": 1207
        },
        "outputId": "a702756c-5d05-446e-908d-55547eaa0120"
      },
      "cell_type": "code",
      "source": [
        "ChiSquareTest(cat,res_train)\n"
      ],
      "execution_count": 37,
      "outputs": [
        {
          "output_type": "stream",
          "text": [
            "legal_ownership_status\n",
            "dof=12\n",
            "probability=0.950, critical=21.026, stat=8113.932\n",
            "Dependent (reject H0)\n",
            "significance=0.050, p=0.000\n",
            "Dependent (reject H0)\n",
            " \n",
            "land_surface_condition\n",
            "dof=8\n",
            "probability=0.950, critical=15.507, stat=1408.392\n",
            "Dependent (reject H0)\n",
            "significance=0.050, p=0.000\n",
            "Dependent (reject H0)\n",
            " \n",
            "foundation_type\n",
            "dof=16\n",
            "probability=0.950, critical=26.296, stat=138103.743\n",
            "Dependent (reject H0)\n",
            "significance=0.050, p=0.000\n",
            "Dependent (reject H0)\n",
            " \n",
            "roof_type\n",
            "dof=8\n",
            "probability=0.950, critical=15.507, stat=85099.545\n",
            "Dependent (reject H0)\n",
            "significance=0.050, p=0.000\n",
            "Dependent (reject H0)\n",
            " \n",
            "ground_floor_type\n",
            "dof=16\n",
            "probability=0.950, critical=26.296, stat=107177.045\n",
            "Dependent (reject H0)\n",
            "significance=0.050, p=0.000\n",
            "Dependent (reject H0)\n",
            " \n",
            "other_floor_type\n",
            "dof=12\n",
            "probability=0.950, critical=21.026, stat=93978.074\n",
            "Dependent (reject H0)\n",
            "significance=0.050, p=0.000\n",
            "Dependent (reject H0)\n",
            " \n",
            "position\n",
            "dof=12\n",
            "probability=0.950, critical=21.026, stat=5026.896\n",
            "Dependent (reject H0)\n",
            "significance=0.050, p=0.000\n",
            "Dependent (reject H0)\n",
            " \n",
            "plan_configuration\n",
            "dof=36\n",
            "probability=0.950, critical=50.998, stat=4672.139\n",
            "Dependent (reject H0)\n",
            "significance=0.050, p=0.000\n",
            "Dependent (reject H0)\n",
            " \n",
            "condition_post_eq\n",
            "dof=28\n",
            "probability=0.950, critical=41.337, stat=1112041.847\n",
            "Dependent (reject H0)\n",
            "significance=0.050, p=0.000\n",
            "Dependent (reject H0)\n",
            " \n",
            "area_assesed\n",
            "dof=16\n",
            "probability=0.950, critical=26.296, stat=429576.136\n",
            "Dependent (reject H0)\n",
            "significance=0.050, p=0.000\n",
            "Dependent (reject H0)\n",
            " \n"
          ],
          "name": "stdout"
        }
      ]
    },
    {
      "metadata": {
        "id": "ias_5204SpR1",
        "colab_type": "code",
        "colab": {
          "base_uri": "https://localhost:8080/",
          "height": 527
        },
        "outputId": "1788aa94-eaa2-4ee5-aeb0-7ac2c0ea9a4f"
      },
      "cell_type": "code",
      "source": [
        "\n",
        "cat_binary = [c for c in res_train if len(res_train[c].unique()) == 2]\n",
        "cat_binary"
      ],
      "execution_count": 38,
      "outputs": [
        {
          "output_type": "execute_result",
          "data": {
            "text/plain": [
              "['has_secondary_use',\n",
              " 'has_secondary_use_agriculture',\n",
              " 'has_secondary_use_hotel',\n",
              " 'has_secondary_use_rental',\n",
              " 'has_secondary_use_institution',\n",
              " 'has_secondary_use_school',\n",
              " 'has_secondary_use_industry',\n",
              " 'has_secondary_use_health_post',\n",
              " 'has_secondary_use_gov_office',\n",
              " 'has_secondary_use_use_police',\n",
              " 'has_secondary_use_other',\n",
              " 'has_superstructure_adobe_mud',\n",
              " 'has_superstructure_mud_mortar_stone',\n",
              " 'has_superstructure_stone_flag',\n",
              " 'has_superstructure_cement_mortar_stone',\n",
              " 'has_superstructure_mud_mortar_brick',\n",
              " 'has_superstructure_cement_mortar_brick',\n",
              " 'has_superstructure_timber',\n",
              " 'has_superstructure_bamboo',\n",
              " 'has_superstructure_rc_non_engineered',\n",
              " 'has_superstructure_rc_engineered',\n",
              " 'has_superstructure_other',\n",
              " 'has_geotechnical_risk',\n",
              " 'has_geotechnical_risk_fault_crack',\n",
              " 'has_geotechnical_risk_flood',\n",
              " 'has_geotechnical_risk_land_settlement',\n",
              " 'has_geotechnical_risk_landslide',\n",
              " 'has_geotechnical_risk_liquefaction',\n",
              " 'has_geotechnical_risk_other',\n",
              " 'has_geotechnical_risk_rock_fall']"
            ]
          },
          "metadata": {
            "tags": []
          },
          "execution_count": 38
        }
      ]
    },
    {
      "metadata": {
        "id": "0-H2DqTOSusW",
        "colab_type": "code",
        "colab": {}
      },
      "cell_type": "code",
      "source": [
        "def cramers_v(x, y):\n",
        "  correlation_coeff = []\n",
        "  for c in cat_binary:\n",
        "    confusion_matrix = pd.crosstab(res_train[c],y)\n",
        "    chi2 = ss.chi2_contingency(confusion_matrix)[0]\n",
        "    n = confusion_matrix.sum().sum()\n",
        "    phi2 = chi2/n\n",
        "    r,k = confusion_matrix.shape\n",
        "    phi2corr = max(0, phi2-((k-1)*(r-1))/(n-1))\n",
        "    rcorr = r-((r-1)**2)/(n-1)\n",
        "    kcorr = k-((k-1)**2)/(n-1)\n",
        "    \n",
        "    correlation_coeff.append([c,np.sqrt(phi2corr/min((kcorr-1),(rcorr-1)))])\n",
        "    \n",
        "  return correlation_coeff"
      ],
      "execution_count": 0,
      "outputs": []
    },
    {
      "metadata": {
        "id": "1qcCnvFbS0D5",
        "colab_type": "code",
        "colab": {
          "base_uri": "https://localhost:8080/",
          "height": 527
        },
        "outputId": "f7308217-6f44-4eb9-c851-4b15abcefeca"
      },
      "cell_type": "code",
      "source": [
        "cramers_v(cat_binary, res_train['damage_grade'])\n"
      ],
      "execution_count": 40,
      "outputs": [
        {
          "output_type": "execute_result",
          "data": {
            "text/plain": [
              "[['has_secondary_use', 0.08441248217165927],\n",
              " ['has_secondary_use_agriculture', 0.05948222661881513],\n",
              " ['has_secondary_use_hotel', 0.11931727185148487],\n",
              " ['has_secondary_use_rental', 0.10798851155159755],\n",
              " ['has_secondary_use_institution', 0.04000696439985445],\n",
              " ['has_secondary_use_school', 0.02115838376096302],\n",
              " ['has_secondary_use_industry', 0.012146442641532596],\n",
              " ['has_secondary_use_health_post', 0.009057079201118534],\n",
              " ['has_secondary_use_gov_office', 0.010428605108001273],\n",
              " ['has_secondary_use_use_police', 0.001672082018154515],\n",
              " ['has_secondary_use_other', 0.024000617699672995],\n",
              " ['has_superstructure_adobe_mud', 0.10906485273848247],\n",
              " ['has_superstructure_mud_mortar_stone', 0.3516007808920147],\n",
              " ['has_superstructure_stone_flag', 0.06369988742717195],\n",
              " ['has_superstructure_cement_mortar_stone', 0.07605311792908845],\n",
              " ['has_superstructure_mud_mortar_brick', 0.09329851436407582],\n",
              " ['has_superstructure_cement_mortar_brick', 0.31581765697361813],\n",
              " ['has_superstructure_timber', 0.08212323869868045],\n",
              " ['has_superstructure_bamboo', 0.07777505487920311],\n",
              " ['has_superstructure_rc_non_engineered', 0.21294726021176905],\n",
              " ['has_superstructure_rc_engineered', 0.24306162571376244],\n",
              " ['has_superstructure_other', 0.035730980209099664],\n",
              " ['has_geotechnical_risk', 0.08894886012774808],\n",
              " ['has_geotechnical_risk_fault_crack', 0.10073006730766738],\n",
              " ['has_geotechnical_risk_flood', 0.03175636548209928],\n",
              " ['has_geotechnical_risk_land_settlement', 0.05789496011707349],\n",
              " ['has_geotechnical_risk_landslide', 0.06986946541177956],\n",
              " ['has_geotechnical_risk_liquefaction', 0.020957175572012158],\n",
              " ['has_geotechnical_risk_other', 0.007301911809520293],\n",
              " ['has_geotechnical_risk_rock_fall', 0.06481739249408013]]"
            ]
          },
          "metadata": {
            "tags": []
          },
          "execution_count": 40
        }
      ]
    },
    {
      "metadata": {
        "id": "dHWYqhHeS2xz",
        "colab_type": "code",
        "colab": {
          "base_uri": "https://localhost:8080/",
          "height": 3587
        },
        "outputId": "62640f40-2290-48c1-9d6e-68b35493a6b7"
      },
      "cell_type": "code",
      "source": [
        "ChiSquareTest(cat_binary,res_train)\n"
      ],
      "execution_count": 41,
      "outputs": [
        {
          "output_type": "stream",
          "text": [
            "has_secondary_use\n",
            "dof=4\n",
            "probability=0.950, critical=9.488, stat=4505.585\n",
            "Dependent (reject H0)\n",
            "significance=0.050, p=0.000\n",
            "Dependent (reject H0)\n",
            " \n",
            "has_secondary_use_agriculture\n",
            "dof=4\n",
            "probability=0.950, critical=9.488, stat=2239.252\n",
            "Dependent (reject H0)\n",
            "significance=0.050, p=0.000\n",
            "Dependent (reject H0)\n",
            " \n",
            "has_secondary_use_hotel\n",
            "dof=4\n",
            "probability=0.950, critical=9.488, stat=8998.122\n",
            "Dependent (reject H0)\n",
            "significance=0.050, p=0.000\n",
            "Dependent (reject H0)\n",
            " \n",
            "has_secondary_use_rental\n",
            "dof=4\n",
            "probability=0.950, critical=9.488, stat=7371.281\n",
            "Dependent (reject H0)\n",
            "significance=0.050, p=0.000\n",
            "Dependent (reject H0)\n",
            " \n",
            "has_secondary_use_institution\n",
            "dof=4\n",
            "probability=0.950, critical=9.488, stat=1015.168\n",
            "Dependent (reject H0)\n",
            "significance=0.050, p=0.000\n",
            "Dependent (reject H0)\n",
            " \n",
            "has_secondary_use_school\n",
            "dof=4\n",
            "probability=0.950, critical=9.488, stat=286.825\n",
            "Dependent (reject H0)\n",
            "significance=0.050, p=0.000\n",
            "Dependent (reject H0)\n",
            " \n",
            "has_secondary_use_industry\n",
            "dof=4\n",
            "probability=0.950, critical=9.488, stat=97.207\n",
            "Dependent (reject H0)\n",
            "significance=0.050, p=0.000\n",
            "Dependent (reject H0)\n",
            " \n",
            "has_secondary_use_health_post\n",
            "dof=4\n",
            "probability=0.950, critical=9.488, stat=55.824\n",
            "Dependent (reject H0)\n",
            "significance=0.050, p=0.000\n",
            "Dependent (reject H0)\n",
            " \n",
            "has_secondary_use_gov_office\n",
            "dof=4\n",
            "probability=0.950, critical=9.488, stat=72.708\n",
            "Dependent (reject H0)\n",
            "significance=0.050, p=0.000\n",
            "Dependent (reject H0)\n",
            " \n",
            "has_secondary_use_use_police\n",
            "dof=4\n",
            "probability=0.950, critical=9.488, stat=5.766\n",
            "Independent (fail to reject H0)\n",
            "significance=0.050, p=0.217\n",
            "Independent (fail to reject H0)\n",
            " \n",
            "has_secondary_use_other\n",
            "dof=4\n",
            "probability=0.950, critical=9.488, stat=367.912\n",
            "Dependent (reject H0)\n",
            "significance=0.050, p=0.000\n",
            "Dependent (reject H0)\n",
            " \n",
            "has_superstructure_adobe_mud\n",
            "dof=4\n",
            "probability=0.950, critical=9.488, stat=7518.875\n",
            "Dependent (reject H0)\n",
            "significance=0.050, p=0.000\n",
            "Dependent (reject H0)\n",
            " \n",
            "has_superstructure_mud_mortar_stone\n",
            "dof=4\n",
            "probability=0.950, critical=9.488, stat=78104.135\n",
            "Dependent (reject H0)\n",
            "significance=0.050, p=0.000\n",
            "Dependent (reject H0)\n",
            " \n",
            "has_superstructure_stone_flag\n",
            "dof=4\n",
            "probability=0.950, critical=9.488, stat=2567.477\n",
            "Dependent (reject H0)\n",
            "significance=0.050, p=0.000\n",
            "Dependent (reject H0)\n",
            " \n",
            "has_superstructure_cement_mortar_stone\n",
            "dof=4\n",
            "probability=0.950, critical=9.488, stat=3658.148\n",
            "Dependent (reject H0)\n",
            "significance=0.050, p=0.000\n",
            "Dependent (reject H0)\n",
            " \n",
            "has_superstructure_mud_mortar_brick\n",
            "dof=4\n",
            "probability=0.950, critical=9.488, stat=5503.226\n",
            "Dependent (reject H0)\n",
            "significance=0.050, p=0.000\n",
            "Dependent (reject H0)\n",
            " \n",
            "has_superstructure_cement_mortar_brick\n",
            "dof=4\n",
            "probability=0.950, critical=9.488, stat=63016.243\n",
            "Dependent (reject H0)\n",
            "significance=0.050, p=0.000\n",
            "Dependent (reject H0)\n",
            " \n",
            "has_superstructure_timber\n",
            "dof=4\n",
            "probability=0.950, critical=9.488, stat=4264.732\n",
            "Dependent (reject H0)\n",
            "significance=0.050, p=0.000\n",
            "Dependent (reject H0)\n",
            " \n",
            "has_superstructure_bamboo\n",
            "dof=4\n",
            "probability=0.950, critical=9.488, stat=3825.490\n",
            "Dependent (reject H0)\n",
            "significance=0.050, p=0.000\n",
            "Dependent (reject H0)\n",
            " \n",
            "has_superstructure_rc_non_engineered\n",
            "dof=4\n",
            "probability=0.950, critical=9.488, stat=28652.127\n",
            "Dependent (reject H0)\n",
            "significance=0.050, p=0.000\n",
            "Dependent (reject H0)\n",
            " \n",
            "has_superstructure_rc_engineered\n",
            "dof=4\n",
            "probability=0.950, critical=9.488, stat=37327.720\n",
            "Dependent (reject H0)\n",
            "significance=0.050, p=0.000\n",
            "Dependent (reject H0)\n",
            " \n",
            "has_superstructure_other\n",
            "dof=4\n",
            "probability=0.950, critical=9.488, stat=810.570\n",
            "Dependent (reject H0)\n",
            "significance=0.050, p=0.000\n",
            "Dependent (reject H0)\n",
            " \n",
            "has_geotechnical_risk\n",
            "dof=4\n",
            "probability=0.950, critical=9.488, stat=5002.422\n",
            "Dependent (reject H0)\n",
            "significance=0.050, p=0.000\n",
            "Dependent (reject H0)\n",
            " \n",
            "has_geotechnical_risk_fault_crack\n",
            "dof=4\n",
            "probability=0.950, critical=9.488, stat=6414.182\n",
            "Dependent (reject H0)\n",
            "significance=0.050, p=0.000\n",
            "Dependent (reject H0)\n",
            " \n",
            "has_geotechnical_risk_flood\n",
            "dof=4\n",
            "probability=0.950, critical=9.488, stat=641.109\n",
            "Dependent (reject H0)\n",
            "significance=0.050, p=0.000\n",
            "Dependent (reject H0)\n",
            " \n",
            "has_geotechnical_risk_land_settlement\n",
            "dof=4\n",
            "probability=0.950, critical=9.488, stat=2121.550\n",
            "Dependent (reject H0)\n",
            "significance=0.050, p=0.000\n",
            "Dependent (reject H0)\n",
            " \n",
            "has_geotechnical_risk_landslide\n",
            "dof=4\n",
            "probability=0.950, critical=9.488, stat=3088.089\n",
            "Dependent (reject H0)\n",
            "significance=0.050, p=0.000\n",
            "Dependent (reject H0)\n",
            " \n",
            "has_geotechnical_risk_liquefaction\n",
            "dof=4\n",
            "probability=0.950, critical=9.488, stat=281.471\n",
            "Dependent (reject H0)\n",
            "significance=0.050, p=0.000\n",
            "Dependent (reject H0)\n",
            " \n",
            "has_geotechnical_risk_other\n",
            "dof=4\n",
            "probability=0.950, critical=9.488, stat=37.684\n",
            "Dependent (reject H0)\n",
            "significance=0.050, p=0.000\n",
            "Dependent (reject H0)\n",
            " \n",
            "has_geotechnical_risk_rock_fall\n",
            "dof=4\n",
            "probability=0.950, critical=9.488, stat=2658.210\n",
            "Dependent (reject H0)\n",
            "significance=0.050, p=0.000\n",
            "Dependent (reject H0)\n",
            " \n"
          ],
          "name": "stdout"
        }
      ]
    },
    {
      "metadata": {
        "id": "yi8Wr4E0S9Lg",
        "colab_type": "code",
        "colab": {
          "base_uri": "https://localhost:8080/",
          "height": 2516
        },
        "outputId": "6186443c-7c6f-4546-fab6-51ee5245381e"
      },
      "cell_type": "code",
      "source": [
        "res_train.drop(['has_secondary_use_use_police','building_id'], axis = 1)\n",
        "res_test.drop(['has_secondary_use_use_police','building_id'], axis = 1)"
      ],
      "execution_count": 42,
      "outputs": [
        {
          "output_type": "execute_result",
          "data": {
            "text/html": [
              "<div>\n",
              "<style scoped>\n",
              "    .dataframe tbody tr th:only-of-type {\n",
              "        vertical-align: middle;\n",
              "    }\n",
              "\n",
              "    .dataframe tbody tr th {\n",
              "        vertical-align: top;\n",
              "    }\n",
              "\n",
              "    .dataframe thead th {\n",
              "        text-align: right;\n",
              "    }\n",
              "</style>\n",
              "<table border=\"1\" class=\"dataframe\">\n",
              "  <thead>\n",
              "    <tr style=\"text-align: right;\">\n",
              "      <th></th>\n",
              "      <th>district_id_x</th>\n",
              "      <th>vdcmun_id_x</th>\n",
              "      <th>ward_id_x</th>\n",
              "      <th>legal_ownership_status</th>\n",
              "      <th>count_families</th>\n",
              "      <th>has_secondary_use</th>\n",
              "      <th>has_secondary_use_agriculture</th>\n",
              "      <th>has_secondary_use_hotel</th>\n",
              "      <th>has_secondary_use_rental</th>\n",
              "      <th>has_secondary_use_institution</th>\n",
              "      <th>...</th>\n",
              "      <th>area_assesed</th>\n",
              "      <th>has_geotechnical_risk</th>\n",
              "      <th>has_geotechnical_risk_fault_crack</th>\n",
              "      <th>has_geotechnical_risk_flood</th>\n",
              "      <th>has_geotechnical_risk_land_settlement</th>\n",
              "      <th>has_geotechnical_risk_landslide</th>\n",
              "      <th>has_geotechnical_risk_liquefaction</th>\n",
              "      <th>has_geotechnical_risk_other</th>\n",
              "      <th>has_geotechnical_risk_rock_fall</th>\n",
              "      <th>has_repair_started</th>\n",
              "    </tr>\n",
              "  </thead>\n",
              "  <tbody>\n",
              "    <tr>\n",
              "      <th>0</th>\n",
              "      <td>7</td>\n",
              "      <td>701</td>\n",
              "      <td>70102</td>\n",
              "      <td>Private</td>\n",
              "      <td>1.0</td>\n",
              "      <td>0.0</td>\n",
              "      <td>0</td>\n",
              "      <td>0</td>\n",
              "      <td>0</td>\n",
              "      <td>0</td>\n",
              "      <td>...</td>\n",
              "      <td>Both</td>\n",
              "      <td>0.0</td>\n",
              "      <td>0</td>\n",
              "      <td>0</td>\n",
              "      <td>0</td>\n",
              "      <td>0</td>\n",
              "      <td>0</td>\n",
              "      <td>0</td>\n",
              "      <td>0</td>\n",
              "      <td>1.0</td>\n",
              "    </tr>\n",
              "    <tr>\n",
              "      <th>1</th>\n",
              "      <td>7</td>\n",
              "      <td>701</td>\n",
              "      <td>70103</td>\n",
              "      <td>Private</td>\n",
              "      <td>1.0</td>\n",
              "      <td>0.0</td>\n",
              "      <td>0</td>\n",
              "      <td>0</td>\n",
              "      <td>0</td>\n",
              "      <td>0</td>\n",
              "      <td>...</td>\n",
              "      <td>Both</td>\n",
              "      <td>0.0</td>\n",
              "      <td>0</td>\n",
              "      <td>0</td>\n",
              "      <td>0</td>\n",
              "      <td>0</td>\n",
              "      <td>0</td>\n",
              "      <td>0</td>\n",
              "      <td>0</td>\n",
              "      <td>1.0</td>\n",
              "    </tr>\n",
              "    <tr>\n",
              "      <th>2</th>\n",
              "      <td>7</td>\n",
              "      <td>701</td>\n",
              "      <td>70103</td>\n",
              "      <td>Private</td>\n",
              "      <td>1.0</td>\n",
              "      <td>0.0</td>\n",
              "      <td>0</td>\n",
              "      <td>0</td>\n",
              "      <td>0</td>\n",
              "      <td>0</td>\n",
              "      <td>...</td>\n",
              "      <td>Building removed</td>\n",
              "      <td>0.0</td>\n",
              "      <td>0</td>\n",
              "      <td>0</td>\n",
              "      <td>0</td>\n",
              "      <td>0</td>\n",
              "      <td>0</td>\n",
              "      <td>0</td>\n",
              "      <td>0</td>\n",
              "      <td>1.0</td>\n",
              "    </tr>\n",
              "    <tr>\n",
              "      <th>3</th>\n",
              "      <td>7</td>\n",
              "      <td>701</td>\n",
              "      <td>70106</td>\n",
              "      <td>Private</td>\n",
              "      <td>1.0</td>\n",
              "      <td>0.0</td>\n",
              "      <td>0</td>\n",
              "      <td>0</td>\n",
              "      <td>0</td>\n",
              "      <td>0</td>\n",
              "      <td>...</td>\n",
              "      <td>Both</td>\n",
              "      <td>0.0</td>\n",
              "      <td>0</td>\n",
              "      <td>0</td>\n",
              "      <td>0</td>\n",
              "      <td>0</td>\n",
              "      <td>0</td>\n",
              "      <td>0</td>\n",
              "      <td>0</td>\n",
              "      <td>1.0</td>\n",
              "    </tr>\n",
              "    <tr>\n",
              "      <th>4</th>\n",
              "      <td>7</td>\n",
              "      <td>701</td>\n",
              "      <td>70107</td>\n",
              "      <td>Private</td>\n",
              "      <td>1.0</td>\n",
              "      <td>0.0</td>\n",
              "      <td>0</td>\n",
              "      <td>0</td>\n",
              "      <td>0</td>\n",
              "      <td>0</td>\n",
              "      <td>...</td>\n",
              "      <td>Building removed</td>\n",
              "      <td>0.0</td>\n",
              "      <td>0</td>\n",
              "      <td>0</td>\n",
              "      <td>0</td>\n",
              "      <td>0</td>\n",
              "      <td>0</td>\n",
              "      <td>0</td>\n",
              "      <td>0</td>\n",
              "      <td>1.0</td>\n",
              "    </tr>\n",
              "    <tr>\n",
              "      <th>5</th>\n",
              "      <td>7</td>\n",
              "      <td>701</td>\n",
              "      <td>70107</td>\n",
              "      <td>Private</td>\n",
              "      <td>1.0</td>\n",
              "      <td>0.0</td>\n",
              "      <td>0</td>\n",
              "      <td>0</td>\n",
              "      <td>0</td>\n",
              "      <td>0</td>\n",
              "      <td>...</td>\n",
              "      <td>Both</td>\n",
              "      <td>0.0</td>\n",
              "      <td>0</td>\n",
              "      <td>0</td>\n",
              "      <td>0</td>\n",
              "      <td>0</td>\n",
              "      <td>0</td>\n",
              "      <td>0</td>\n",
              "      <td>0</td>\n",
              "      <td>0.0</td>\n",
              "    </tr>\n",
              "    <tr>\n",
              "      <th>6</th>\n",
              "      <td>7</td>\n",
              "      <td>701</td>\n",
              "      <td>70107</td>\n",
              "      <td>Private</td>\n",
              "      <td>1.0</td>\n",
              "      <td>0.0</td>\n",
              "      <td>0</td>\n",
              "      <td>0</td>\n",
              "      <td>0</td>\n",
              "      <td>0</td>\n",
              "      <td>...</td>\n",
              "      <td>Both</td>\n",
              "      <td>0.0</td>\n",
              "      <td>0</td>\n",
              "      <td>0</td>\n",
              "      <td>0</td>\n",
              "      <td>0</td>\n",
              "      <td>0</td>\n",
              "      <td>0</td>\n",
              "      <td>0</td>\n",
              "      <td>1.0</td>\n",
              "    </tr>\n",
              "    <tr>\n",
              "      <th>7</th>\n",
              "      <td>7</td>\n",
              "      <td>701</td>\n",
              "      <td>70109</td>\n",
              "      <td>Private</td>\n",
              "      <td>1.0</td>\n",
              "      <td>0.0</td>\n",
              "      <td>0</td>\n",
              "      <td>0</td>\n",
              "      <td>0</td>\n",
              "      <td>0</td>\n",
              "      <td>...</td>\n",
              "      <td>Building removed</td>\n",
              "      <td>0.0</td>\n",
              "      <td>0</td>\n",
              "      <td>0</td>\n",
              "      <td>0</td>\n",
              "      <td>0</td>\n",
              "      <td>0</td>\n",
              "      <td>0</td>\n",
              "      <td>0</td>\n",
              "      <td>1.0</td>\n",
              "    </tr>\n",
              "    <tr>\n",
              "      <th>8</th>\n",
              "      <td>7</td>\n",
              "      <td>701</td>\n",
              "      <td>70109</td>\n",
              "      <td>Private</td>\n",
              "      <td>1.0</td>\n",
              "      <td>0.0</td>\n",
              "      <td>0</td>\n",
              "      <td>0</td>\n",
              "      <td>0</td>\n",
              "      <td>0</td>\n",
              "      <td>...</td>\n",
              "      <td>Both</td>\n",
              "      <td>0.0</td>\n",
              "      <td>0</td>\n",
              "      <td>0</td>\n",
              "      <td>0</td>\n",
              "      <td>0</td>\n",
              "      <td>0</td>\n",
              "      <td>0</td>\n",
              "      <td>0</td>\n",
              "      <td>1.0</td>\n",
              "    </tr>\n",
              "    <tr>\n",
              "      <th>9</th>\n",
              "      <td>7</td>\n",
              "      <td>701</td>\n",
              "      <td>70109</td>\n",
              "      <td>Private</td>\n",
              "      <td>1.0</td>\n",
              "      <td>0.0</td>\n",
              "      <td>0</td>\n",
              "      <td>0</td>\n",
              "      <td>0</td>\n",
              "      <td>0</td>\n",
              "      <td>...</td>\n",
              "      <td>Both</td>\n",
              "      <td>0.0</td>\n",
              "      <td>0</td>\n",
              "      <td>0</td>\n",
              "      <td>0</td>\n",
              "      <td>0</td>\n",
              "      <td>0</td>\n",
              "      <td>0</td>\n",
              "      <td>0</td>\n",
              "      <td>1.0</td>\n",
              "    </tr>\n",
              "    <tr>\n",
              "      <th>10</th>\n",
              "      <td>7</td>\n",
              "      <td>701</td>\n",
              "      <td>70109</td>\n",
              "      <td>Private</td>\n",
              "      <td>1.0</td>\n",
              "      <td>0.0</td>\n",
              "      <td>0</td>\n",
              "      <td>0</td>\n",
              "      <td>0</td>\n",
              "      <td>0</td>\n",
              "      <td>...</td>\n",
              "      <td>Both</td>\n",
              "      <td>0.0</td>\n",
              "      <td>0</td>\n",
              "      <td>0</td>\n",
              "      <td>0</td>\n",
              "      <td>0</td>\n",
              "      <td>0</td>\n",
              "      <td>0</td>\n",
              "      <td>0</td>\n",
              "      <td>1.0</td>\n",
              "    </tr>\n",
              "    <tr>\n",
              "      <th>11</th>\n",
              "      <td>7</td>\n",
              "      <td>702</td>\n",
              "      <td>70201</td>\n",
              "      <td>Private</td>\n",
              "      <td>1.0</td>\n",
              "      <td>0.0</td>\n",
              "      <td>0</td>\n",
              "      <td>0</td>\n",
              "      <td>0</td>\n",
              "      <td>0</td>\n",
              "      <td>...</td>\n",
              "      <td>Both</td>\n",
              "      <td>0.0</td>\n",
              "      <td>0</td>\n",
              "      <td>0</td>\n",
              "      <td>0</td>\n",
              "      <td>0</td>\n",
              "      <td>0</td>\n",
              "      <td>0</td>\n",
              "      <td>0</td>\n",
              "      <td>1.0</td>\n",
              "    </tr>\n",
              "    <tr>\n",
              "      <th>12</th>\n",
              "      <td>7</td>\n",
              "      <td>702</td>\n",
              "      <td>70201</td>\n",
              "      <td>Private</td>\n",
              "      <td>1.0</td>\n",
              "      <td>0.0</td>\n",
              "      <td>0</td>\n",
              "      <td>0</td>\n",
              "      <td>0</td>\n",
              "      <td>0</td>\n",
              "      <td>...</td>\n",
              "      <td>Both</td>\n",
              "      <td>0.0</td>\n",
              "      <td>0</td>\n",
              "      <td>0</td>\n",
              "      <td>0</td>\n",
              "      <td>0</td>\n",
              "      <td>0</td>\n",
              "      <td>0</td>\n",
              "      <td>0</td>\n",
              "      <td>1.0</td>\n",
              "    </tr>\n",
              "    <tr>\n",
              "      <th>13</th>\n",
              "      <td>7</td>\n",
              "      <td>702</td>\n",
              "      <td>70202</td>\n",
              "      <td>Private</td>\n",
              "      <td>1.0</td>\n",
              "      <td>0.0</td>\n",
              "      <td>0</td>\n",
              "      <td>0</td>\n",
              "      <td>0</td>\n",
              "      <td>0</td>\n",
              "      <td>...</td>\n",
              "      <td>Both</td>\n",
              "      <td>0.0</td>\n",
              "      <td>0</td>\n",
              "      <td>0</td>\n",
              "      <td>0</td>\n",
              "      <td>0</td>\n",
              "      <td>0</td>\n",
              "      <td>0</td>\n",
              "      <td>0</td>\n",
              "      <td>1.0</td>\n",
              "    </tr>\n",
              "    <tr>\n",
              "      <th>14</th>\n",
              "      <td>7</td>\n",
              "      <td>702</td>\n",
              "      <td>70203</td>\n",
              "      <td>Private</td>\n",
              "      <td>1.0</td>\n",
              "      <td>0.0</td>\n",
              "      <td>0</td>\n",
              "      <td>0</td>\n",
              "      <td>0</td>\n",
              "      <td>0</td>\n",
              "      <td>...</td>\n",
              "      <td>Both</td>\n",
              "      <td>0.0</td>\n",
              "      <td>0</td>\n",
              "      <td>0</td>\n",
              "      <td>0</td>\n",
              "      <td>0</td>\n",
              "      <td>0</td>\n",
              "      <td>0</td>\n",
              "      <td>0</td>\n",
              "      <td>1.0</td>\n",
              "    </tr>\n",
              "    <tr>\n",
              "      <th>15</th>\n",
              "      <td>7</td>\n",
              "      <td>702</td>\n",
              "      <td>70203</td>\n",
              "      <td>Private</td>\n",
              "      <td>1.0</td>\n",
              "      <td>0.0</td>\n",
              "      <td>0</td>\n",
              "      <td>0</td>\n",
              "      <td>0</td>\n",
              "      <td>0</td>\n",
              "      <td>...</td>\n",
              "      <td>Both</td>\n",
              "      <td>0.0</td>\n",
              "      <td>0</td>\n",
              "      <td>0</td>\n",
              "      <td>0</td>\n",
              "      <td>0</td>\n",
              "      <td>0</td>\n",
              "      <td>0</td>\n",
              "      <td>0</td>\n",
              "      <td>1.0</td>\n",
              "    </tr>\n",
              "    <tr>\n",
              "      <th>16</th>\n",
              "      <td>7</td>\n",
              "      <td>702</td>\n",
              "      <td>70204</td>\n",
              "      <td>Private</td>\n",
              "      <td>1.0</td>\n",
              "      <td>0.0</td>\n",
              "      <td>0</td>\n",
              "      <td>0</td>\n",
              "      <td>0</td>\n",
              "      <td>0</td>\n",
              "      <td>...</td>\n",
              "      <td>Both</td>\n",
              "      <td>0.0</td>\n",
              "      <td>0</td>\n",
              "      <td>0</td>\n",
              "      <td>0</td>\n",
              "      <td>0</td>\n",
              "      <td>0</td>\n",
              "      <td>0</td>\n",
              "      <td>0</td>\n",
              "      <td>1.0</td>\n",
              "    </tr>\n",
              "    <tr>\n",
              "      <th>17</th>\n",
              "      <td>7</td>\n",
              "      <td>702</td>\n",
              "      <td>70204</td>\n",
              "      <td>Private</td>\n",
              "      <td>1.0</td>\n",
              "      <td>0.0</td>\n",
              "      <td>0</td>\n",
              "      <td>0</td>\n",
              "      <td>0</td>\n",
              "      <td>0</td>\n",
              "      <td>...</td>\n",
              "      <td>Both</td>\n",
              "      <td>0.0</td>\n",
              "      <td>0</td>\n",
              "      <td>0</td>\n",
              "      <td>0</td>\n",
              "      <td>0</td>\n",
              "      <td>0</td>\n",
              "      <td>0</td>\n",
              "      <td>0</td>\n",
              "      <td>1.0</td>\n",
              "    </tr>\n",
              "    <tr>\n",
              "      <th>18</th>\n",
              "      <td>7</td>\n",
              "      <td>702</td>\n",
              "      <td>70204</td>\n",
              "      <td>Private</td>\n",
              "      <td>1.0</td>\n",
              "      <td>0.0</td>\n",
              "      <td>0</td>\n",
              "      <td>0</td>\n",
              "      <td>0</td>\n",
              "      <td>0</td>\n",
              "      <td>...</td>\n",
              "      <td>Both</td>\n",
              "      <td>0.0</td>\n",
              "      <td>0</td>\n",
              "      <td>0</td>\n",
              "      <td>0</td>\n",
              "      <td>0</td>\n",
              "      <td>0</td>\n",
              "      <td>0</td>\n",
              "      <td>0</td>\n",
              "      <td>1.0</td>\n",
              "    </tr>\n",
              "    <tr>\n",
              "      <th>19</th>\n",
              "      <td>7</td>\n",
              "      <td>702</td>\n",
              "      <td>70205</td>\n",
              "      <td>Private</td>\n",
              "      <td>1.0</td>\n",
              "      <td>0.0</td>\n",
              "      <td>0</td>\n",
              "      <td>0</td>\n",
              "      <td>0</td>\n",
              "      <td>0</td>\n",
              "      <td>...</td>\n",
              "      <td>Both</td>\n",
              "      <td>0.0</td>\n",
              "      <td>0</td>\n",
              "      <td>0</td>\n",
              "      <td>0</td>\n",
              "      <td>0</td>\n",
              "      <td>0</td>\n",
              "      <td>0</td>\n",
              "      <td>0</td>\n",
              "      <td>1.0</td>\n",
              "    </tr>\n",
              "    <tr>\n",
              "      <th>20</th>\n",
              "      <td>7</td>\n",
              "      <td>702</td>\n",
              "      <td>70206</td>\n",
              "      <td>Private</td>\n",
              "      <td>1.0</td>\n",
              "      <td>0.0</td>\n",
              "      <td>0</td>\n",
              "      <td>0</td>\n",
              "      <td>0</td>\n",
              "      <td>0</td>\n",
              "      <td>...</td>\n",
              "      <td>Both</td>\n",
              "      <td>0.0</td>\n",
              "      <td>0</td>\n",
              "      <td>0</td>\n",
              "      <td>0</td>\n",
              "      <td>0</td>\n",
              "      <td>0</td>\n",
              "      <td>0</td>\n",
              "      <td>0</td>\n",
              "      <td>1.0</td>\n",
              "    </tr>\n",
              "    <tr>\n",
              "      <th>21</th>\n",
              "      <td>7</td>\n",
              "      <td>702</td>\n",
              "      <td>70206</td>\n",
              "      <td>Private</td>\n",
              "      <td>1.0</td>\n",
              "      <td>0.0</td>\n",
              "      <td>0</td>\n",
              "      <td>0</td>\n",
              "      <td>0</td>\n",
              "      <td>0</td>\n",
              "      <td>...</td>\n",
              "      <td>Both</td>\n",
              "      <td>0.0</td>\n",
              "      <td>0</td>\n",
              "      <td>0</td>\n",
              "      <td>0</td>\n",
              "      <td>0</td>\n",
              "      <td>0</td>\n",
              "      <td>0</td>\n",
              "      <td>0</td>\n",
              "      <td>1.0</td>\n",
              "    </tr>\n",
              "    <tr>\n",
              "      <th>22</th>\n",
              "      <td>7</td>\n",
              "      <td>703</td>\n",
              "      <td>70301</td>\n",
              "      <td>Private</td>\n",
              "      <td>1.0</td>\n",
              "      <td>0.0</td>\n",
              "      <td>0</td>\n",
              "      <td>0</td>\n",
              "      <td>0</td>\n",
              "      <td>0</td>\n",
              "      <td>...</td>\n",
              "      <td>Both</td>\n",
              "      <td>0.0</td>\n",
              "      <td>0</td>\n",
              "      <td>0</td>\n",
              "      <td>0</td>\n",
              "      <td>0</td>\n",
              "      <td>0</td>\n",
              "      <td>0</td>\n",
              "      <td>0</td>\n",
              "      <td>1.0</td>\n",
              "    </tr>\n",
              "    <tr>\n",
              "      <th>23</th>\n",
              "      <td>7</td>\n",
              "      <td>702</td>\n",
              "      <td>70207</td>\n",
              "      <td>Private</td>\n",
              "      <td>1.0</td>\n",
              "      <td>0.0</td>\n",
              "      <td>0</td>\n",
              "      <td>0</td>\n",
              "      <td>0</td>\n",
              "      <td>0</td>\n",
              "      <td>...</td>\n",
              "      <td>Both</td>\n",
              "      <td>0.0</td>\n",
              "      <td>0</td>\n",
              "      <td>0</td>\n",
              "      <td>0</td>\n",
              "      <td>0</td>\n",
              "      <td>0</td>\n",
              "      <td>0</td>\n",
              "      <td>0</td>\n",
              "      <td>1.0</td>\n",
              "    </tr>\n",
              "    <tr>\n",
              "      <th>24</th>\n",
              "      <td>7</td>\n",
              "      <td>702</td>\n",
              "      <td>70207</td>\n",
              "      <td>Private</td>\n",
              "      <td>1.0</td>\n",
              "      <td>0.0</td>\n",
              "      <td>0</td>\n",
              "      <td>0</td>\n",
              "      <td>0</td>\n",
              "      <td>0</td>\n",
              "      <td>...</td>\n",
              "      <td>Building removed</td>\n",
              "      <td>0.0</td>\n",
              "      <td>0</td>\n",
              "      <td>0</td>\n",
              "      <td>0</td>\n",
              "      <td>0</td>\n",
              "      <td>0</td>\n",
              "      <td>0</td>\n",
              "      <td>0</td>\n",
              "      <td>1.0</td>\n",
              "    </tr>\n",
              "    <tr>\n",
              "      <th>25</th>\n",
              "      <td>7</td>\n",
              "      <td>702</td>\n",
              "      <td>70207</td>\n",
              "      <td>Private</td>\n",
              "      <td>1.0</td>\n",
              "      <td>0.0</td>\n",
              "      <td>0</td>\n",
              "      <td>0</td>\n",
              "      <td>0</td>\n",
              "      <td>0</td>\n",
              "      <td>...</td>\n",
              "      <td>Both</td>\n",
              "      <td>0.0</td>\n",
              "      <td>0</td>\n",
              "      <td>0</td>\n",
              "      <td>0</td>\n",
              "      <td>0</td>\n",
              "      <td>0</td>\n",
              "      <td>0</td>\n",
              "      <td>0</td>\n",
              "      <td>1.0</td>\n",
              "    </tr>\n",
              "    <tr>\n",
              "      <th>26</th>\n",
              "      <td>7</td>\n",
              "      <td>702</td>\n",
              "      <td>70208</td>\n",
              "      <td>Private</td>\n",
              "      <td>1.0</td>\n",
              "      <td>0.0</td>\n",
              "      <td>0</td>\n",
              "      <td>0</td>\n",
              "      <td>0</td>\n",
              "      <td>0</td>\n",
              "      <td>...</td>\n",
              "      <td>Both</td>\n",
              "      <td>0.0</td>\n",
              "      <td>0</td>\n",
              "      <td>0</td>\n",
              "      <td>0</td>\n",
              "      <td>0</td>\n",
              "      <td>0</td>\n",
              "      <td>0</td>\n",
              "      <td>0</td>\n",
              "      <td>1.0</td>\n",
              "    </tr>\n",
              "    <tr>\n",
              "      <th>27</th>\n",
              "      <td>7</td>\n",
              "      <td>702</td>\n",
              "      <td>70208</td>\n",
              "      <td>Private</td>\n",
              "      <td>1.0</td>\n",
              "      <td>0.0</td>\n",
              "      <td>0</td>\n",
              "      <td>0</td>\n",
              "      <td>0</td>\n",
              "      <td>0</td>\n",
              "      <td>...</td>\n",
              "      <td>Both</td>\n",
              "      <td>0.0</td>\n",
              "      <td>0</td>\n",
              "      <td>0</td>\n",
              "      <td>0</td>\n",
              "      <td>0</td>\n",
              "      <td>0</td>\n",
              "      <td>0</td>\n",
              "      <td>0</td>\n",
              "      <td>1.0</td>\n",
              "    </tr>\n",
              "    <tr>\n",
              "      <th>28</th>\n",
              "      <td>7</td>\n",
              "      <td>702</td>\n",
              "      <td>70208</td>\n",
              "      <td>Private</td>\n",
              "      <td>1.0</td>\n",
              "      <td>0.0</td>\n",
              "      <td>0</td>\n",
              "      <td>0</td>\n",
              "      <td>0</td>\n",
              "      <td>0</td>\n",
              "      <td>...</td>\n",
              "      <td>Both</td>\n",
              "      <td>0.0</td>\n",
              "      <td>0</td>\n",
              "      <td>0</td>\n",
              "      <td>0</td>\n",
              "      <td>0</td>\n",
              "      <td>0</td>\n",
              "      <td>0</td>\n",
              "      <td>0</td>\n",
              "      <td>1.0</td>\n",
              "    </tr>\n",
              "    <tr>\n",
              "      <th>29</th>\n",
              "      <td>7</td>\n",
              "      <td>702</td>\n",
              "      <td>70208</td>\n",
              "      <td>Private</td>\n",
              "      <td>1.0</td>\n",
              "      <td>0.0</td>\n",
              "      <td>0</td>\n",
              "      <td>0</td>\n",
              "      <td>0</td>\n",
              "      <td>0</td>\n",
              "      <td>...</td>\n",
              "      <td>Both</td>\n",
              "      <td>0.0</td>\n",
              "      <td>0</td>\n",
              "      <td>0</td>\n",
              "      <td>0</td>\n",
              "      <td>0</td>\n",
              "      <td>0</td>\n",
              "      <td>0</td>\n",
              "      <td>0</td>\n",
              "      <td>1.0</td>\n",
              "    </tr>\n",
              "    <tr>\n",
              "      <th>...</th>\n",
              "      <td>...</td>\n",
              "      <td>...</td>\n",
              "      <td>...</td>\n",
              "      <td>...</td>\n",
              "      <td>...</td>\n",
              "      <td>...</td>\n",
              "      <td>...</td>\n",
              "      <td>...</td>\n",
              "      <td>...</td>\n",
              "      <td>...</td>\n",
              "      <td>...</td>\n",
              "      <td>...</td>\n",
              "      <td>...</td>\n",
              "      <td>...</td>\n",
              "      <td>...</td>\n",
              "      <td>...</td>\n",
              "      <td>...</td>\n",
              "      <td>...</td>\n",
              "      <td>...</td>\n",
              "      <td>...</td>\n",
              "      <td>...</td>\n",
              "    </tr>\n",
              "    <tr>\n",
              "      <th>421145</th>\n",
              "      <td>36</td>\n",
              "      <td>3667</td>\n",
              "      <td>366709</td>\n",
              "      <td>Private</td>\n",
              "      <td>1.0</td>\n",
              "      <td>0.0</td>\n",
              "      <td>0</td>\n",
              "      <td>0</td>\n",
              "      <td>0</td>\n",
              "      <td>0</td>\n",
              "      <td>...</td>\n",
              "      <td>Building removed</td>\n",
              "      <td>0.0</td>\n",
              "      <td>0</td>\n",
              "      <td>0</td>\n",
              "      <td>0</td>\n",
              "      <td>0</td>\n",
              "      <td>0</td>\n",
              "      <td>0</td>\n",
              "      <td>0</td>\n",
              "      <td>1.0</td>\n",
              "    </tr>\n",
              "    <tr>\n",
              "      <th>421146</th>\n",
              "      <td>36</td>\n",
              "      <td>3667</td>\n",
              "      <td>366709</td>\n",
              "      <td>Private</td>\n",
              "      <td>1.0</td>\n",
              "      <td>0.0</td>\n",
              "      <td>0</td>\n",
              "      <td>0</td>\n",
              "      <td>0</td>\n",
              "      <td>0</td>\n",
              "      <td>...</td>\n",
              "      <td>Building removed</td>\n",
              "      <td>0.0</td>\n",
              "      <td>0</td>\n",
              "      <td>0</td>\n",
              "      <td>0</td>\n",
              "      <td>0</td>\n",
              "      <td>0</td>\n",
              "      <td>0</td>\n",
              "      <td>0</td>\n",
              "      <td>1.0</td>\n",
              "    </tr>\n",
              "    <tr>\n",
              "      <th>421147</th>\n",
              "      <td>36</td>\n",
              "      <td>3667</td>\n",
              "      <td>366709</td>\n",
              "      <td>Private</td>\n",
              "      <td>1.0</td>\n",
              "      <td>0.0</td>\n",
              "      <td>0</td>\n",
              "      <td>0</td>\n",
              "      <td>0</td>\n",
              "      <td>0</td>\n",
              "      <td>...</td>\n",
              "      <td>Building removed</td>\n",
              "      <td>0.0</td>\n",
              "      <td>0</td>\n",
              "      <td>0</td>\n",
              "      <td>0</td>\n",
              "      <td>0</td>\n",
              "      <td>0</td>\n",
              "      <td>0</td>\n",
              "      <td>0</td>\n",
              "      <td>1.0</td>\n",
              "    </tr>\n",
              "    <tr>\n",
              "      <th>421148</th>\n",
              "      <td>36</td>\n",
              "      <td>3667</td>\n",
              "      <td>366709</td>\n",
              "      <td>Private</td>\n",
              "      <td>1.0</td>\n",
              "      <td>0.0</td>\n",
              "      <td>0</td>\n",
              "      <td>0</td>\n",
              "      <td>0</td>\n",
              "      <td>0</td>\n",
              "      <td>...</td>\n",
              "      <td>Building removed</td>\n",
              "      <td>0.0</td>\n",
              "      <td>0</td>\n",
              "      <td>0</td>\n",
              "      <td>0</td>\n",
              "      <td>0</td>\n",
              "      <td>0</td>\n",
              "      <td>0</td>\n",
              "      <td>0</td>\n",
              "      <td>0.0</td>\n",
              "    </tr>\n",
              "    <tr>\n",
              "      <th>421149</th>\n",
              "      <td>36</td>\n",
              "      <td>3667</td>\n",
              "      <td>366709</td>\n",
              "      <td>Private</td>\n",
              "      <td>1.0</td>\n",
              "      <td>0.0</td>\n",
              "      <td>0</td>\n",
              "      <td>0</td>\n",
              "      <td>0</td>\n",
              "      <td>0</td>\n",
              "      <td>...</td>\n",
              "      <td>Building removed</td>\n",
              "      <td>0.0</td>\n",
              "      <td>0</td>\n",
              "      <td>0</td>\n",
              "      <td>0</td>\n",
              "      <td>0</td>\n",
              "      <td>0</td>\n",
              "      <td>0</td>\n",
              "      <td>0</td>\n",
              "      <td>0.0</td>\n",
              "    </tr>\n",
              "    <tr>\n",
              "      <th>421150</th>\n",
              "      <td>36</td>\n",
              "      <td>3667</td>\n",
              "      <td>366709</td>\n",
              "      <td>Private</td>\n",
              "      <td>1.0</td>\n",
              "      <td>0.0</td>\n",
              "      <td>0</td>\n",
              "      <td>0</td>\n",
              "      <td>0</td>\n",
              "      <td>0</td>\n",
              "      <td>...</td>\n",
              "      <td>Building removed</td>\n",
              "      <td>0.0</td>\n",
              "      <td>0</td>\n",
              "      <td>0</td>\n",
              "      <td>0</td>\n",
              "      <td>0</td>\n",
              "      <td>0</td>\n",
              "      <td>0</td>\n",
              "      <td>0</td>\n",
              "      <td>1.0</td>\n",
              "    </tr>\n",
              "    <tr>\n",
              "      <th>421151</th>\n",
              "      <td>36</td>\n",
              "      <td>3667</td>\n",
              "      <td>366709</td>\n",
              "      <td>Private</td>\n",
              "      <td>1.0</td>\n",
              "      <td>0.0</td>\n",
              "      <td>0</td>\n",
              "      <td>0</td>\n",
              "      <td>0</td>\n",
              "      <td>0</td>\n",
              "      <td>...</td>\n",
              "      <td>Building removed</td>\n",
              "      <td>0.0</td>\n",
              "      <td>0</td>\n",
              "      <td>0</td>\n",
              "      <td>0</td>\n",
              "      <td>0</td>\n",
              "      <td>0</td>\n",
              "      <td>0</td>\n",
              "      <td>0</td>\n",
              "      <td>1.0</td>\n",
              "    </tr>\n",
              "    <tr>\n",
              "      <th>421152</th>\n",
              "      <td>36</td>\n",
              "      <td>3667</td>\n",
              "      <td>366709</td>\n",
              "      <td>Private</td>\n",
              "      <td>0.0</td>\n",
              "      <td>0.0</td>\n",
              "      <td>0</td>\n",
              "      <td>0</td>\n",
              "      <td>0</td>\n",
              "      <td>0</td>\n",
              "      <td>...</td>\n",
              "      <td>Building removed</td>\n",
              "      <td>0.0</td>\n",
              "      <td>0</td>\n",
              "      <td>0</td>\n",
              "      <td>0</td>\n",
              "      <td>0</td>\n",
              "      <td>0</td>\n",
              "      <td>0</td>\n",
              "      <td>0</td>\n",
              "      <td>1.0</td>\n",
              "    </tr>\n",
              "    <tr>\n",
              "      <th>421153</th>\n",
              "      <td>36</td>\n",
              "      <td>3667</td>\n",
              "      <td>366709</td>\n",
              "      <td>Private</td>\n",
              "      <td>1.0</td>\n",
              "      <td>0.0</td>\n",
              "      <td>0</td>\n",
              "      <td>0</td>\n",
              "      <td>0</td>\n",
              "      <td>0</td>\n",
              "      <td>...</td>\n",
              "      <td>Building removed</td>\n",
              "      <td>0.0</td>\n",
              "      <td>0</td>\n",
              "      <td>0</td>\n",
              "      <td>0</td>\n",
              "      <td>0</td>\n",
              "      <td>0</td>\n",
              "      <td>0</td>\n",
              "      <td>0</td>\n",
              "      <td>0.0</td>\n",
              "    </tr>\n",
              "    <tr>\n",
              "      <th>421154</th>\n",
              "      <td>36</td>\n",
              "      <td>3667</td>\n",
              "      <td>366709</td>\n",
              "      <td>Private</td>\n",
              "      <td>1.0</td>\n",
              "      <td>0.0</td>\n",
              "      <td>0</td>\n",
              "      <td>0</td>\n",
              "      <td>0</td>\n",
              "      <td>0</td>\n",
              "      <td>...</td>\n",
              "      <td>Building removed</td>\n",
              "      <td>0.0</td>\n",
              "      <td>0</td>\n",
              "      <td>0</td>\n",
              "      <td>0</td>\n",
              "      <td>0</td>\n",
              "      <td>0</td>\n",
              "      <td>0</td>\n",
              "      <td>0</td>\n",
              "      <td>0.0</td>\n",
              "    </tr>\n",
              "    <tr>\n",
              "      <th>421155</th>\n",
              "      <td>36</td>\n",
              "      <td>3667</td>\n",
              "      <td>366709</td>\n",
              "      <td>Private</td>\n",
              "      <td>1.0</td>\n",
              "      <td>1.0</td>\n",
              "      <td>0</td>\n",
              "      <td>1</td>\n",
              "      <td>0</td>\n",
              "      <td>0</td>\n",
              "      <td>...</td>\n",
              "      <td>Building removed</td>\n",
              "      <td>0.0</td>\n",
              "      <td>0</td>\n",
              "      <td>0</td>\n",
              "      <td>0</td>\n",
              "      <td>0</td>\n",
              "      <td>0</td>\n",
              "      <td>0</td>\n",
              "      <td>0</td>\n",
              "      <td>0.0</td>\n",
              "    </tr>\n",
              "    <tr>\n",
              "      <th>421156</th>\n",
              "      <td>36</td>\n",
              "      <td>3667</td>\n",
              "      <td>366709</td>\n",
              "      <td>Private</td>\n",
              "      <td>1.0</td>\n",
              "      <td>0.0</td>\n",
              "      <td>0</td>\n",
              "      <td>0</td>\n",
              "      <td>0</td>\n",
              "      <td>0</td>\n",
              "      <td>...</td>\n",
              "      <td>Building removed</td>\n",
              "      <td>0.0</td>\n",
              "      <td>0</td>\n",
              "      <td>0</td>\n",
              "      <td>0</td>\n",
              "      <td>0</td>\n",
              "      <td>0</td>\n",
              "      <td>0</td>\n",
              "      <td>0</td>\n",
              "      <td>1.0</td>\n",
              "    </tr>\n",
              "    <tr>\n",
              "      <th>421157</th>\n",
              "      <td>36</td>\n",
              "      <td>3667</td>\n",
              "      <td>366709</td>\n",
              "      <td>Private</td>\n",
              "      <td>1.0</td>\n",
              "      <td>0.0</td>\n",
              "      <td>0</td>\n",
              "      <td>0</td>\n",
              "      <td>0</td>\n",
              "      <td>0</td>\n",
              "      <td>...</td>\n",
              "      <td>Building removed</td>\n",
              "      <td>0.0</td>\n",
              "      <td>0</td>\n",
              "      <td>0</td>\n",
              "      <td>0</td>\n",
              "      <td>0</td>\n",
              "      <td>0</td>\n",
              "      <td>0</td>\n",
              "      <td>0</td>\n",
              "      <td>1.0</td>\n",
              "    </tr>\n",
              "    <tr>\n",
              "      <th>421158</th>\n",
              "      <td>36</td>\n",
              "      <td>3667</td>\n",
              "      <td>366709</td>\n",
              "      <td>Private</td>\n",
              "      <td>1.0</td>\n",
              "      <td>0.0</td>\n",
              "      <td>0</td>\n",
              "      <td>0</td>\n",
              "      <td>0</td>\n",
              "      <td>0</td>\n",
              "      <td>...</td>\n",
              "      <td>Both</td>\n",
              "      <td>0.0</td>\n",
              "      <td>0</td>\n",
              "      <td>0</td>\n",
              "      <td>0</td>\n",
              "      <td>0</td>\n",
              "      <td>0</td>\n",
              "      <td>0</td>\n",
              "      <td>0</td>\n",
              "      <td>0.0</td>\n",
              "    </tr>\n",
              "    <tr>\n",
              "      <th>421159</th>\n",
              "      <td>36</td>\n",
              "      <td>3667</td>\n",
              "      <td>366709</td>\n",
              "      <td>Private</td>\n",
              "      <td>1.0</td>\n",
              "      <td>0.0</td>\n",
              "      <td>0</td>\n",
              "      <td>0</td>\n",
              "      <td>0</td>\n",
              "      <td>0</td>\n",
              "      <td>...</td>\n",
              "      <td>Building removed</td>\n",
              "      <td>0.0</td>\n",
              "      <td>0</td>\n",
              "      <td>0</td>\n",
              "      <td>0</td>\n",
              "      <td>0</td>\n",
              "      <td>0</td>\n",
              "      <td>0</td>\n",
              "      <td>0</td>\n",
              "      <td>0.0</td>\n",
              "    </tr>\n",
              "    <tr>\n",
              "      <th>421160</th>\n",
              "      <td>36</td>\n",
              "      <td>3667</td>\n",
              "      <td>366709</td>\n",
              "      <td>Private</td>\n",
              "      <td>1.0</td>\n",
              "      <td>0.0</td>\n",
              "      <td>0</td>\n",
              "      <td>0</td>\n",
              "      <td>0</td>\n",
              "      <td>0</td>\n",
              "      <td>...</td>\n",
              "      <td>Building removed</td>\n",
              "      <td>0.0</td>\n",
              "      <td>0</td>\n",
              "      <td>0</td>\n",
              "      <td>0</td>\n",
              "      <td>0</td>\n",
              "      <td>0</td>\n",
              "      <td>0</td>\n",
              "      <td>0</td>\n",
              "      <td>1.0</td>\n",
              "    </tr>\n",
              "    <tr>\n",
              "      <th>421161</th>\n",
              "      <td>36</td>\n",
              "      <td>3667</td>\n",
              "      <td>366709</td>\n",
              "      <td>Private</td>\n",
              "      <td>1.0</td>\n",
              "      <td>0.0</td>\n",
              "      <td>0</td>\n",
              "      <td>0</td>\n",
              "      <td>0</td>\n",
              "      <td>0</td>\n",
              "      <td>...</td>\n",
              "      <td>Building removed</td>\n",
              "      <td>0.0</td>\n",
              "      <td>0</td>\n",
              "      <td>0</td>\n",
              "      <td>0</td>\n",
              "      <td>0</td>\n",
              "      <td>0</td>\n",
              "      <td>0</td>\n",
              "      <td>0</td>\n",
              "      <td>0.0</td>\n",
              "    </tr>\n",
              "    <tr>\n",
              "      <th>421162</th>\n",
              "      <td>36</td>\n",
              "      <td>3667</td>\n",
              "      <td>366709</td>\n",
              "      <td>Private</td>\n",
              "      <td>1.0</td>\n",
              "      <td>0.0</td>\n",
              "      <td>0</td>\n",
              "      <td>0</td>\n",
              "      <td>0</td>\n",
              "      <td>0</td>\n",
              "      <td>...</td>\n",
              "      <td>Building removed</td>\n",
              "      <td>0.0</td>\n",
              "      <td>0</td>\n",
              "      <td>0</td>\n",
              "      <td>0</td>\n",
              "      <td>0</td>\n",
              "      <td>0</td>\n",
              "      <td>0</td>\n",
              "      <td>0</td>\n",
              "      <td>0.0</td>\n",
              "    </tr>\n",
              "    <tr>\n",
              "      <th>421163</th>\n",
              "      <td>36</td>\n",
              "      <td>3667</td>\n",
              "      <td>366709</td>\n",
              "      <td>Private</td>\n",
              "      <td>1.0</td>\n",
              "      <td>0.0</td>\n",
              "      <td>0</td>\n",
              "      <td>0</td>\n",
              "      <td>0</td>\n",
              "      <td>0</td>\n",
              "      <td>...</td>\n",
              "      <td>Building removed</td>\n",
              "      <td>0.0</td>\n",
              "      <td>0</td>\n",
              "      <td>0</td>\n",
              "      <td>0</td>\n",
              "      <td>0</td>\n",
              "      <td>0</td>\n",
              "      <td>0</td>\n",
              "      <td>0</td>\n",
              "      <td>0.0</td>\n",
              "    </tr>\n",
              "    <tr>\n",
              "      <th>421164</th>\n",
              "      <td>36</td>\n",
              "      <td>3667</td>\n",
              "      <td>366709</td>\n",
              "      <td>Private</td>\n",
              "      <td>1.0</td>\n",
              "      <td>0.0</td>\n",
              "      <td>0</td>\n",
              "      <td>0</td>\n",
              "      <td>0</td>\n",
              "      <td>0</td>\n",
              "      <td>...</td>\n",
              "      <td>Building removed</td>\n",
              "      <td>0.0</td>\n",
              "      <td>0</td>\n",
              "      <td>0</td>\n",
              "      <td>0</td>\n",
              "      <td>0</td>\n",
              "      <td>0</td>\n",
              "      <td>0</td>\n",
              "      <td>0</td>\n",
              "      <td>1.0</td>\n",
              "    </tr>\n",
              "    <tr>\n",
              "      <th>421165</th>\n",
              "      <td>36</td>\n",
              "      <td>3667</td>\n",
              "      <td>366709</td>\n",
              "      <td>Private</td>\n",
              "      <td>1.0</td>\n",
              "      <td>0.0</td>\n",
              "      <td>0</td>\n",
              "      <td>0</td>\n",
              "      <td>0</td>\n",
              "      <td>0</td>\n",
              "      <td>...</td>\n",
              "      <td>Both</td>\n",
              "      <td>0.0</td>\n",
              "      <td>0</td>\n",
              "      <td>0</td>\n",
              "      <td>0</td>\n",
              "      <td>0</td>\n",
              "      <td>0</td>\n",
              "      <td>0</td>\n",
              "      <td>0</td>\n",
              "      <td>NaN</td>\n",
              "    </tr>\n",
              "    <tr>\n",
              "      <th>421166</th>\n",
              "      <td>36</td>\n",
              "      <td>3667</td>\n",
              "      <td>366709</td>\n",
              "      <td>Private</td>\n",
              "      <td>1.0</td>\n",
              "      <td>0.0</td>\n",
              "      <td>0</td>\n",
              "      <td>0</td>\n",
              "      <td>0</td>\n",
              "      <td>0</td>\n",
              "      <td>...</td>\n",
              "      <td>Building removed</td>\n",
              "      <td>0.0</td>\n",
              "      <td>0</td>\n",
              "      <td>0</td>\n",
              "      <td>0</td>\n",
              "      <td>0</td>\n",
              "      <td>0</td>\n",
              "      <td>0</td>\n",
              "      <td>0</td>\n",
              "      <td>1.0</td>\n",
              "    </tr>\n",
              "    <tr>\n",
              "      <th>421167</th>\n",
              "      <td>36</td>\n",
              "      <td>3667</td>\n",
              "      <td>366709</td>\n",
              "      <td>Private</td>\n",
              "      <td>1.0</td>\n",
              "      <td>0.0</td>\n",
              "      <td>0</td>\n",
              "      <td>0</td>\n",
              "      <td>0</td>\n",
              "      <td>0</td>\n",
              "      <td>...</td>\n",
              "      <td>Building removed</td>\n",
              "      <td>0.0</td>\n",
              "      <td>0</td>\n",
              "      <td>0</td>\n",
              "      <td>0</td>\n",
              "      <td>0</td>\n",
              "      <td>0</td>\n",
              "      <td>0</td>\n",
              "      <td>0</td>\n",
              "      <td>0.0</td>\n",
              "    </tr>\n",
              "    <tr>\n",
              "      <th>421168</th>\n",
              "      <td>36</td>\n",
              "      <td>3667</td>\n",
              "      <td>366709</td>\n",
              "      <td>Private</td>\n",
              "      <td>1.0</td>\n",
              "      <td>0.0</td>\n",
              "      <td>0</td>\n",
              "      <td>0</td>\n",
              "      <td>0</td>\n",
              "      <td>0</td>\n",
              "      <td>...</td>\n",
              "      <td>Building removed</td>\n",
              "      <td>0.0</td>\n",
              "      <td>0</td>\n",
              "      <td>0</td>\n",
              "      <td>0</td>\n",
              "      <td>0</td>\n",
              "      <td>0</td>\n",
              "      <td>0</td>\n",
              "      <td>0</td>\n",
              "      <td>0.0</td>\n",
              "    </tr>\n",
              "    <tr>\n",
              "      <th>421169</th>\n",
              "      <td>36</td>\n",
              "      <td>3667</td>\n",
              "      <td>366709</td>\n",
              "      <td>Private</td>\n",
              "      <td>1.0</td>\n",
              "      <td>0.0</td>\n",
              "      <td>0</td>\n",
              "      <td>0</td>\n",
              "      <td>0</td>\n",
              "      <td>0</td>\n",
              "      <td>...</td>\n",
              "      <td>Building removed</td>\n",
              "      <td>0.0</td>\n",
              "      <td>0</td>\n",
              "      <td>0</td>\n",
              "      <td>0</td>\n",
              "      <td>0</td>\n",
              "      <td>0</td>\n",
              "      <td>0</td>\n",
              "      <td>0</td>\n",
              "      <td>0.0</td>\n",
              "    </tr>\n",
              "    <tr>\n",
              "      <th>421170</th>\n",
              "      <td>36</td>\n",
              "      <td>3667</td>\n",
              "      <td>366709</td>\n",
              "      <td>Private</td>\n",
              "      <td>1.0</td>\n",
              "      <td>0.0</td>\n",
              "      <td>0</td>\n",
              "      <td>0</td>\n",
              "      <td>0</td>\n",
              "      <td>0</td>\n",
              "      <td>...</td>\n",
              "      <td>Building removed</td>\n",
              "      <td>0.0</td>\n",
              "      <td>0</td>\n",
              "      <td>0</td>\n",
              "      <td>0</td>\n",
              "      <td>0</td>\n",
              "      <td>0</td>\n",
              "      <td>0</td>\n",
              "      <td>0</td>\n",
              "      <td>0.0</td>\n",
              "    </tr>\n",
              "    <tr>\n",
              "      <th>421171</th>\n",
              "      <td>36</td>\n",
              "      <td>3667</td>\n",
              "      <td>366709</td>\n",
              "      <td>Private</td>\n",
              "      <td>1.0</td>\n",
              "      <td>0.0</td>\n",
              "      <td>0</td>\n",
              "      <td>0</td>\n",
              "      <td>0</td>\n",
              "      <td>0</td>\n",
              "      <td>...</td>\n",
              "      <td>Building removed</td>\n",
              "      <td>0.0</td>\n",
              "      <td>0</td>\n",
              "      <td>0</td>\n",
              "      <td>0</td>\n",
              "      <td>0</td>\n",
              "      <td>0</td>\n",
              "      <td>0</td>\n",
              "      <td>0</td>\n",
              "      <td>1.0</td>\n",
              "    </tr>\n",
              "    <tr>\n",
              "      <th>421172</th>\n",
              "      <td>36</td>\n",
              "      <td>3667</td>\n",
              "      <td>366709</td>\n",
              "      <td>Private</td>\n",
              "      <td>1.0</td>\n",
              "      <td>0.0</td>\n",
              "      <td>0</td>\n",
              "      <td>0</td>\n",
              "      <td>0</td>\n",
              "      <td>0</td>\n",
              "      <td>...</td>\n",
              "      <td>Both</td>\n",
              "      <td>0.0</td>\n",
              "      <td>0</td>\n",
              "      <td>0</td>\n",
              "      <td>0</td>\n",
              "      <td>0</td>\n",
              "      <td>0</td>\n",
              "      <td>0</td>\n",
              "      <td>0</td>\n",
              "      <td>NaN</td>\n",
              "    </tr>\n",
              "    <tr>\n",
              "      <th>421173</th>\n",
              "      <td>36</td>\n",
              "      <td>3667</td>\n",
              "      <td>366709</td>\n",
              "      <td>Private</td>\n",
              "      <td>1.0</td>\n",
              "      <td>0.0</td>\n",
              "      <td>0</td>\n",
              "      <td>0</td>\n",
              "      <td>0</td>\n",
              "      <td>0</td>\n",
              "      <td>...</td>\n",
              "      <td>Building removed</td>\n",
              "      <td>0.0</td>\n",
              "      <td>0</td>\n",
              "      <td>0</td>\n",
              "      <td>0</td>\n",
              "      <td>0</td>\n",
              "      <td>0</td>\n",
              "      <td>0</td>\n",
              "      <td>0</td>\n",
              "      <td>0.0</td>\n",
              "    </tr>\n",
              "    <tr>\n",
              "      <th>421174</th>\n",
              "      <td>36</td>\n",
              "      <td>3667</td>\n",
              "      <td>366709</td>\n",
              "      <td>Private</td>\n",
              "      <td>1.0</td>\n",
              "      <td>0.0</td>\n",
              "      <td>0</td>\n",
              "      <td>0</td>\n",
              "      <td>0</td>\n",
              "      <td>0</td>\n",
              "      <td>...</td>\n",
              "      <td>Building removed</td>\n",
              "      <td>0.0</td>\n",
              "      <td>0</td>\n",
              "      <td>0</td>\n",
              "      <td>0</td>\n",
              "      <td>0</td>\n",
              "      <td>0</td>\n",
              "      <td>0</td>\n",
              "      <td>0</td>\n",
              "      <td>0.0</td>\n",
              "    </tr>\n",
              "  </tbody>\n",
              "</table>\n",
              "<p>421175 rows × 50 columns</p>\n",
              "</div>"
            ],
            "text/plain": [
              "        district_id_x  vdcmun_id_x  ward_id_x legal_ownership_status  \\\n",
              "0                   7          701      70102                Private   \n",
              "1                   7          701      70103                Private   \n",
              "2                   7          701      70103                Private   \n",
              "3                   7          701      70106                Private   \n",
              "4                   7          701      70107                Private   \n",
              "5                   7          701      70107                Private   \n",
              "6                   7          701      70107                Private   \n",
              "7                   7          701      70109                Private   \n",
              "8                   7          701      70109                Private   \n",
              "9                   7          701      70109                Private   \n",
              "10                  7          701      70109                Private   \n",
              "11                  7          702      70201                Private   \n",
              "12                  7          702      70201                Private   \n",
              "13                  7          702      70202                Private   \n",
              "14                  7          702      70203                Private   \n",
              "15                  7          702      70203                Private   \n",
              "16                  7          702      70204                Private   \n",
              "17                  7          702      70204                Private   \n",
              "18                  7          702      70204                Private   \n",
              "19                  7          702      70205                Private   \n",
              "20                  7          702      70206                Private   \n",
              "21                  7          702      70206                Private   \n",
              "22                  7          703      70301                Private   \n",
              "23                  7          702      70207                Private   \n",
              "24                  7          702      70207                Private   \n",
              "25                  7          702      70207                Private   \n",
              "26                  7          702      70208                Private   \n",
              "27                  7          702      70208                Private   \n",
              "28                  7          702      70208                Private   \n",
              "29                  7          702      70208                Private   \n",
              "...               ...          ...        ...                    ...   \n",
              "421145             36         3667     366709                Private   \n",
              "421146             36         3667     366709                Private   \n",
              "421147             36         3667     366709                Private   \n",
              "421148             36         3667     366709                Private   \n",
              "421149             36         3667     366709                Private   \n",
              "421150             36         3667     366709                Private   \n",
              "421151             36         3667     366709                Private   \n",
              "421152             36         3667     366709                Private   \n",
              "421153             36         3667     366709                Private   \n",
              "421154             36         3667     366709                Private   \n",
              "421155             36         3667     366709                Private   \n",
              "421156             36         3667     366709                Private   \n",
              "421157             36         3667     366709                Private   \n",
              "421158             36         3667     366709                Private   \n",
              "421159             36         3667     366709                Private   \n",
              "421160             36         3667     366709                Private   \n",
              "421161             36         3667     366709                Private   \n",
              "421162             36         3667     366709                Private   \n",
              "421163             36         3667     366709                Private   \n",
              "421164             36         3667     366709                Private   \n",
              "421165             36         3667     366709                Private   \n",
              "421166             36         3667     366709                Private   \n",
              "421167             36         3667     366709                Private   \n",
              "421168             36         3667     366709                Private   \n",
              "421169             36         3667     366709                Private   \n",
              "421170             36         3667     366709                Private   \n",
              "421171             36         3667     366709                Private   \n",
              "421172             36         3667     366709                Private   \n",
              "421173             36         3667     366709                Private   \n",
              "421174             36         3667     366709                Private   \n",
              "\n",
              "        count_families  has_secondary_use  has_secondary_use_agriculture  \\\n",
              "0                  1.0                0.0                              0   \n",
              "1                  1.0                0.0                              0   \n",
              "2                  1.0                0.0                              0   \n",
              "3                  1.0                0.0                              0   \n",
              "4                  1.0                0.0                              0   \n",
              "5                  1.0                0.0                              0   \n",
              "6                  1.0                0.0                              0   \n",
              "7                  1.0                0.0                              0   \n",
              "8                  1.0                0.0                              0   \n",
              "9                  1.0                0.0                              0   \n",
              "10                 1.0                0.0                              0   \n",
              "11                 1.0                0.0                              0   \n",
              "12                 1.0                0.0                              0   \n",
              "13                 1.0                0.0                              0   \n",
              "14                 1.0                0.0                              0   \n",
              "15                 1.0                0.0                              0   \n",
              "16                 1.0                0.0                              0   \n",
              "17                 1.0                0.0                              0   \n",
              "18                 1.0                0.0                              0   \n",
              "19                 1.0                0.0                              0   \n",
              "20                 1.0                0.0                              0   \n",
              "21                 1.0                0.0                              0   \n",
              "22                 1.0                0.0                              0   \n",
              "23                 1.0                0.0                              0   \n",
              "24                 1.0                0.0                              0   \n",
              "25                 1.0                0.0                              0   \n",
              "26                 1.0                0.0                              0   \n",
              "27                 1.0                0.0                              0   \n",
              "28                 1.0                0.0                              0   \n",
              "29                 1.0                0.0                              0   \n",
              "...                ...                ...                            ...   \n",
              "421145             1.0                0.0                              0   \n",
              "421146             1.0                0.0                              0   \n",
              "421147             1.0                0.0                              0   \n",
              "421148             1.0                0.0                              0   \n",
              "421149             1.0                0.0                              0   \n",
              "421150             1.0                0.0                              0   \n",
              "421151             1.0                0.0                              0   \n",
              "421152             0.0                0.0                              0   \n",
              "421153             1.0                0.0                              0   \n",
              "421154             1.0                0.0                              0   \n",
              "421155             1.0                1.0                              0   \n",
              "421156             1.0                0.0                              0   \n",
              "421157             1.0                0.0                              0   \n",
              "421158             1.0                0.0                              0   \n",
              "421159             1.0                0.0                              0   \n",
              "421160             1.0                0.0                              0   \n",
              "421161             1.0                0.0                              0   \n",
              "421162             1.0                0.0                              0   \n",
              "421163             1.0                0.0                              0   \n",
              "421164             1.0                0.0                              0   \n",
              "421165             1.0                0.0                              0   \n",
              "421166             1.0                0.0                              0   \n",
              "421167             1.0                0.0                              0   \n",
              "421168             1.0                0.0                              0   \n",
              "421169             1.0                0.0                              0   \n",
              "421170             1.0                0.0                              0   \n",
              "421171             1.0                0.0                              0   \n",
              "421172             1.0                0.0                              0   \n",
              "421173             1.0                0.0                              0   \n",
              "421174             1.0                0.0                              0   \n",
              "\n",
              "        has_secondary_use_hotel  has_secondary_use_rental  \\\n",
              "0                             0                         0   \n",
              "1                             0                         0   \n",
              "2                             0                         0   \n",
              "3                             0                         0   \n",
              "4                             0                         0   \n",
              "5                             0                         0   \n",
              "6                             0                         0   \n",
              "7                             0                         0   \n",
              "8                             0                         0   \n",
              "9                             0                         0   \n",
              "10                            0                         0   \n",
              "11                            0                         0   \n",
              "12                            0                         0   \n",
              "13                            0                         0   \n",
              "14                            0                         0   \n",
              "15                            0                         0   \n",
              "16                            0                         0   \n",
              "17                            0                         0   \n",
              "18                            0                         0   \n",
              "19                            0                         0   \n",
              "20                            0                         0   \n",
              "21                            0                         0   \n",
              "22                            0                         0   \n",
              "23                            0                         0   \n",
              "24                            0                         0   \n",
              "25                            0                         0   \n",
              "26                            0                         0   \n",
              "27                            0                         0   \n",
              "28                            0                         0   \n",
              "29                            0                         0   \n",
              "...                         ...                       ...   \n",
              "421145                        0                         0   \n",
              "421146                        0                         0   \n",
              "421147                        0                         0   \n",
              "421148                        0                         0   \n",
              "421149                        0                         0   \n",
              "421150                        0                         0   \n",
              "421151                        0                         0   \n",
              "421152                        0                         0   \n",
              "421153                        0                         0   \n",
              "421154                        0                         0   \n",
              "421155                        1                         0   \n",
              "421156                        0                         0   \n",
              "421157                        0                         0   \n",
              "421158                        0                         0   \n",
              "421159                        0                         0   \n",
              "421160                        0                         0   \n",
              "421161                        0                         0   \n",
              "421162                        0                         0   \n",
              "421163                        0                         0   \n",
              "421164                        0                         0   \n",
              "421165                        0                         0   \n",
              "421166                        0                         0   \n",
              "421167                        0                         0   \n",
              "421168                        0                         0   \n",
              "421169                        0                         0   \n",
              "421170                        0                         0   \n",
              "421171                        0                         0   \n",
              "421172                        0                         0   \n",
              "421173                        0                         0   \n",
              "421174                        0                         0   \n",
              "\n",
              "        has_secondary_use_institution         ...              area_assesed  \\\n",
              "0                                   0         ...                      Both   \n",
              "1                                   0         ...                      Both   \n",
              "2                                   0         ...          Building removed   \n",
              "3                                   0         ...                      Both   \n",
              "4                                   0         ...          Building removed   \n",
              "5                                   0         ...                      Both   \n",
              "6                                   0         ...                      Both   \n",
              "7                                   0         ...          Building removed   \n",
              "8                                   0         ...                      Both   \n",
              "9                                   0         ...                      Both   \n",
              "10                                  0         ...                      Both   \n",
              "11                                  0         ...                      Both   \n",
              "12                                  0         ...                      Both   \n",
              "13                                  0         ...                      Both   \n",
              "14                                  0         ...                      Both   \n",
              "15                                  0         ...                      Both   \n",
              "16                                  0         ...                      Both   \n",
              "17                                  0         ...                      Both   \n",
              "18                                  0         ...                      Both   \n",
              "19                                  0         ...                      Both   \n",
              "20                                  0         ...                      Both   \n",
              "21                                  0         ...                      Both   \n",
              "22                                  0         ...                      Both   \n",
              "23                                  0         ...                      Both   \n",
              "24                                  0         ...          Building removed   \n",
              "25                                  0         ...                      Both   \n",
              "26                                  0         ...                      Both   \n",
              "27                                  0         ...                      Both   \n",
              "28                                  0         ...                      Both   \n",
              "29                                  0         ...                      Both   \n",
              "...                               ...         ...                       ...   \n",
              "421145                              0         ...          Building removed   \n",
              "421146                              0         ...          Building removed   \n",
              "421147                              0         ...          Building removed   \n",
              "421148                              0         ...          Building removed   \n",
              "421149                              0         ...          Building removed   \n",
              "421150                              0         ...          Building removed   \n",
              "421151                              0         ...          Building removed   \n",
              "421152                              0         ...          Building removed   \n",
              "421153                              0         ...          Building removed   \n",
              "421154                              0         ...          Building removed   \n",
              "421155                              0         ...          Building removed   \n",
              "421156                              0         ...          Building removed   \n",
              "421157                              0         ...          Building removed   \n",
              "421158                              0         ...                      Both   \n",
              "421159                              0         ...          Building removed   \n",
              "421160                              0         ...          Building removed   \n",
              "421161                              0         ...          Building removed   \n",
              "421162                              0         ...          Building removed   \n",
              "421163                              0         ...          Building removed   \n",
              "421164                              0         ...          Building removed   \n",
              "421165                              0         ...                      Both   \n",
              "421166                              0         ...          Building removed   \n",
              "421167                              0         ...          Building removed   \n",
              "421168                              0         ...          Building removed   \n",
              "421169                              0         ...          Building removed   \n",
              "421170                              0         ...          Building removed   \n",
              "421171                              0         ...          Building removed   \n",
              "421172                              0         ...                      Both   \n",
              "421173                              0         ...          Building removed   \n",
              "421174                              0         ...          Building removed   \n",
              "\n",
              "        has_geotechnical_risk  has_geotechnical_risk_fault_crack  \\\n",
              "0                         0.0                                  0   \n",
              "1                         0.0                                  0   \n",
              "2                         0.0                                  0   \n",
              "3                         0.0                                  0   \n",
              "4                         0.0                                  0   \n",
              "5                         0.0                                  0   \n",
              "6                         0.0                                  0   \n",
              "7                         0.0                                  0   \n",
              "8                         0.0                                  0   \n",
              "9                         0.0                                  0   \n",
              "10                        0.0                                  0   \n",
              "11                        0.0                                  0   \n",
              "12                        0.0                                  0   \n",
              "13                        0.0                                  0   \n",
              "14                        0.0                                  0   \n",
              "15                        0.0                                  0   \n",
              "16                        0.0                                  0   \n",
              "17                        0.0                                  0   \n",
              "18                        0.0                                  0   \n",
              "19                        0.0                                  0   \n",
              "20                        0.0                                  0   \n",
              "21                        0.0                                  0   \n",
              "22                        0.0                                  0   \n",
              "23                        0.0                                  0   \n",
              "24                        0.0                                  0   \n",
              "25                        0.0                                  0   \n",
              "26                        0.0                                  0   \n",
              "27                        0.0                                  0   \n",
              "28                        0.0                                  0   \n",
              "29                        0.0                                  0   \n",
              "...                       ...                                ...   \n",
              "421145                    0.0                                  0   \n",
              "421146                    0.0                                  0   \n",
              "421147                    0.0                                  0   \n",
              "421148                    0.0                                  0   \n",
              "421149                    0.0                                  0   \n",
              "421150                    0.0                                  0   \n",
              "421151                    0.0                                  0   \n",
              "421152                    0.0                                  0   \n",
              "421153                    0.0                                  0   \n",
              "421154                    0.0                                  0   \n",
              "421155                    0.0                                  0   \n",
              "421156                    0.0                                  0   \n",
              "421157                    0.0                                  0   \n",
              "421158                    0.0                                  0   \n",
              "421159                    0.0                                  0   \n",
              "421160                    0.0                                  0   \n",
              "421161                    0.0                                  0   \n",
              "421162                    0.0                                  0   \n",
              "421163                    0.0                                  0   \n",
              "421164                    0.0                                  0   \n",
              "421165                    0.0                                  0   \n",
              "421166                    0.0                                  0   \n",
              "421167                    0.0                                  0   \n",
              "421168                    0.0                                  0   \n",
              "421169                    0.0                                  0   \n",
              "421170                    0.0                                  0   \n",
              "421171                    0.0                                  0   \n",
              "421172                    0.0                                  0   \n",
              "421173                    0.0                                  0   \n",
              "421174                    0.0                                  0   \n",
              "\n",
              "        has_geotechnical_risk_flood  has_geotechnical_risk_land_settlement  \\\n",
              "0                                 0                                      0   \n",
              "1                                 0                                      0   \n",
              "2                                 0                                      0   \n",
              "3                                 0                                      0   \n",
              "4                                 0                                      0   \n",
              "5                                 0                                      0   \n",
              "6                                 0                                      0   \n",
              "7                                 0                                      0   \n",
              "8                                 0                                      0   \n",
              "9                                 0                                      0   \n",
              "10                                0                                      0   \n",
              "11                                0                                      0   \n",
              "12                                0                                      0   \n",
              "13                                0                                      0   \n",
              "14                                0                                      0   \n",
              "15                                0                                      0   \n",
              "16                                0                                      0   \n",
              "17                                0                                      0   \n",
              "18                                0                                      0   \n",
              "19                                0                                      0   \n",
              "20                                0                                      0   \n",
              "21                                0                                      0   \n",
              "22                                0                                      0   \n",
              "23                                0                                      0   \n",
              "24                                0                                      0   \n",
              "25                                0                                      0   \n",
              "26                                0                                      0   \n",
              "27                                0                                      0   \n",
              "28                                0                                      0   \n",
              "29                                0                                      0   \n",
              "...                             ...                                    ...   \n",
              "421145                            0                                      0   \n",
              "421146                            0                                      0   \n",
              "421147                            0                                      0   \n",
              "421148                            0                                      0   \n",
              "421149                            0                                      0   \n",
              "421150                            0                                      0   \n",
              "421151                            0                                      0   \n",
              "421152                            0                                      0   \n",
              "421153                            0                                      0   \n",
              "421154                            0                                      0   \n",
              "421155                            0                                      0   \n",
              "421156                            0                                      0   \n",
              "421157                            0                                      0   \n",
              "421158                            0                                      0   \n",
              "421159                            0                                      0   \n",
              "421160                            0                                      0   \n",
              "421161                            0                                      0   \n",
              "421162                            0                                      0   \n",
              "421163                            0                                      0   \n",
              "421164                            0                                      0   \n",
              "421165                            0                                      0   \n",
              "421166                            0                                      0   \n",
              "421167                            0                                      0   \n",
              "421168                            0                                      0   \n",
              "421169                            0                                      0   \n",
              "421170                            0                                      0   \n",
              "421171                            0                                      0   \n",
              "421172                            0                                      0   \n",
              "421173                            0                                      0   \n",
              "421174                            0                                      0   \n",
              "\n",
              "        has_geotechnical_risk_landslide  has_geotechnical_risk_liquefaction  \\\n",
              "0                                     0                                   0   \n",
              "1                                     0                                   0   \n",
              "2                                     0                                   0   \n",
              "3                                     0                                   0   \n",
              "4                                     0                                   0   \n",
              "5                                     0                                   0   \n",
              "6                                     0                                   0   \n",
              "7                                     0                                   0   \n",
              "8                                     0                                   0   \n",
              "9                                     0                                   0   \n",
              "10                                    0                                   0   \n",
              "11                                    0                                   0   \n",
              "12                                    0                                   0   \n",
              "13                                    0                                   0   \n",
              "14                                    0                                   0   \n",
              "15                                    0                                   0   \n",
              "16                                    0                                   0   \n",
              "17                                    0                                   0   \n",
              "18                                    0                                   0   \n",
              "19                                    0                                   0   \n",
              "20                                    0                                   0   \n",
              "21                                    0                                   0   \n",
              "22                                    0                                   0   \n",
              "23                                    0                                   0   \n",
              "24                                    0                                   0   \n",
              "25                                    0                                   0   \n",
              "26                                    0                                   0   \n",
              "27                                    0                                   0   \n",
              "28                                    0                                   0   \n",
              "29                                    0                                   0   \n",
              "...                                 ...                                 ...   \n",
              "421145                                0                                   0   \n",
              "421146                                0                                   0   \n",
              "421147                                0                                   0   \n",
              "421148                                0                                   0   \n",
              "421149                                0                                   0   \n",
              "421150                                0                                   0   \n",
              "421151                                0                                   0   \n",
              "421152                                0                                   0   \n",
              "421153                                0                                   0   \n",
              "421154                                0                                   0   \n",
              "421155                                0                                   0   \n",
              "421156                                0                                   0   \n",
              "421157                                0                                   0   \n",
              "421158                                0                                   0   \n",
              "421159                                0                                   0   \n",
              "421160                                0                                   0   \n",
              "421161                                0                                   0   \n",
              "421162                                0                                   0   \n",
              "421163                                0                                   0   \n",
              "421164                                0                                   0   \n",
              "421165                                0                                   0   \n",
              "421166                                0                                   0   \n",
              "421167                                0                                   0   \n",
              "421168                                0                                   0   \n",
              "421169                                0                                   0   \n",
              "421170                                0                                   0   \n",
              "421171                                0                                   0   \n",
              "421172                                0                                   0   \n",
              "421173                                0                                   0   \n",
              "421174                                0                                   0   \n",
              "\n",
              "        has_geotechnical_risk_other  has_geotechnical_risk_rock_fall  \\\n",
              "0                                 0                                0   \n",
              "1                                 0                                0   \n",
              "2                                 0                                0   \n",
              "3                                 0                                0   \n",
              "4                                 0                                0   \n",
              "5                                 0                                0   \n",
              "6                                 0                                0   \n",
              "7                                 0                                0   \n",
              "8                                 0                                0   \n",
              "9                                 0                                0   \n",
              "10                                0                                0   \n",
              "11                                0                                0   \n",
              "12                                0                                0   \n",
              "13                                0                                0   \n",
              "14                                0                                0   \n",
              "15                                0                                0   \n",
              "16                                0                                0   \n",
              "17                                0                                0   \n",
              "18                                0                                0   \n",
              "19                                0                                0   \n",
              "20                                0                                0   \n",
              "21                                0                                0   \n",
              "22                                0                                0   \n",
              "23                                0                                0   \n",
              "24                                0                                0   \n",
              "25                                0                                0   \n",
              "26                                0                                0   \n",
              "27                                0                                0   \n",
              "28                                0                                0   \n",
              "29                                0                                0   \n",
              "...                             ...                              ...   \n",
              "421145                            0                                0   \n",
              "421146                            0                                0   \n",
              "421147                            0                                0   \n",
              "421148                            0                                0   \n",
              "421149                            0                                0   \n",
              "421150                            0                                0   \n",
              "421151                            0                                0   \n",
              "421152                            0                                0   \n",
              "421153                            0                                0   \n",
              "421154                            0                                0   \n",
              "421155                            0                                0   \n",
              "421156                            0                                0   \n",
              "421157                            0                                0   \n",
              "421158                            0                                0   \n",
              "421159                            0                                0   \n",
              "421160                            0                                0   \n",
              "421161                            0                                0   \n",
              "421162                            0                                0   \n",
              "421163                            0                                0   \n",
              "421164                            0                                0   \n",
              "421165                            0                                0   \n",
              "421166                            0                                0   \n",
              "421167                            0                                0   \n",
              "421168                            0                                0   \n",
              "421169                            0                                0   \n",
              "421170                            0                                0   \n",
              "421171                            0                                0   \n",
              "421172                            0                                0   \n",
              "421173                            0                                0   \n",
              "421174                            0                                0   \n",
              "\n",
              "        has_repair_started  \n",
              "0                      1.0  \n",
              "1                      1.0  \n",
              "2                      1.0  \n",
              "3                      1.0  \n",
              "4                      1.0  \n",
              "5                      0.0  \n",
              "6                      1.0  \n",
              "7                      1.0  \n",
              "8                      1.0  \n",
              "9                      1.0  \n",
              "10                     1.0  \n",
              "11                     1.0  \n",
              "12                     1.0  \n",
              "13                     1.0  \n",
              "14                     1.0  \n",
              "15                     1.0  \n",
              "16                     1.0  \n",
              "17                     1.0  \n",
              "18                     1.0  \n",
              "19                     1.0  \n",
              "20                     1.0  \n",
              "21                     1.0  \n",
              "22                     1.0  \n",
              "23                     1.0  \n",
              "24                     1.0  \n",
              "25                     1.0  \n",
              "26                     1.0  \n",
              "27                     1.0  \n",
              "28                     1.0  \n",
              "29                     1.0  \n",
              "...                    ...  \n",
              "421145                 1.0  \n",
              "421146                 1.0  \n",
              "421147                 1.0  \n",
              "421148                 0.0  \n",
              "421149                 0.0  \n",
              "421150                 1.0  \n",
              "421151                 1.0  \n",
              "421152                 1.0  \n",
              "421153                 0.0  \n",
              "421154                 0.0  \n",
              "421155                 0.0  \n",
              "421156                 1.0  \n",
              "421157                 1.0  \n",
              "421158                 0.0  \n",
              "421159                 0.0  \n",
              "421160                 1.0  \n",
              "421161                 0.0  \n",
              "421162                 0.0  \n",
              "421163                 0.0  \n",
              "421164                 1.0  \n",
              "421165                 NaN  \n",
              "421166                 1.0  \n",
              "421167                 0.0  \n",
              "421168                 0.0  \n",
              "421169                 0.0  \n",
              "421170                 0.0  \n",
              "421171                 1.0  \n",
              "421172                 NaN  \n",
              "421173                 0.0  \n",
              "421174                 0.0  \n",
              "\n",
              "[421175 rows x 50 columns]"
            ]
          },
          "metadata": {
            "tags": []
          },
          "execution_count": 42
        }
      ]
    },
    {
      "metadata": {
        "id": "cuIMPmm8TDiT",
        "colab_type": "code",
        "colab": {
          "base_uri": "https://localhost:8080/",
          "height": 153
        },
        "outputId": "fc5c4b91-7284-42d6-d39c-ed77c73b26df"
      },
      "cell_type": "code",
      "source": [
        "cont = [c for c in res_train if len(res_train[c].unique()) > 15]\n",
        "cont"
      ],
      "execution_count": 43,
      "outputs": [
        {
          "output_type": "execute_result",
          "data": {
            "text/plain": [
              "['building_id',\n",
              " 'district_id_x',\n",
              " 'vdcmun_id_x',\n",
              " 'ward_id_x',\n",
              " 'age_building',\n",
              " 'plinth_area_sq_ft',\n",
              " 'height_ft_pre_eq',\n",
              " 'height_ft_post_eq']"
            ]
          },
          "metadata": {
            "tags": []
          },
          "execution_count": 43
        }
      ]
    },
    {
      "metadata": {
        "id": "ORggYxSoTJCy",
        "colab_type": "code",
        "colab": {}
      },
      "cell_type": "code",
      "source": [
        "indices = 0,1,2,3\n",
        "cont = [i for j, i in enumerate(cont) if j not in indices]"
      ],
      "execution_count": 0,
      "outputs": []
    },
    {
      "metadata": {
        "id": "2U4iaq7RTOHD",
        "colab_type": "code",
        "colab": {
          "base_uri": "https://localhost:8080/",
          "height": 34
        },
        "outputId": "8ca920e1-8b9f-46d9-87f4-2dfb3bf44936"
      },
      "cell_type": "code",
      "source": [
        "cont"
      ],
      "execution_count": 45,
      "outputs": [
        {
          "output_type": "execute_result",
          "data": {
            "text/plain": [
              "['age_building', 'plinth_area_sq_ft', 'height_ft_pre_eq', 'height_ft_post_eq']"
            ]
          },
          "metadata": {
            "tags": []
          },
          "execution_count": 45
        }
      ]
    },
    {
      "metadata": {
        "id": "-dgDRmzoTQ_z",
        "colab_type": "code",
        "colab": {}
      },
      "cell_type": "code",
      "source": [
        "\n",
        "def hist_cont(cont, res_train):\n",
        "  nd = pd.melt(res_train, value_vars = cont)\n",
        "  n1 = sns.FacetGrid (nd, col='variable', col_wrap=4, sharex=False, sharey = False)\n",
        "  n1 = n1.map(sns.distplot, 'value')\n",
        "  \n",
        "  return n1"
      ],
      "execution_count": 0,
      "outputs": []
    },
    {
      "metadata": {
        "id": "e3rhDQxpTU28",
        "colab_type": "code",
        "colab": {
          "base_uri": "https://localhost:8080/",
          "height": 289
        },
        "outputId": "3017c6ca-9b8b-43c7-f562-c6fdd179b9f7"
      },
      "cell_type": "code",
      "source": [
        "hist_cont(cont,res_train)\n"
      ],
      "execution_count": 47,
      "outputs": [
        {
          "output_type": "stream",
          "text": [
            "/usr/local/lib/python3.6/dist-packages/matplotlib/axes/_axes.py:6521: MatplotlibDeprecationWarning: \n",
            "The 'normed' kwarg was deprecated in Matplotlib 2.1 and will be removed in 3.1. Use 'density' instead.\n",
            "  alternative=\"'density'\", removal=\"3.1\")\n"
          ],
          "name": "stderr"
        },
        {
          "output_type": "execute_result",
          "data": {
            "text/plain": [
              "<seaborn.axisgrid.FacetGrid at 0x7f2837887f60>"
            ]
          },
          "metadata": {
            "tags": []
          },
          "execution_count": 47
        },
        {
          "output_type": "display_data",
          "data": {
            "image/png": "[encoded data removed]",
            "text/plain": [
              "<Figure size 864x216 with 4 Axes>"
            ]
          },
          "metadata": {
            "tags": []
          }
        }
      ]
    },
    {
      "metadata": {
        "id": "40c0zmqMTZZd",
        "colab_type": "code",
        "colab": {
          "base_uri": "https://localhost:8080/",
          "height": 102
        },
        "outputId": "6f4f0f6b-e3cd-47c0-b4bb-4d559db82bed"
      },
      "cell_type": "code",
      "source": [
        "from scipy.stats import skew\n",
        "skewed = res_train[cont].apply(lambda x: skew(x.dropna().astype(float)))\n",
        "print(skewed)\n",
        "skewed = skewed[skewed > 0.30]\n",
        "skewed = skewed.index\n",
        "res_train[skewed] = np.log1p(res_train[skewed])\n",
        "res_test[skewed] = np.log1p(res_test[skewed])"
      ],
      "execution_count": 48,
      "outputs": [
        {
          "output_type": "stream",
          "text": [
            "age_building         12.356254\n",
            "plinth_area_sq_ft     3.611024\n",
            "height_ft_pre_eq      2.024236\n",
            "height_ft_post_eq     0.485025\n",
            "dtype: float64\n"
          ],
          "name": "stdout"
        }
      ]
    },
    {
      "metadata": {
        "id": "iRbCAjhZTddN",
        "colab_type": "code",
        "colab": {
          "base_uri": "https://localhost:8080/",
          "height": 289
        },
        "outputId": "4d921461-7aad-4881-b02b-d6ec051be1ad"
      },
      "cell_type": "code",
      "source": [
        "hist_cont(cont,res_train)\n"
      ],
      "execution_count": 49,
      "outputs": [
        {
          "output_type": "stream",
          "text": [
            "/usr/local/lib/python3.6/dist-packages/matplotlib/axes/_axes.py:6521: MatplotlibDeprecationWarning: \n",
            "The 'normed' kwarg was deprecated in Matplotlib 2.1 and will be removed in 3.1. Use 'density' instead.\n",
            "  alternative=\"'density'\", removal=\"3.1\")\n"
          ],
          "name": "stderr"
        },
        {
          "output_type": "execute_result",
          "data": {
            "text/plain": [
              "<seaborn.axisgrid.FacetGrid at 0x7f28361d64a8>"
            ]
          },
          "metadata": {
            "tags": []
          },
          "execution_count": 49
        },
        {
          "output_type": "display_data",
          "data": {
            "image/png": "[encoded data removed]",
            "text/plain": [
              "<Figure size 864x216 with 4 Axes>"
            ]
          },
          "metadata": {
            "tags": []
          }
        }
      ]
    },
    {
      "metadata": {
        "id": "1QEvGlZoTn6k",
        "colab_type": "code",
        "colab": {}
      },
      "cell_type": "code",
      "source": [
        "def calculateDistribution(cat, res_train):\n",
        "  for c in cat:\n",
        "    print(c)\n",
        "    print((res_train[c].value_counts())/ len(res_train[c]))\n",
        "    print(\" \")"
      ],
      "execution_count": 0,
      "outputs": []
    },
    {
      "metadata": {
        "id": "62d1SWKZTraQ",
        "colab_type": "code",
        "colab": {
          "base_uri": "https://localhost:8080/",
          "height": 1394
        },
        "outputId": "ff60a117-aab0-4307-f5a5-0aa004ef965b"
      },
      "cell_type": "code",
      "source": [
        "calculateDistribution(cat,res_train)\n"
      ],
      "execution_count": 51,
      "outputs": [
        {
          "output_type": "stream",
          "text": [
            "legal_ownership_status\n",
            "Private          0.962939\n",
            "Public           0.021294\n",
            "Institutional    0.009940\n",
            "Other            0.005827\n",
            "Name: legal_ownership_status, dtype: float64\n",
            " \n",
            "land_surface_condition\n",
            "Flat              0.830164\n",
            "Moderate slope    0.137870\n",
            "Steep slope       0.031966\n",
            "Name: land_surface_condition, dtype: float64\n",
            " \n",
            "foundation_type\n",
            "Mud mortar-Stone/Brick    0.841331\n",
            "Bamboo/Timber             0.057590\n",
            "Cement-Stone/Brick        0.054574\n",
            "RC                        0.040962\n",
            "Other                     0.005543\n",
            "Name: foundation_type, dtype: float64\n",
            " \n",
            "roof_type\n",
            "Bamboo/Timber-Light roof    0.701973\n",
            "Bamboo/Timber-Heavy roof    0.235493\n",
            "RCC/RB/RBC                  0.062535\n",
            "Name: roof_type, dtype: float64\n",
            " \n",
            "ground_floor_type\n",
            "Mud            0.804121\n",
            "Brick/Stone    0.095558\n",
            "RC             0.094446\n",
            "Timber         0.003902\n",
            "Other          0.001974\n",
            "Name: ground_floor_type, dtype: float64\n",
            " \n",
            "other_floor_type\n",
            "TImber/Bamboo-Mud    0.632353\n",
            "Timber-Planck        0.168374\n",
            "Not applicable       0.152426\n",
            "RCC/RB/RBC           0.046847\n",
            "Name: other_floor_type, dtype: float64\n",
            " \n",
            "position\n",
            "Not attached       0.774600\n",
            "Attached-1 side    0.165042\n",
            "Attached-2 side    0.051155\n",
            "Attached-3 side    0.009203\n",
            "Name: position, dtype: float64\n",
            " \n",
            "plan_configuration\n",
            "Rectangular                        0.959290\n",
            "Square                             0.021969\n",
            "L-shape                            0.014263\n",
            "Multi-projected                    0.001309\n",
            "T-shape                            0.001208\n",
            "Others                             0.000966\n",
            "U-shape                            0.000562\n",
            "Building with Central Courtyard    0.000180\n",
            "E-shape                            0.000158\n",
            "H-shape                            0.000095\n",
            "Name: plan_configuration, dtype: float64\n",
            " \n",
            "condition_post_eq\n",
            "Damaged-Not used                           0.236775\n",
            "Damaged-Repaired and used                  0.200019\n",
            "Damaged-Used in risk                       0.178522\n",
            "Damaged-Rubble unclear                     0.138196\n",
            "Damaged-Rubble clear                       0.125818\n",
            "Not damaged                                0.068388\n",
            "Damaged-Rubble Clear-New building built    0.051846\n",
            "Covered by landslide                       0.000437\n",
            "Name: condition_post_eq, dtype: float64\n",
            " \n",
            "area_assesed\n",
            "Both                   0.606229\n",
            "Building removed       0.207905\n",
            "Exterior               0.156752\n",
            "Not able to inspect    0.026236\n",
            "Interior               0.002878\n",
            "Name: area_assesed, dtype: float64\n",
            " \n"
          ],
          "name": "stdout"
        }
      ]
    },
    {
      "metadata": {
        "id": "_BVDSffATw4u",
        "colab_type": "code",
        "colab": {
          "base_uri": "https://localhost:8080/",
          "height": 253
        },
        "outputId": "db41c0e9-bcb2-4fef-9729-2c0eb089f22f"
      },
      "cell_type": "code",
      "source": [
        "res_train_copy = res_train\n",
        "res_train_copy.head()"
      ],
      "execution_count": 52,
      "outputs": [
        {
          "output_type": "execute_result",
          "data": {
            "text/html": [
              "<div>\n",
              "<style scoped>\n",
              "    .dataframe tbody tr th:only-of-type {\n",
              "        vertical-align: middle;\n",
              "    }\n",
              "\n",
              "    .dataframe tbody tr th {\n",
              "        vertical-align: top;\n",
              "    }\n",
              "\n",
              "    .dataframe thead th {\n",
              "        text-align: right;\n",
              "    }\n",
              "</style>\n",
              "<table border=\"1\" class=\"dataframe\">\n",
              "  <thead>\n",
              "    <tr style=\"text-align: right;\">\n",
              "      <th></th>\n",
              "      <th>building_id</th>\n",
              "      <th>district_id_x</th>\n",
              "      <th>vdcmun_id_x</th>\n",
              "      <th>ward_id_x</th>\n",
              "      <th>legal_ownership_status</th>\n",
              "      <th>count_families</th>\n",
              "      <th>has_secondary_use</th>\n",
              "      <th>has_secondary_use_agriculture</th>\n",
              "      <th>has_secondary_use_hotel</th>\n",
              "      <th>has_secondary_use_rental</th>\n",
              "      <th>...</th>\n",
              "      <th>damage_grade</th>\n",
              "      <th>has_geotechnical_risk</th>\n",
              "      <th>has_geotechnical_risk_fault_crack</th>\n",
              "      <th>has_geotechnical_risk_flood</th>\n",
              "      <th>has_geotechnical_risk_land_settlement</th>\n",
              "      <th>has_geotechnical_risk_landslide</th>\n",
              "      <th>has_geotechnical_risk_liquefaction</th>\n",
              "      <th>has_geotechnical_risk_other</th>\n",
              "      <th>has_geotechnical_risk_rock_fall</th>\n",
              "      <th>has_repair_started</th>\n",
              "    </tr>\n",
              "  </thead>\n",
              "  <tbody>\n",
              "    <tr>\n",
              "      <th>0</th>\n",
              "      <td>a3380c4fd9</td>\n",
              "      <td>7</td>\n",
              "      <td>701</td>\n",
              "      <td>70102</td>\n",
              "      <td>Private</td>\n",
              "      <td>1.0</td>\n",
              "      <td>0.0</td>\n",
              "      <td>0</td>\n",
              "      <td>0</td>\n",
              "      <td>0</td>\n",
              "      <td>...</td>\n",
              "      <td>2</td>\n",
              "      <td>0.0</td>\n",
              "      <td>0</td>\n",
              "      <td>0</td>\n",
              "      <td>0</td>\n",
              "      <td>0</td>\n",
              "      <td>0</td>\n",
              "      <td>0</td>\n",
              "      <td>0</td>\n",
              "      <td>1.0</td>\n",
              "    </tr>\n",
              "    <tr>\n",
              "      <th>1</th>\n",
              "      <td>a3380c503e</td>\n",
              "      <td>7</td>\n",
              "      <td>701</td>\n",
              "      <td>70102</td>\n",
              "      <td>Private</td>\n",
              "      <td>1.0</td>\n",
              "      <td>0.0</td>\n",
              "      <td>0</td>\n",
              "      <td>0</td>\n",
              "      <td>0</td>\n",
              "      <td>...</td>\n",
              "      <td>3</td>\n",
              "      <td>0.0</td>\n",
              "      <td>0</td>\n",
              "      <td>0</td>\n",
              "      <td>0</td>\n",
              "      <td>0</td>\n",
              "      <td>0</td>\n",
              "      <td>0</td>\n",
              "      <td>0</td>\n",
              "      <td>1.0</td>\n",
              "    </tr>\n",
              "    <tr>\n",
              "      <th>2</th>\n",
              "      <td>a338a4e5f2</td>\n",
              "      <td>7</td>\n",
              "      <td>701</td>\n",
              "      <td>70103</td>\n",
              "      <td>Private</td>\n",
              "      <td>1.0</td>\n",
              "      <td>0.0</td>\n",
              "      <td>0</td>\n",
              "      <td>0</td>\n",
              "      <td>0</td>\n",
              "      <td>...</td>\n",
              "      <td>3</td>\n",
              "      <td>0.0</td>\n",
              "      <td>0</td>\n",
              "      <td>0</td>\n",
              "      <td>0</td>\n",
              "      <td>0</td>\n",
              "      <td>0</td>\n",
              "      <td>0</td>\n",
              "      <td>0</td>\n",
              "      <td>1.0</td>\n",
              "    </tr>\n",
              "    <tr>\n",
              "      <th>3</th>\n",
              "      <td>a338a4e71f</td>\n",
              "      <td>7</td>\n",
              "      <td>701</td>\n",
              "      <td>70103</td>\n",
              "      <td>Private</td>\n",
              "      <td>1.0</td>\n",
              "      <td>0.0</td>\n",
              "      <td>0</td>\n",
              "      <td>0</td>\n",
              "      <td>0</td>\n",
              "      <td>...</td>\n",
              "      <td>4</td>\n",
              "      <td>0.0</td>\n",
              "      <td>0</td>\n",
              "      <td>0</td>\n",
              "      <td>0</td>\n",
              "      <td>0</td>\n",
              "      <td>0</td>\n",
              "      <td>0</td>\n",
              "      <td>0</td>\n",
              "      <td>1.0</td>\n",
              "    </tr>\n",
              "    <tr>\n",
              "      <th>4</th>\n",
              "      <td>a339d612f3</td>\n",
              "      <td>7</td>\n",
              "      <td>701</td>\n",
              "      <td>70105</td>\n",
              "      <td>Private</td>\n",
              "      <td>1.0</td>\n",
              "      <td>0.0</td>\n",
              "      <td>0</td>\n",
              "      <td>0</td>\n",
              "      <td>0</td>\n",
              "      <td>...</td>\n",
              "      <td>3</td>\n",
              "      <td>0.0</td>\n",
              "      <td>0</td>\n",
              "      <td>0</td>\n",
              "      <td>0</td>\n",
              "      <td>0</td>\n",
              "      <td>0</td>\n",
              "      <td>0</td>\n",
              "      <td>0</td>\n",
              "      <td>1.0</td>\n",
              "    </tr>\n",
              "  </tbody>\n",
              "</table>\n",
              "<p>5 rows × 53 columns</p>\n",
              "</div>"
            ],
            "text/plain": [
              "  building_id  district_id_x  vdcmun_id_x  ward_id_x legal_ownership_status  \\\n",
              "0  a3380c4fd9              7          701      70102                Private   \n",
              "1  a3380c503e              7          701      70102                Private   \n",
              "2  a338a4e5f2              7          701      70103                Private   \n",
              "3  a338a4e71f              7          701      70103                Private   \n",
              "4  a339d612f3              7          701      70105                Private   \n",
              "\n",
              "   count_families  has_secondary_use  has_secondary_use_agriculture  \\\n",
              "0             1.0                0.0                              0   \n",
              "1             1.0                0.0                              0   \n",
              "2             1.0                0.0                              0   \n",
              "3             1.0                0.0                              0   \n",
              "4             1.0                0.0                              0   \n",
              "\n",
              "   has_secondary_use_hotel  has_secondary_use_rental         ...          \\\n",
              "0                        0                         0         ...           \n",
              "1                        0                         0         ...           \n",
              "2                        0                         0         ...           \n",
              "3                        0                         0         ...           \n",
              "4                        0                         0         ...           \n",
              "\n",
              "   damage_grade  has_geotechnical_risk  has_geotechnical_risk_fault_crack  \\\n",
              "0             2                    0.0                                  0   \n",
              "1             3                    0.0                                  0   \n",
              "2             3                    0.0                                  0   \n",
              "3             4                    0.0                                  0   \n",
              "4             3                    0.0                                  0   \n",
              "\n",
              "   has_geotechnical_risk_flood  has_geotechnical_risk_land_settlement  \\\n",
              "0                            0                                      0   \n",
              "1                            0                                      0   \n",
              "2                            0                                      0   \n",
              "3                            0                                      0   \n",
              "4                            0                                      0   \n",
              "\n",
              "   has_geotechnical_risk_landslide  has_geotechnical_risk_liquefaction  \\\n",
              "0                                0                                   0   \n",
              "1                                0                                   0   \n",
              "2                                0                                   0   \n",
              "3                                0                                   0   \n",
              "4                                0                                   0   \n",
              "\n",
              "   has_geotechnical_risk_other  has_geotechnical_risk_rock_fall  \\\n",
              "0                            0                                0   \n",
              "1                            0                                0   \n",
              "2                            0                                0   \n",
              "3                            0                                0   \n",
              "4                            0                                0   \n",
              "\n",
              "   has_repair_started  \n",
              "0                 1.0  \n",
              "1                 1.0  \n",
              "2                 1.0  \n",
              "3                 1.0  \n",
              "4                 1.0  \n",
              "\n",
              "[5 rows x 53 columns]"
            ]
          },
          "metadata": {
            "tags": []
          },
          "execution_count": 52
        }
      ]
    },
    {
      "metadata": {
        "id": "7fHDeTNLT0Es",
        "colab_type": "code",
        "colab": {
          "base_uri": "https://localhost:8080/",
          "height": 287
        },
        "outputId": "e1b9c6b6-8fdd-440f-c361-233507136d25"
      },
      "cell_type": "code",
      "source": [
        "res_test_copy = res_test\n",
        "res_test_copy.head()"
      ],
      "execution_count": 53,
      "outputs": [
        {
          "output_type": "execute_result",
          "data": {
            "text/html": [
              "<div>\n",
              "<style scoped>\n",
              "    .dataframe tbody tr th:only-of-type {\n",
              "        vertical-align: middle;\n",
              "    }\n",
              "\n",
              "    .dataframe tbody tr th {\n",
              "        vertical-align: top;\n",
              "    }\n",
              "\n",
              "    .dataframe thead th {\n",
              "        text-align: right;\n",
              "    }\n",
              "</style>\n",
              "<table border=\"1\" class=\"dataframe\">\n",
              "  <thead>\n",
              "    <tr style=\"text-align: right;\">\n",
              "      <th></th>\n",
              "      <th>building_id</th>\n",
              "      <th>district_id_x</th>\n",
              "      <th>vdcmun_id_x</th>\n",
              "      <th>ward_id_x</th>\n",
              "      <th>legal_ownership_status</th>\n",
              "      <th>count_families</th>\n",
              "      <th>has_secondary_use</th>\n",
              "      <th>has_secondary_use_agriculture</th>\n",
              "      <th>has_secondary_use_hotel</th>\n",
              "      <th>has_secondary_use_rental</th>\n",
              "      <th>...</th>\n",
              "      <th>area_assesed</th>\n",
              "      <th>has_geotechnical_risk</th>\n",
              "      <th>has_geotechnical_risk_fault_crack</th>\n",
              "      <th>has_geotechnical_risk_flood</th>\n",
              "      <th>has_geotechnical_risk_land_settlement</th>\n",
              "      <th>has_geotechnical_risk_landslide</th>\n",
              "      <th>has_geotechnical_risk_liquefaction</th>\n",
              "      <th>has_geotechnical_risk_other</th>\n",
              "      <th>has_geotechnical_risk_rock_fall</th>\n",
              "      <th>has_repair_started</th>\n",
              "    </tr>\n",
              "  </thead>\n",
              "  <tbody>\n",
              "    <tr>\n",
              "      <th>0</th>\n",
              "      <td>a3380c4f75</td>\n",
              "      <td>7</td>\n",
              "      <td>701</td>\n",
              "      <td>70102</td>\n",
              "      <td>Private</td>\n",
              "      <td>1.0</td>\n",
              "      <td>0.0</td>\n",
              "      <td>0</td>\n",
              "      <td>0</td>\n",
              "      <td>0</td>\n",
              "      <td>...</td>\n",
              "      <td>Both</td>\n",
              "      <td>0.0</td>\n",
              "      <td>0</td>\n",
              "      <td>0</td>\n",
              "      <td>0</td>\n",
              "      <td>0</td>\n",
              "      <td>0</td>\n",
              "      <td>0</td>\n",
              "      <td>0</td>\n",
              "      <td>1.0</td>\n",
              "    </tr>\n",
              "    <tr>\n",
              "      <th>1</th>\n",
              "      <td>a338a4e653</td>\n",
              "      <td>7</td>\n",
              "      <td>701</td>\n",
              "      <td>70103</td>\n",
              "      <td>Private</td>\n",
              "      <td>1.0</td>\n",
              "      <td>0.0</td>\n",
              "      <td>0</td>\n",
              "      <td>0</td>\n",
              "      <td>0</td>\n",
              "      <td>...</td>\n",
              "      <td>Both</td>\n",
              "      <td>0.0</td>\n",
              "      <td>0</td>\n",
              "      <td>0</td>\n",
              "      <td>0</td>\n",
              "      <td>0</td>\n",
              "      <td>0</td>\n",
              "      <td>0</td>\n",
              "      <td>0</td>\n",
              "      <td>1.0</td>\n",
              "    </tr>\n",
              "    <tr>\n",
              "      <th>2</th>\n",
              "      <td>a338a4e6b7</td>\n",
              "      <td>7</td>\n",
              "      <td>701</td>\n",
              "      <td>70103</td>\n",
              "      <td>Private</td>\n",
              "      <td>1.0</td>\n",
              "      <td>0.0</td>\n",
              "      <td>0</td>\n",
              "      <td>0</td>\n",
              "      <td>0</td>\n",
              "      <td>...</td>\n",
              "      <td>Building removed</td>\n",
              "      <td>0.0</td>\n",
              "      <td>0</td>\n",
              "      <td>0</td>\n",
              "      <td>0</td>\n",
              "      <td>0</td>\n",
              "      <td>0</td>\n",
              "      <td>0</td>\n",
              "      <td>0</td>\n",
              "      <td>1.0</td>\n",
              "    </tr>\n",
              "    <tr>\n",
              "      <th>3</th>\n",
              "      <td>a33a6eaa3a</td>\n",
              "      <td>7</td>\n",
              "      <td>701</td>\n",
              "      <td>70106</td>\n",
              "      <td>Private</td>\n",
              "      <td>1.0</td>\n",
              "      <td>0.0</td>\n",
              "      <td>0</td>\n",
              "      <td>0</td>\n",
              "      <td>0</td>\n",
              "      <td>...</td>\n",
              "      <td>Both</td>\n",
              "      <td>0.0</td>\n",
              "      <td>0</td>\n",
              "      <td>0</td>\n",
              "      <td>0</td>\n",
              "      <td>0</td>\n",
              "      <td>0</td>\n",
              "      <td>0</td>\n",
              "      <td>0</td>\n",
              "      <td>1.0</td>\n",
              "    </tr>\n",
              "    <tr>\n",
              "      <th>4</th>\n",
              "      <td>a33b073ff6</td>\n",
              "      <td>7</td>\n",
              "      <td>701</td>\n",
              "      <td>70107</td>\n",
              "      <td>Private</td>\n",
              "      <td>1.0</td>\n",
              "      <td>0.0</td>\n",
              "      <td>0</td>\n",
              "      <td>0</td>\n",
              "      <td>0</td>\n",
              "      <td>...</td>\n",
              "      <td>Building removed</td>\n",
              "      <td>0.0</td>\n",
              "      <td>0</td>\n",
              "      <td>0</td>\n",
              "      <td>0</td>\n",
              "      <td>0</td>\n",
              "      <td>0</td>\n",
              "      <td>0</td>\n",
              "      <td>0</td>\n",
              "      <td>1.0</td>\n",
              "    </tr>\n",
              "  </tbody>\n",
              "</table>\n",
              "<p>5 rows × 52 columns</p>\n",
              "</div>"
            ],
            "text/plain": [
              "  building_id  district_id_x  vdcmun_id_x  ward_id_x legal_ownership_status  \\\n",
              "0  a3380c4f75              7          701      70102                Private   \n",
              "1  a338a4e653              7          701      70103                Private   \n",
              "2  a338a4e6b7              7          701      70103                Private   \n",
              "3  a33a6eaa3a              7          701      70106                Private   \n",
              "4  a33b073ff6              7          701      70107                Private   \n",
              "\n",
              "   count_families  has_secondary_use  has_secondary_use_agriculture  \\\n",
              "0             1.0                0.0                              0   \n",
              "1             1.0                0.0                              0   \n",
              "2             1.0                0.0                              0   \n",
              "3             1.0                0.0                              0   \n",
              "4             1.0                0.0                              0   \n",
              "\n",
              "   has_secondary_use_hotel  has_secondary_use_rental         ...          \\\n",
              "0                        0                         0         ...           \n",
              "1                        0                         0         ...           \n",
              "2                        0                         0         ...           \n",
              "3                        0                         0         ...           \n",
              "4                        0                         0         ...           \n",
              "\n",
              "       area_assesed  has_geotechnical_risk  has_geotechnical_risk_fault_crack  \\\n",
              "0              Both                    0.0                                  0   \n",
              "1              Both                    0.0                                  0   \n",
              "2  Building removed                    0.0                                  0   \n",
              "3              Both                    0.0                                  0   \n",
              "4  Building removed                    0.0                                  0   \n",
              "\n",
              "   has_geotechnical_risk_flood  has_geotechnical_risk_land_settlement  \\\n",
              "0                            0                                      0   \n",
              "1                            0                                      0   \n",
              "2                            0                                      0   \n",
              "3                            0                                      0   \n",
              "4                            0                                      0   \n",
              "\n",
              "   has_geotechnical_risk_landslide  has_geotechnical_risk_liquefaction  \\\n",
              "0                                0                                   0   \n",
              "1                                0                                   0   \n",
              "2                                0                                   0   \n",
              "3                                0                                   0   \n",
              "4                                0                                   0   \n",
              "\n",
              "   has_geotechnical_risk_other  has_geotechnical_risk_rock_fall  \\\n",
              "0                            0                                0   \n",
              "1                            0                                0   \n",
              "2                            0                                0   \n",
              "3                            0                                0   \n",
              "4                            0                                0   \n",
              "\n",
              "   has_repair_started  \n",
              "0                 1.0  \n",
              "1                 1.0  \n",
              "2                 1.0  \n",
              "3                 1.0  \n",
              "4                 1.0  \n",
              "\n",
              "[5 rows x 52 columns]"
            ]
          },
          "metadata": {
            "tags": []
          },
          "execution_count": 53
        }
      ]
    },
    {
      "metadata": {
        "id": "YJm06j7BT2gO",
        "colab_type": "code",
        "colab": {}
      },
      "cell_type": "code",
      "source": [
        "res_train_copy['IsPrivate'] = (res_train_copy[\"legal_ownership_status\"] == \"Private\") * 1 \n",
        "res_test_copy['IsPrivate'] = (res_test_copy[\"legal_ownership_status\"] == \"Private\") * 1"
      ],
      "execution_count": 0,
      "outputs": []
    },
    {
      "metadata": {
        "id": "q2RILnBXUIm8",
        "colab_type": "code",
        "colab": {}
      },
      "cell_type": "code",
      "source": [
        "res_train_copy['IsFlat'] = (res_train_copy[\"land_surface_condition\"] == \"Flat\") * 1\n",
        "res_test_copy['IsFlat'] = (res_test_copy[\"land_surface_condition\"] == \"Flat\") * 1"
      ],
      "execution_count": 0,
      "outputs": []
    },
    {
      "metadata": {
        "id": "lEpvxLclUMLw",
        "colab_type": "code",
        "colab": {}
      },
      "cell_type": "code",
      "source": [
        "res_train_copy['IsMudFoundation'] = (res_train_copy[\"foundation_type\"] == \"Mud mortar-Stone/Brick\") * 1\n",
        "res_test_copy['IsMudFoundation'] = (res_test_copy[\"foundation_type\"] == \"Mud mortar-Stone/Brick\") * 1"
      ],
      "execution_count": 0,
      "outputs": []
    },
    {
      "metadata": {
        "id": "CIVVmZZAUO_D",
        "colab_type": "code",
        "colab": {}
      },
      "cell_type": "code",
      "source": [
        "res_train_copy['IsBambooRoofLight'] = (res_train_copy[\"roof_type\"] == \"Bamboo/Timber-Light roof\") * 1\n",
        "res_test_copy['IsBambooRoofLight'] = (res_test_copy[\"roof_type\"] == \"Bamboo/Timber-Light roof\") * 1"
      ],
      "execution_count": 0,
      "outputs": []
    },
    {
      "metadata": {
        "id": "5mqG5LbEUSB-",
        "colab_type": "code",
        "colab": {}
      },
      "cell_type": "code",
      "source": [
        "res_train_copy['IsFloorTypeMud'] = (res_train_copy[\"ground_floor_type\"] == \"Mud\") * 1\n",
        "res_test_copy['IsFloorTypeMud'] = (res_test_copy[\"ground_floor_type\"] == \"Mud\") * 1"
      ],
      "execution_count": 0,
      "outputs": []
    },
    {
      "metadata": {
        "id": "SwphTnueUVg6",
        "colab_type": "code",
        "colab": {}
      },
      "cell_type": "code",
      "source": [
        "res_train_copy['OtherFloorTypeMud'] = (res_train_copy[\"other_floor_type\"] == \"TImber/Bamboo-Mud\") * 1\n",
        "res_test_copy['OtherFloorTypeMud'] = (res_test_copy[\"other_floor_type\"] == \"TImber/Bamboo-Mud\") * 1"
      ],
      "execution_count": 0,
      "outputs": []
    },
    {
      "metadata": {
        "id": "oTQDhEbZUYcl",
        "colab_type": "code",
        "colab": {}
      },
      "cell_type": "code",
      "source": [
        "res_train_copy['IsNotAttached'] = (res_train_copy[\"position\"] == \"Not attached\") * 1\n",
        "res_test_copy['IsNotAttached'] = (res_test_copy[\"position\"] == \"Not attached\") * 1"
      ],
      "execution_count": 0,
      "outputs": []
    },
    {
      "metadata": {
        "id": "14sKnqhYUbCY",
        "colab_type": "code",
        "colab": {}
      },
      "cell_type": "code",
      "source": [
        "res_train_copy['IsPlanConfigRectangular'] = (res_train_copy[\"plan_configuration\"] == \"Rectangular\") * 1\n",
        "res_test_copy['IsPlanConfigRectangular'] = (res_test_copy[\"plan_configuration\"] == \"Rectangular\") * 1"
      ],
      "execution_count": 0,
      "outputs": []
    },
    {
      "metadata": {
        "id": "a11X6GLNUd3R",
        "colab_type": "code",
        "colab": {}
      },
      "cell_type": "code",
      "source": [
        "res_train_copy['count_floors_change'] = (res_train_copy['count_floors_post_eq'] - res_train_copy['count_floors_pre_eq'])\n",
        "res_train_copy['height_ft_change'] = (res_train_copy['height_ft_post_eq'] - res_train_copy['height_ft_pre_eq'])\n",
        "res_test_copy['count_floors_change'] = (res_test_copy['count_floors_post_eq'] - res_test_copy['count_floors_pre_eq'])\n",
        "res_test_copy['height_ft_change'] = (res_test_copy['height_ft_post_eq'] - res_test_copy['height_ft_pre_eq'])"
      ],
      "execution_count": 0,
      "outputs": []
    },
    {
      "metadata": {
        "id": "Au1iGl9kUguz",
        "colab_type": "code",
        "colab": {
          "base_uri": "https://localhost:8080/",
          "height": 253
        },
        "outputId": "4680b24a-d87c-47a1-a1a9-e02a47525793"
      },
      "cell_type": "code",
      "source": [
        "res_train_copy.head()\n"
      ],
      "execution_count": 63,
      "outputs": [
        {
          "output_type": "execute_result",
          "data": {
            "text/html": [
              "<div>\n",
              "<style scoped>\n",
              "    .dataframe tbody tr th:only-of-type {\n",
              "        vertical-align: middle;\n",
              "    }\n",
              "\n",
              "    .dataframe tbody tr th {\n",
              "        vertical-align: top;\n",
              "    }\n",
              "\n",
              "    .dataframe thead th {\n",
              "        text-align: right;\n",
              "    }\n",
              "</style>\n",
              "<table border=\"1\" class=\"dataframe\">\n",
              "  <thead>\n",
              "    <tr style=\"text-align: right;\">\n",
              "      <th></th>\n",
              "      <th>building_id</th>\n",
              "      <th>district_id_x</th>\n",
              "      <th>vdcmun_id_x</th>\n",
              "      <th>ward_id_x</th>\n",
              "      <th>legal_ownership_status</th>\n",
              "      <th>count_families</th>\n",
              "      <th>has_secondary_use</th>\n",
              "      <th>has_secondary_use_agriculture</th>\n",
              "      <th>has_secondary_use_hotel</th>\n",
              "      <th>has_secondary_use_rental</th>\n",
              "      <th>...</th>\n",
              "      <th>IsPrivate</th>\n",
              "      <th>IsFlat</th>\n",
              "      <th>IsMudFoundation</th>\n",
              "      <th>IsBambooRoofLight</th>\n",
              "      <th>IsFloorTypeMud</th>\n",
              "      <th>OtherFloorTypeMud</th>\n",
              "      <th>IsNotAttached</th>\n",
              "      <th>IsPlanConfigRectangular</th>\n",
              "      <th>count_floors_change</th>\n",
              "      <th>height_ft_change</th>\n",
              "    </tr>\n",
              "  </thead>\n",
              "  <tbody>\n",
              "    <tr>\n",
              "      <th>0</th>\n",
              "      <td>a3380c4fd9</td>\n",
              "      <td>7</td>\n",
              "      <td>701</td>\n",
              "      <td>70102</td>\n",
              "      <td>Private</td>\n",
              "      <td>1.0</td>\n",
              "      <td>0.0</td>\n",
              "      <td>0</td>\n",
              "      <td>0</td>\n",
              "      <td>0</td>\n",
              "      <td>...</td>\n",
              "      <td>1</td>\n",
              "      <td>0</td>\n",
              "      <td>1</td>\n",
              "      <td>1</td>\n",
              "      <td>1</td>\n",
              "      <td>0</td>\n",
              "      <td>0</td>\n",
              "      <td>1</td>\n",
              "      <td>0</td>\n",
              "      <td>0.0</td>\n",
              "    </tr>\n",
              "    <tr>\n",
              "      <th>1</th>\n",
              "      <td>a3380c503e</td>\n",
              "      <td>7</td>\n",
              "      <td>701</td>\n",
              "      <td>70102</td>\n",
              "      <td>Private</td>\n",
              "      <td>1.0</td>\n",
              "      <td>0.0</td>\n",
              "      <td>0</td>\n",
              "      <td>0</td>\n",
              "      <td>0</td>\n",
              "      <td>...</td>\n",
              "      <td>1</td>\n",
              "      <td>0</td>\n",
              "      <td>1</td>\n",
              "      <td>1</td>\n",
              "      <td>1</td>\n",
              "      <td>1</td>\n",
              "      <td>0</td>\n",
              "      <td>1</td>\n",
              "      <td>0</td>\n",
              "      <td>0.0</td>\n",
              "    </tr>\n",
              "    <tr>\n",
              "      <th>2</th>\n",
              "      <td>a338a4e5f2</td>\n",
              "      <td>7</td>\n",
              "      <td>701</td>\n",
              "      <td>70103</td>\n",
              "      <td>Private</td>\n",
              "      <td>1.0</td>\n",
              "      <td>0.0</td>\n",
              "      <td>0</td>\n",
              "      <td>0</td>\n",
              "      <td>0</td>\n",
              "      <td>...</td>\n",
              "      <td>1</td>\n",
              "      <td>0</td>\n",
              "      <td>1</td>\n",
              "      <td>1</td>\n",
              "      <td>1</td>\n",
              "      <td>1</td>\n",
              "      <td>0</td>\n",
              "      <td>1</td>\n",
              "      <td>0</td>\n",
              "      <td>0.0</td>\n",
              "    </tr>\n",
              "    <tr>\n",
              "      <th>3</th>\n",
              "      <td>a338a4e71f</td>\n",
              "      <td>7</td>\n",
              "      <td>701</td>\n",
              "      <td>70103</td>\n",
              "      <td>Private</td>\n",
              "      <td>1.0</td>\n",
              "      <td>0.0</td>\n",
              "      <td>0</td>\n",
              "      <td>0</td>\n",
              "      <td>0</td>\n",
              "      <td>...</td>\n",
              "      <td>1</td>\n",
              "      <td>0</td>\n",
              "      <td>1</td>\n",
              "      <td>1</td>\n",
              "      <td>1</td>\n",
              "      <td>0</td>\n",
              "      <td>0</td>\n",
              "      <td>1</td>\n",
              "      <td>0</td>\n",
              "      <td>0.0</td>\n",
              "    </tr>\n",
              "    <tr>\n",
              "      <th>4</th>\n",
              "      <td>a339d612f3</td>\n",
              "      <td>7</td>\n",
              "      <td>701</td>\n",
              "      <td>70105</td>\n",
              "      <td>Private</td>\n",
              "      <td>1.0</td>\n",
              "      <td>0.0</td>\n",
              "      <td>0</td>\n",
              "      <td>0</td>\n",
              "      <td>0</td>\n",
              "      <td>...</td>\n",
              "      <td>1</td>\n",
              "      <td>0</td>\n",
              "      <td>1</td>\n",
              "      <td>1</td>\n",
              "      <td>1</td>\n",
              "      <td>0</td>\n",
              "      <td>0</td>\n",
              "      <td>1</td>\n",
              "      <td>0</td>\n",
              "      <td>0.0</td>\n",
              "    </tr>\n",
              "  </tbody>\n",
              "</table>\n",
              "<p>5 rows × 63 columns</p>\n",
              "</div>"
            ],
            "text/plain": [
              "  building_id  district_id_x  vdcmun_id_x  ward_id_x legal_ownership_status  \\\n",
              "0  a3380c4fd9              7          701      70102                Private   \n",
              "1  a3380c503e              7          701      70102                Private   \n",
              "2  a338a4e5f2              7          701      70103                Private   \n",
              "3  a338a4e71f              7          701      70103                Private   \n",
              "4  a339d612f3              7          701      70105                Private   \n",
              "\n",
              "   count_families  has_secondary_use  has_secondary_use_agriculture  \\\n",
              "0             1.0                0.0                              0   \n",
              "1             1.0                0.0                              0   \n",
              "2             1.0                0.0                              0   \n",
              "3             1.0                0.0                              0   \n",
              "4             1.0                0.0                              0   \n",
              "\n",
              "   has_secondary_use_hotel  has_secondary_use_rental        ...         \\\n",
              "0                        0                         0        ...          \n",
              "1                        0                         0        ...          \n",
              "2                        0                         0        ...          \n",
              "3                        0                         0        ...          \n",
              "4                        0                         0        ...          \n",
              "\n",
              "   IsPrivate  IsFlat  IsMudFoundation  IsBambooRoofLight  IsFloorTypeMud  \\\n",
              "0          1       0                1                  1               1   \n",
              "1          1       0                1                  1               1   \n",
              "2          1       0                1                  1               1   \n",
              "3          1       0                1                  1               1   \n",
              "4          1       0                1                  1               1   \n",
              "\n",
              "   OtherFloorTypeMud  IsNotAttached  IsPlanConfigRectangular  \\\n",
              "0                  0              0                        1   \n",
              "1                  1              0                        1   \n",
              "2                  1              0                        1   \n",
              "3                  0              0                        1   \n",
              "4                  0              0                        1   \n",
              "\n",
              "   count_floors_change  height_ft_change  \n",
              "0                    0               0.0  \n",
              "1                    0               0.0  \n",
              "2                    0               0.0  \n",
              "3                    0               0.0  \n",
              "4                    0               0.0  \n",
              "\n",
              "[5 rows x 63 columns]"
            ]
          },
          "metadata": {
            "tags": []
          },
          "execution_count": 63
        }
      ]
    },
    {
      "metadata": {
        "id": "I1pW_lkTUmb4",
        "colab_type": "code",
        "colab": {}
      },
      "cell_type": "code",
      "source": [
        "res_train_copy.drop(['count_floors_pre_eq', 'height_ft_pre_eq'], axis=1, inplace=True)\n",
        "res_test_copy.drop(['count_floors_pre_eq', 'height_ft_pre_eq'], axis=1, inplace=True)"
      ],
      "execution_count": 0,
      "outputs": []
    },
    {
      "metadata": {
        "id": "I1m7gmvzUpga",
        "colab_type": "code",
        "colab": {}
      },
      "cell_type": "code",
      "source": [
        "remove_columns = [\"legal_ownership_status\",\"land_surface_condition\",\"foundation_type\",\"roof_type\",\"ground_floor_type\",\"other_floor_type\",\"position\",\"plan_configuration\",\"count_floors_post_eq\",\"height_ft_post_eq\"]\n",
        "def dropColumns(res_train_copy,res_test_copy,remove_columns):\n",
        "  for i in remove_columns:\n",
        "    res_train_copy.drop([i],axis = 1, inplace = True)\n",
        "    res_test_copy.drop([i],axis = 1, inplace = True)\n",
        "    \n",
        "  return res_train_copy,res_test_copy"
      ],
      "execution_count": 0,
      "outputs": []
    },
    {
      "metadata": {
        "id": "EG6GMJ8zUtrr",
        "colab_type": "code",
        "colab": {}
      },
      "cell_type": "code",
      "source": [
        "res_train_copy, res_test_copy = dropColumns(res_train_copy,res_test_copy,remove_columns)"
      ],
      "execution_count": 0,
      "outputs": []
    },
    {
      "metadata": {
        "id": "ErPm8EeWU4BV",
        "colab_type": "code",
        "colab": {
          "base_uri": "https://localhost:8080/",
          "height": 34
        },
        "outputId": "c7108000-f376-4294-972e-b8b85374eaf4"
      },
      "cell_type": "code",
      "source": [
        "res_train_copy.shape\n"
      ],
      "execution_count": 67,
      "outputs": [
        {
          "output_type": "execute_result",
          "data": {
            "text/plain": [
              "(631761, 51)"
            ]
          },
          "metadata": {
            "tags": []
          },
          "execution_count": 67
        }
      ]
    },
    {
      "metadata": {
        "id": "7UkJDPMZU6o7",
        "colab_type": "code",
        "colab": {
          "base_uri": "https://localhost:8080/",
          "height": 34
        },
        "outputId": "f42f9052-4524-46bd-a011-d24e63668cb8"
      },
      "cell_type": "code",
      "source": [
        "res_test_copy.shape\n"
      ],
      "execution_count": 68,
      "outputs": [
        {
          "output_type": "execute_result",
          "data": {
            "text/plain": [
              "(421175, 50)"
            ]
          },
          "metadata": {
            "tags": []
          },
          "execution_count": 68
        }
      ]
    },
    {
      "metadata": {
        "id": "kE5RrDgyU8fn",
        "colab_type": "code",
        "colab": {}
      },
      "cell_type": "code",
      "source": [
        "res_train_copy.drop(['building_id'], axis = 1, inplace = True)\n",
        "res_test_copy.drop(['building_id'], axis = 1, inplace = True)"
      ],
      "execution_count": 0,
      "outputs": []
    },
    {
      "metadata": {
        "id": "g8Kw4eM4U_Em",
        "colab_type": "code",
        "colab": {
          "base_uri": "https://localhost:8080/",
          "height": 142
        },
        "outputId": "be4f4e3d-377a-49b2-cd3e-aa28099b8cf2"
      },
      "cell_type": "code",
      "source": [
        "miss"
      ],
      "execution_count": 70,
      "outputs": [
        {
          "output_type": "execute_result",
          "data": {
            "text/html": [
              "<div>\n",
              "<style scoped>\n",
              "    .dataframe tbody tr th:only-of-type {\n",
              "        vertical-align: middle;\n",
              "    }\n",
              "\n",
              "    .dataframe tbody tr th {\n",
              "        vertical-align: top;\n",
              "    }\n",
              "\n",
              "    .dataframe thead th {\n",
              "        text-align: right;\n",
              "    }\n",
              "</style>\n",
              "<table border=\"1\" class=\"dataframe\">\n",
              "  <thead>\n",
              "    <tr style=\"text-align: right;\">\n",
              "      <th></th>\n",
              "      <th>count</th>\n",
              "      <th>Name</th>\n",
              "    </tr>\n",
              "    <tr>\n",
              "      <th>Name</th>\n",
              "      <th></th>\n",
              "      <th></th>\n",
              "    </tr>\n",
              "  </thead>\n",
              "  <tbody>\n",
              "    <tr>\n",
              "      <th>count_families</th>\n",
              "      <td>0.000002</td>\n",
              "      <td>count_families</td>\n",
              "    </tr>\n",
              "    <tr>\n",
              "      <th>has_repair_started</th>\n",
              "      <td>0.052895</td>\n",
              "      <td>has_repair_started</td>\n",
              "    </tr>\n",
              "  </tbody>\n",
              "</table>\n",
              "</div>"
            ],
            "text/plain": [
              "                       count                Name\n",
              "Name                                            \n",
              "count_families      0.000002      count_families\n",
              "has_repair_started  0.052895  has_repair_started"
            ]
          },
          "metadata": {
            "tags": []
          },
          "execution_count": 70
        }
      ]
    },
    {
      "metadata": {
        "id": "AkuRKznjVCBO",
        "colab_type": "code",
        "colab": {}
      },
      "cell_type": "code",
      "source": [
        "res_train_copy['count_families'].fillna(res_train_copy['count_families'].mode()[0],inplace=True)\n",
        "res_test_copy['count_families'].fillna(res_test_copy['count_families'].mode()[0],inplace=True)"
      ],
      "execution_count": 0,
      "outputs": []
    },
    {
      "metadata": {
        "id": "bz82bepaVFKU",
        "colab_type": "code",
        "colab": {
          "base_uri": "https://localhost:8080/",
          "height": 119
        },
        "outputId": "1b98ed83-65a0-42e5-e8c4-e8035b1761cc"
      },
      "cell_type": "code",
      "source": [
        "print(res_train_copy['has_repair_started'].value_counts())\n",
        "print(res_test_copy['has_repair_started'].value_counts())"
      ],
      "execution_count": 72,
      "outputs": [
        {
          "output_type": "stream",
          "text": [
            "0.0    409222\n",
            "1.0    189122\n",
            "Name: has_repair_started, dtype: int64\n",
            "0.0    273041\n",
            "1.0    126212\n",
            "Name: has_repair_started, dtype: int64\n"
          ],
          "name": "stdout"
        }
      ]
    },
    {
      "metadata": {
        "id": "VwI86s3rVHnv",
        "colab_type": "code",
        "colab": {}
      },
      "cell_type": "code",
      "source": [
        "res_train_copy['has_repair_started'].fillna(False,inplace=True)\n",
        "res_test_copy['has_repair_started'].fillna(False,inplace=True)"
      ],
      "execution_count": 0,
      "outputs": []
    },
    {
      "metadata": {
        "id": "EtSt006vVKQm",
        "colab_type": "code",
        "colab": {}
      },
      "cell_type": "code",
      "source": [
        "res_train_copy['has_repair_started'] = res_train_copy['has_repair_started'].astype('int64')\n",
        "res_test_copy['has_repair_started'] = res_test_copy['has_repair_started'].astype('int64')\n",
        "res_train_copy['area_assesed'].unique()\n",
        "res_train_copy['condition_post_eq'].unique()\n",
        "y_train = res_train_copy['damage_grade']\n",
        "res_train_copy.drop(['damage_grade'], axis = 1, inplace = True)"
      ],
      "execution_count": 0,
      "outputs": []
    },
    {
      "metadata": {
        "id": "-TGKxXNoVaLK",
        "colab_type": "code",
        "colab": {}
      },
      "cell_type": "code",
      "source": [
        "from sklearn.ensemble import RandomForestRegressor, RandomForestClassifier\n",
        "from sklearn import tree"
      ],
      "execution_count": 0,
      "outputs": []
    },
    {
      "metadata": {
        "id": "DrQl04znVcuY",
        "colab_type": "code",
        "colab": {}
      },
      "cell_type": "code",
      "source": [
        "res_train_one_hot = pd.get_dummies(res_train_copy)\n"
      ],
      "execution_count": 0,
      "outputs": []
    },
    {
      "metadata": {
        "id": "liVA82bcVfl2",
        "colab_type": "code",
        "colab": {}
      },
      "cell_type": "code",
      "source": [
        "res_test_one_hot = pd.get_dummies(res_test_copy)\n"
      ],
      "execution_count": 0,
      "outputs": []
    },
    {
      "metadata": {
        "id": "v08n6hWWVhut",
        "colab_type": "code",
        "colab": {}
      },
      "cell_type": "code",
      "source": [
        "res_train_one_hot.drop([\"district_id_x\",\"vdcmun_id_x\",\"ward_id_x\"],axis = 1, inplace = True)\n",
        "res_test_one_hot.drop([\"district_id_x\",\"vdcmun_id_x\",\"ward_id_x\"],axis = 1, inplace = True)"
      ],
      "execution_count": 0,
      "outputs": []
    },
    {
      "metadata": {
        "id": "1lH8jb6xVlNm",
        "colab_type": "code",
        "colab": {
          "base_uri": "https://localhost:8080/",
          "height": 287
        },
        "outputId": "5a93f3fd-d835-4a1a-e95a-6ce45703f879"
      },
      "cell_type": "code",
      "source": [
        "res_train_one_hot.head()\n"
      ],
      "execution_count": 79,
      "outputs": [
        {
          "output_type": "execute_result",
          "data": {
            "text/html": [
              "<div>\n",
              "<style scoped>\n",
              "    .dataframe tbody tr th:only-of-type {\n",
              "        vertical-align: middle;\n",
              "    }\n",
              "\n",
              "    .dataframe tbody tr th {\n",
              "        vertical-align: top;\n",
              "    }\n",
              "\n",
              "    .dataframe thead th {\n",
              "        text-align: right;\n",
              "    }\n",
              "</style>\n",
              "<table border=\"1\" class=\"dataframe\">\n",
              "  <thead>\n",
              "    <tr style=\"text-align: right;\">\n",
              "      <th></th>\n",
              "      <th>count_families</th>\n",
              "      <th>has_secondary_use</th>\n",
              "      <th>has_secondary_use_agriculture</th>\n",
              "      <th>has_secondary_use_hotel</th>\n",
              "      <th>has_secondary_use_rental</th>\n",
              "      <th>has_secondary_use_institution</th>\n",
              "      <th>has_secondary_use_school</th>\n",
              "      <th>has_secondary_use_industry</th>\n",
              "      <th>has_secondary_use_health_post</th>\n",
              "      <th>has_secondary_use_gov_office</th>\n",
              "      <th>...</th>\n",
              "      <th>condition_post_eq_Damaged-Rubble Clear-New building built</th>\n",
              "      <th>condition_post_eq_Damaged-Rubble clear</th>\n",
              "      <th>condition_post_eq_Damaged-Rubble unclear</th>\n",
              "      <th>condition_post_eq_Damaged-Used in risk</th>\n",
              "      <th>condition_post_eq_Not damaged</th>\n",
              "      <th>area_assesed_Both</th>\n",
              "      <th>area_assesed_Building removed</th>\n",
              "      <th>area_assesed_Exterior</th>\n",
              "      <th>area_assesed_Interior</th>\n",
              "      <th>area_assesed_Not able to inspect</th>\n",
              "    </tr>\n",
              "  </thead>\n",
              "  <tbody>\n",
              "    <tr>\n",
              "      <th>0</th>\n",
              "      <td>1.0</td>\n",
              "      <td>0.0</td>\n",
              "      <td>0</td>\n",
              "      <td>0</td>\n",
              "      <td>0</td>\n",
              "      <td>0</td>\n",
              "      <td>0</td>\n",
              "      <td>0</td>\n",
              "      <td>0</td>\n",
              "      <td>0</td>\n",
              "      <td>...</td>\n",
              "      <td>0</td>\n",
              "      <td>0</td>\n",
              "      <td>0</td>\n",
              "      <td>0</td>\n",
              "      <td>0</td>\n",
              "      <td>1</td>\n",
              "      <td>0</td>\n",
              "      <td>0</td>\n",
              "      <td>0</td>\n",
              "      <td>0</td>\n",
              "    </tr>\n",
              "    <tr>\n",
              "      <th>1</th>\n",
              "      <td>1.0</td>\n",
              "      <td>0.0</td>\n",
              "      <td>0</td>\n",
              "      <td>0</td>\n",
              "      <td>0</td>\n",
              "      <td>0</td>\n",
              "      <td>0</td>\n",
              "      <td>0</td>\n",
              "      <td>0</td>\n",
              "      <td>0</td>\n",
              "      <td>...</td>\n",
              "      <td>0</td>\n",
              "      <td>0</td>\n",
              "      <td>0</td>\n",
              "      <td>0</td>\n",
              "      <td>0</td>\n",
              "      <td>1</td>\n",
              "      <td>0</td>\n",
              "      <td>0</td>\n",
              "      <td>0</td>\n",
              "      <td>0</td>\n",
              "    </tr>\n",
              "    <tr>\n",
              "      <th>2</th>\n",
              "      <td>1.0</td>\n",
              "      <td>0.0</td>\n",
              "      <td>0</td>\n",
              "      <td>0</td>\n",
              "      <td>0</td>\n",
              "      <td>0</td>\n",
              "      <td>0</td>\n",
              "      <td>0</td>\n",
              "      <td>0</td>\n",
              "      <td>0</td>\n",
              "      <td>...</td>\n",
              "      <td>0</td>\n",
              "      <td>0</td>\n",
              "      <td>0</td>\n",
              "      <td>0</td>\n",
              "      <td>0</td>\n",
              "      <td>1</td>\n",
              "      <td>0</td>\n",
              "      <td>0</td>\n",
              "      <td>0</td>\n",
              "      <td>0</td>\n",
              "    </tr>\n",
              "    <tr>\n",
              "      <th>3</th>\n",
              "      <td>1.0</td>\n",
              "      <td>0.0</td>\n",
              "      <td>0</td>\n",
              "      <td>0</td>\n",
              "      <td>0</td>\n",
              "      <td>0</td>\n",
              "      <td>0</td>\n",
              "      <td>0</td>\n",
              "      <td>0</td>\n",
              "      <td>0</td>\n",
              "      <td>...</td>\n",
              "      <td>0</td>\n",
              "      <td>0</td>\n",
              "      <td>0</td>\n",
              "      <td>0</td>\n",
              "      <td>0</td>\n",
              "      <td>1</td>\n",
              "      <td>0</td>\n",
              "      <td>0</td>\n",
              "      <td>0</td>\n",
              "      <td>0</td>\n",
              "    </tr>\n",
              "    <tr>\n",
              "      <th>4</th>\n",
              "      <td>1.0</td>\n",
              "      <td>0.0</td>\n",
              "      <td>0</td>\n",
              "      <td>0</td>\n",
              "      <td>0</td>\n",
              "      <td>0</td>\n",
              "      <td>0</td>\n",
              "      <td>0</td>\n",
              "      <td>0</td>\n",
              "      <td>0</td>\n",
              "      <td>...</td>\n",
              "      <td>0</td>\n",
              "      <td>0</td>\n",
              "      <td>0</td>\n",
              "      <td>0</td>\n",
              "      <td>0</td>\n",
              "      <td>1</td>\n",
              "      <td>0</td>\n",
              "      <td>0</td>\n",
              "      <td>0</td>\n",
              "      <td>0</td>\n",
              "    </tr>\n",
              "  </tbody>\n",
              "</table>\n",
              "<p>5 rows × 57 columns</p>\n",
              "</div>"
            ],
            "text/plain": [
              "   count_families  has_secondary_use  has_secondary_use_agriculture  \\\n",
              "0             1.0                0.0                              0   \n",
              "1             1.0                0.0                              0   \n",
              "2             1.0                0.0                              0   \n",
              "3             1.0                0.0                              0   \n",
              "4             1.0                0.0                              0   \n",
              "\n",
              "   has_secondary_use_hotel  has_secondary_use_rental  \\\n",
              "0                        0                         0   \n",
              "1                        0                         0   \n",
              "2                        0                         0   \n",
              "3                        0                         0   \n",
              "4                        0                         0   \n",
              "\n",
              "   has_secondary_use_institution  has_secondary_use_school  \\\n",
              "0                              0                         0   \n",
              "1                              0                         0   \n",
              "2                              0                         0   \n",
              "3                              0                         0   \n",
              "4                              0                         0   \n",
              "\n",
              "   has_secondary_use_industry  has_secondary_use_health_post  \\\n",
              "0                           0                              0   \n",
              "1                           0                              0   \n",
              "2                           0                              0   \n",
              "3                           0                              0   \n",
              "4                           0                              0   \n",
              "\n",
              "   has_secondary_use_gov_office                ...                 \\\n",
              "0                             0                ...                  \n",
              "1                             0                ...                  \n",
              "2                             0                ...                  \n",
              "3                             0                ...                  \n",
              "4                             0                ...                  \n",
              "\n",
              "   condition_post_eq_Damaged-Rubble Clear-New building built  \\\n",
              "0                                                  0           \n",
              "1                                                  0           \n",
              "2                                                  0           \n",
              "3                                                  0           \n",
              "4                                                  0           \n",
              "\n",
              "   condition_post_eq_Damaged-Rubble clear  \\\n",
              "0                                       0   \n",
              "1                                       0   \n",
              "2                                       0   \n",
              "3                                       0   \n",
              "4                                       0   \n",
              "\n",
              "   condition_post_eq_Damaged-Rubble unclear  \\\n",
              "0                                         0   \n",
              "1                                         0   \n",
              "2                                         0   \n",
              "3                                         0   \n",
              "4                                         0   \n",
              "\n",
              "   condition_post_eq_Damaged-Used in risk  condition_post_eq_Not damaged  \\\n",
              "0                                       0                              0   \n",
              "1                                       0                              0   \n",
              "2                                       0                              0   \n",
              "3                                       0                              0   \n",
              "4                                       0                              0   \n",
              "\n",
              "   area_assesed_Both  area_assesed_Building removed  area_assesed_Exterior  \\\n",
              "0                  1                              0                      0   \n",
              "1                  1                              0                      0   \n",
              "2                  1                              0                      0   \n",
              "3                  1                              0                      0   \n",
              "4                  1                              0                      0   \n",
              "\n",
              "   area_assesed_Interior  area_assesed_Not able to inspect  \n",
              "0                      0                                 0  \n",
              "1                      0                                 0  \n",
              "2                      0                                 0  \n",
              "3                      0                                 0  \n",
              "4                      0                                 0  \n",
              "\n",
              "[5 rows x 57 columns]"
            ]
          },
          "metadata": {
            "tags": []
          },
          "execution_count": 79
        }
      ]
    },
    {
      "metadata": {
        "id": "wtFft943Vnr5",
        "colab_type": "code",
        "colab": {}
      },
      "cell_type": "code",
      "source": [
        "rf = RandomForestClassifier(n_estimators=200, min_samples_leaf = 2)\n"
      ],
      "execution_count": 0,
      "outputs": []
    },
    {
      "metadata": {
        "id": "nB3NtZq-VynT",
        "colab_type": "code",
        "colab": {
          "base_uri": "https://localhost:8080/",
          "height": 1492
        },
        "outputId": "5b767013-a951-4b05-c2d4-3cd1f1525b41"
      },
      "cell_type": "code",
      "source": [
        "rf.fit(res_train_one_hot, y_train)\n"
      ],
      "execution_count": 81,
      "outputs": [
        {
          "output_type": "error",
          "ename": "KeyboardInterrupt",
          "evalue": "ignored",
          "traceback": [
            "\u001b[0;31m---------------------------------------------------------------------------\u001b[0m",
            "\u001b[0;31mKeyboardInterrupt\u001b[0m                         Traceback (most recent call last)",
            "\u001b[0;32m<ipython-input-81-e17074e31127>\u001b[0m in \u001b[0;36m<module>\u001b[0;34m()\u001b[0m\n\u001b[0;32m----> 1\u001b[0;31m \u001b[0mrf\u001b[0m\u001b[0;34m.\u001b[0m\u001b[0mfit\u001b[0m\u001b[0;34m(\u001b[0m\u001b[0mres_train_one_hot\u001b[0m\u001b[0;34m,\u001b[0m \u001b[0my_train\u001b[0m\u001b[0;34m)\u001b[0m\u001b[0;34m\u001b[0m\u001b[0;34m\u001b[0m\u001b[0m\n\u001b[0m",
            "\u001b[0;32m/usr/local/lib/python3.6/dist-packages/sklearn/ensemble/forest.py\u001b[0m in \u001b[0;36mfit\u001b[0;34m(self, X, y, sample_weight)\u001b[0m\n\u001b[1;32m    331\u001b[0m                     \u001b[0mt\u001b[0m\u001b[0;34m,\u001b[0m \u001b[0mself\u001b[0m\u001b[0;34m,\u001b[0m \u001b[0mX\u001b[0m\u001b[0;34m,\u001b[0m \u001b[0my\u001b[0m\u001b[0;34m,\u001b[0m \u001b[0msample_weight\u001b[0m\u001b[0;34m,\u001b[0m \u001b[0mi\u001b[0m\u001b[0;34m,\u001b[0m \u001b[0mlen\u001b[0m\u001b[0;34m(\u001b[0m\u001b[0mtrees\u001b[0m\u001b[0;34m)\u001b[0m\u001b[0;34m,\u001b[0m\u001b[0;34m\u001b[0m\u001b[0;34m\u001b[0m\u001b[0m\n\u001b[1;32m    332\u001b[0m                     verbose=self.verbose, class_weight=self.class_weight)\n\u001b[0;32m--> 333\u001b[0;31m                 for i, t in enumerate(trees))\n\u001b[0m\u001b[1;32m    334\u001b[0m \u001b[0;34m\u001b[0m\u001b[0m\n\u001b[1;32m    335\u001b[0m             \u001b[0;31m# Collect newly grown trees\u001b[0m\u001b[0;34m\u001b[0m\u001b[0;34m\u001b[0m\u001b[0;34m\u001b[0m\u001b[0m\n",
            "\u001b[0;32m/usr/local/lib/python3.6/dist-packages/sklearn/externals/joblib/parallel.py\u001b[0m in \u001b[0;36m__call__\u001b[0;34m(self, iterable)\u001b[0m\n\u001b[1;32m    918\u001b[0m                 \u001b[0mself\u001b[0m\u001b[0;34m.\u001b[0m\u001b[0m_iterating\u001b[0m \u001b[0;34m=\u001b[0m \u001b[0mself\u001b[0m\u001b[0;34m.\u001b[0m\u001b[0m_original_iterator\u001b[0m \u001b[0;32mis\u001b[0m \u001b[0;32mnot\u001b[0m \u001b[0;32mNone\u001b[0m\u001b[0;34m\u001b[0m\u001b[0;34m\u001b[0m\u001b[0m\n\u001b[1;32m    919\u001b[0m \u001b[0;34m\u001b[0m\u001b[0m\n\u001b[0;32m--> 920\u001b[0;31m             \u001b[0;32mwhile\u001b[0m \u001b[0mself\u001b[0m\u001b[0;34m.\u001b[0m\u001b[0mdispatch_one_batch\u001b[0m\u001b[0;34m(\u001b[0m\u001b[0miterator\u001b[0m\u001b[0;34m)\u001b[0m\u001b[0;34m:\u001b[0m\u001b[0;34m\u001b[0m\u001b[0;34m\u001b[0m\u001b[0m\n\u001b[0m\u001b[1;32m    921\u001b[0m                 \u001b[0;32mpass\u001b[0m\u001b[0;34m\u001b[0m\u001b[0;34m\u001b[0m\u001b[0m\n\u001b[1;32m    922\u001b[0m \u001b[0;34m\u001b[0m\u001b[0m\n",
            "\u001b[0;32m/usr/local/lib/python3.6/dist-packages/sklearn/externals/joblib/parallel.py\u001b[0m in \u001b[0;36mdispatch_one_batch\u001b[0;34m(self, iterator)\u001b[0m\n\u001b[1;32m    757\u001b[0m                 \u001b[0;32mreturn\u001b[0m \u001b[0;32mFalse\u001b[0m\u001b[0;34m\u001b[0m\u001b[0;34m\u001b[0m\u001b[0m\n\u001b[1;32m    758\u001b[0m             \u001b[0;32melse\u001b[0m\u001b[0;34m:\u001b[0m\u001b[0;34m\u001b[0m\u001b[0;34m\u001b[0m\u001b[0m\n\u001b[0;32m--> 759\u001b[0;31m                 \u001b[0mself\u001b[0m\u001b[0;34m.\u001b[0m\u001b[0m_dispatch\u001b[0m\u001b[0;34m(\u001b[0m\u001b[0mtasks\u001b[0m\u001b[0;34m)\u001b[0m\u001b[0;34m\u001b[0m\u001b[0;34m\u001b[0m\u001b[0m\n\u001b[0m\u001b[1;32m    760\u001b[0m                 \u001b[0;32mreturn\u001b[0m \u001b[0;32mTrue\u001b[0m\u001b[0;34m\u001b[0m\u001b[0;34m\u001b[0m\u001b[0m\n\u001b[1;32m    761\u001b[0m \u001b[0;34m\u001b[0m\u001b[0m\n",
            "\u001b[0;32m/usr/local/lib/python3.6/dist-packages/sklearn/externals/joblib/parallel.py\u001b[0m in \u001b[0;36m_dispatch\u001b[0;34m(self, batch)\u001b[0m\n\u001b[1;32m    714\u001b[0m         \u001b[0;32mwith\u001b[0m \u001b[0mself\u001b[0m\u001b[0;34m.\u001b[0m\u001b[0m_lock\u001b[0m\u001b[0;34m:\u001b[0m\u001b[0;34m\u001b[0m\u001b[0;34m\u001b[0m\u001b[0m\n\u001b[1;32m    715\u001b[0m             \u001b[0mjob_idx\u001b[0m \u001b[0;34m=\u001b[0m \u001b[0mlen\u001b[0m\u001b[0;34m(\u001b[0m\u001b[0mself\u001b[0m\u001b[0;34m.\u001b[0m\u001b[0m_jobs\u001b[0m\u001b[0;34m)\u001b[0m\u001b[0;34m\u001b[0m\u001b[0;34m\u001b[0m\u001b[0m\n\u001b[0;32m--> 716\u001b[0;31m             \u001b[0mjob\u001b[0m \u001b[0;34m=\u001b[0m \u001b[0mself\u001b[0m\u001b[0;34m.\u001b[0m\u001b[0m_backend\u001b[0m\u001b[0;34m.\u001b[0m\u001b[0mapply_async\u001b[0m\u001b[0;34m(\u001b[0m\u001b[0mbatch\u001b[0m\u001b[0;34m,\u001b[0m \u001b[0mcallback\u001b[0m\u001b[0;34m=\u001b[0m\u001b[0mcb\u001b[0m\u001b[0;34m)\u001b[0m\u001b[0;34m\u001b[0m\u001b[0;34m\u001b[0m\u001b[0m\n\u001b[0m\u001b[1;32m    717\u001b[0m             \u001b[0;31m# A job can complete so quickly than its callback is\u001b[0m\u001b[0;34m\u001b[0m\u001b[0;34m\u001b[0m\u001b[0;34m\u001b[0m\u001b[0m\n\u001b[1;32m    718\u001b[0m             \u001b[0;31m# called before we get here, causing self._jobs to\u001b[0m\u001b[0;34m\u001b[0m\u001b[0;34m\u001b[0m\u001b[0;34m\u001b[0m\u001b[0m\n",
            "\u001b[0;32m/usr/local/lib/python3.6/dist-packages/sklearn/externals/joblib/_parallel_backends.py\u001b[0m in \u001b[0;36mapply_async\u001b[0;34m(self, func, callback)\u001b[0m\n\u001b[1;32m    180\u001b[0m     \u001b[0;32mdef\u001b[0m \u001b[0mapply_async\u001b[0m\u001b[0;34m(\u001b[0m\u001b[0mself\u001b[0m\u001b[0;34m,\u001b[0m \u001b[0mfunc\u001b[0m\u001b[0;34m,\u001b[0m \u001b[0mcallback\u001b[0m\u001b[0;34m=\u001b[0m\u001b[0;32mNone\u001b[0m\u001b[0;34m)\u001b[0m\u001b[0;34m:\u001b[0m\u001b[0;34m\u001b[0m\u001b[0;34m\u001b[0m\u001b[0m\n\u001b[1;32m    181\u001b[0m         \u001b[0;34m\"\"\"Schedule a func to be run\"\"\"\u001b[0m\u001b[0;34m\u001b[0m\u001b[0;34m\u001b[0m\u001b[0m\n\u001b[0;32m--> 182\u001b[0;31m         \u001b[0mresult\u001b[0m \u001b[0;34m=\u001b[0m \u001b[0mImmediateResult\u001b[0m\u001b[0;34m(\u001b[0m\u001b[0mfunc\u001b[0m\u001b[0;34m)\u001b[0m\u001b[0;34m\u001b[0m\u001b[0;34m\u001b[0m\u001b[0m\n\u001b[0m\u001b[1;32m    183\u001b[0m         \u001b[0;32mif\u001b[0m \u001b[0mcallback\u001b[0m\u001b[0;34m:\u001b[0m\u001b[0;34m\u001b[0m\u001b[0;34m\u001b[0m\u001b[0m\n\u001b[1;32m    184\u001b[0m             \u001b[0mcallback\u001b[0m\u001b[0;34m(\u001b[0m\u001b[0mresult\u001b[0m\u001b[0;34m)\u001b[0m\u001b[0;34m\u001b[0m\u001b[0;34m\u001b[0m\u001b[0m\n",
            "\u001b[0;32m/usr/local/lib/python3.6/dist-packages/sklearn/externals/joblib/_parallel_backends.py\u001b[0m in \u001b[0;36m__init__\u001b[0;34m(self, batch)\u001b[0m\n\u001b[1;32m    547\u001b[0m         \u001b[0;31m# Don't delay the application, to avoid keeping the input\u001b[0m\u001b[0;34m\u001b[0m\u001b[0;34m\u001b[0m\u001b[0;34m\u001b[0m\u001b[0m\n\u001b[1;32m    548\u001b[0m         \u001b[0;31m# arguments in memory\u001b[0m\u001b[0;34m\u001b[0m\u001b[0;34m\u001b[0m\u001b[0;34m\u001b[0m\u001b[0m\n\u001b[0;32m--> 549\u001b[0;31m         \u001b[0mself\u001b[0m\u001b[0;34m.\u001b[0m\u001b[0mresults\u001b[0m \u001b[0;34m=\u001b[0m \u001b[0mbatch\u001b[0m\u001b[0;34m(\u001b[0m\u001b[0;34m)\u001b[0m\u001b[0;34m\u001b[0m\u001b[0;34m\u001b[0m\u001b[0m\n\u001b[0m\u001b[1;32m    550\u001b[0m \u001b[0;34m\u001b[0m\u001b[0m\n\u001b[1;32m    551\u001b[0m     \u001b[0;32mdef\u001b[0m \u001b[0mget\u001b[0m\u001b[0;34m(\u001b[0m\u001b[0mself\u001b[0m\u001b[0;34m)\u001b[0m\u001b[0;34m:\u001b[0m\u001b[0;34m\u001b[0m\u001b[0;34m\u001b[0m\u001b[0m\n",
            "\u001b[0;32m/usr/local/lib/python3.6/dist-packages/sklearn/externals/joblib/parallel.py\u001b[0m in \u001b[0;36m__call__\u001b[0;34m(self)\u001b[0m\n\u001b[1;32m    223\u001b[0m         \u001b[0;32mwith\u001b[0m \u001b[0mparallel_backend\u001b[0m\u001b[0;34m(\u001b[0m\u001b[0mself\u001b[0m\u001b[0;34m.\u001b[0m\u001b[0m_backend\u001b[0m\u001b[0;34m,\u001b[0m \u001b[0mn_jobs\u001b[0m\u001b[0;34m=\u001b[0m\u001b[0mself\u001b[0m\u001b[0;34m.\u001b[0m\u001b[0m_n_jobs\u001b[0m\u001b[0;34m)\u001b[0m\u001b[0;34m:\u001b[0m\u001b[0;34m\u001b[0m\u001b[0;34m\u001b[0m\u001b[0m\n\u001b[1;32m    224\u001b[0m             return [func(*args, **kwargs)\n\u001b[0;32m--> 225\u001b[0;31m                     for func, args, kwargs in self.items]\n\u001b[0m\u001b[1;32m    226\u001b[0m \u001b[0;34m\u001b[0m\u001b[0m\n\u001b[1;32m    227\u001b[0m     \u001b[0;32mdef\u001b[0m \u001b[0m__len__\u001b[0m\u001b[0;34m(\u001b[0m\u001b[0mself\u001b[0m\u001b[0;34m)\u001b[0m\u001b[0;34m:\u001b[0m\u001b[0;34m\u001b[0m\u001b[0;34m\u001b[0m\u001b[0m\n",
            "\u001b[0;32m/usr/local/lib/python3.6/dist-packages/sklearn/externals/joblib/parallel.py\u001b[0m in \u001b[0;36m<listcomp>\u001b[0;34m(.0)\u001b[0m\n\u001b[1;32m    223\u001b[0m         \u001b[0;32mwith\u001b[0m \u001b[0mparallel_backend\u001b[0m\u001b[0;34m(\u001b[0m\u001b[0mself\u001b[0m\u001b[0;34m.\u001b[0m\u001b[0m_backend\u001b[0m\u001b[0;34m,\u001b[0m \u001b[0mn_jobs\u001b[0m\u001b[0;34m=\u001b[0m\u001b[0mself\u001b[0m\u001b[0;34m.\u001b[0m\u001b[0m_n_jobs\u001b[0m\u001b[0;34m)\u001b[0m\u001b[0;34m:\u001b[0m\u001b[0;34m\u001b[0m\u001b[0;34m\u001b[0m\u001b[0m\n\u001b[1;32m    224\u001b[0m             return [func(*args, **kwargs)\n\u001b[0;32m--> 225\u001b[0;31m                     for func, args, kwargs in self.items]\n\u001b[0m\u001b[1;32m    226\u001b[0m \u001b[0;34m\u001b[0m\u001b[0m\n\u001b[1;32m    227\u001b[0m     \u001b[0;32mdef\u001b[0m \u001b[0m__len__\u001b[0m\u001b[0;34m(\u001b[0m\u001b[0mself\u001b[0m\u001b[0;34m)\u001b[0m\u001b[0;34m:\u001b[0m\u001b[0;34m\u001b[0m\u001b[0;34m\u001b[0m\u001b[0m\n",
            "\u001b[0;32m/usr/local/lib/python3.6/dist-packages/sklearn/ensemble/forest.py\u001b[0m in \u001b[0;36m_parallel_build_trees\u001b[0;34m(tree, forest, X, y, sample_weight, tree_idx, n_trees, verbose, class_weight)\u001b[0m\n\u001b[1;32m    117\u001b[0m             \u001b[0mcurr_sample_weight\u001b[0m \u001b[0;34m*=\u001b[0m \u001b[0mcompute_sample_weight\u001b[0m\u001b[0;34m(\u001b[0m\u001b[0;34m'balanced'\u001b[0m\u001b[0;34m,\u001b[0m \u001b[0my\u001b[0m\u001b[0;34m,\u001b[0m \u001b[0mindices\u001b[0m\u001b[0;34m)\u001b[0m\u001b[0;34m\u001b[0m\u001b[0;34m\u001b[0m\u001b[0m\n\u001b[1;32m    118\u001b[0m \u001b[0;34m\u001b[0m\u001b[0m\n\u001b[0;32m--> 119\u001b[0;31m         \u001b[0mtree\u001b[0m\u001b[0;34m.\u001b[0m\u001b[0mfit\u001b[0m\u001b[0;34m(\u001b[0m\u001b[0mX\u001b[0m\u001b[0;34m,\u001b[0m \u001b[0my\u001b[0m\u001b[0;34m,\u001b[0m \u001b[0msample_weight\u001b[0m\u001b[0;34m=\u001b[0m\u001b[0mcurr_sample_weight\u001b[0m\u001b[0;34m,\u001b[0m \u001b[0mcheck_input\u001b[0m\u001b[0;34m=\u001b[0m\u001b[0;32mFalse\u001b[0m\u001b[0;34m)\u001b[0m\u001b[0;34m\u001b[0m\u001b[0;34m\u001b[0m\u001b[0m\n\u001b[0m\u001b[1;32m    120\u001b[0m     \u001b[0;32melse\u001b[0m\u001b[0;34m:\u001b[0m\u001b[0;34m\u001b[0m\u001b[0;34m\u001b[0m\u001b[0m\n\u001b[1;32m    121\u001b[0m         \u001b[0mtree\u001b[0m\u001b[0;34m.\u001b[0m\u001b[0mfit\u001b[0m\u001b[0;34m(\u001b[0m\u001b[0mX\u001b[0m\u001b[0;34m,\u001b[0m \u001b[0my\u001b[0m\u001b[0;34m,\u001b[0m \u001b[0msample_weight\u001b[0m\u001b[0;34m=\u001b[0m\u001b[0msample_weight\u001b[0m\u001b[0;34m,\u001b[0m \u001b[0mcheck_input\u001b[0m\u001b[0;34m=\u001b[0m\u001b[0;32mFalse\u001b[0m\u001b[0;34m)\u001b[0m\u001b[0;34m\u001b[0m\u001b[0;34m\u001b[0m\u001b[0m\n",
            "\u001b[0;32m/usr/local/lib/python3.6/dist-packages/sklearn/tree/tree.py\u001b[0m in \u001b[0;36mfit\u001b[0;34m(self, X, y, sample_weight, check_input, X_idx_sorted)\u001b[0m\n\u001b[1;32m    799\u001b[0m             \u001b[0msample_weight\u001b[0m\u001b[0;34m=\u001b[0m\u001b[0msample_weight\u001b[0m\u001b[0;34m,\u001b[0m\u001b[0;34m\u001b[0m\u001b[0;34m\u001b[0m\u001b[0m\n\u001b[1;32m    800\u001b[0m             \u001b[0mcheck_input\u001b[0m\u001b[0;34m=\u001b[0m\u001b[0mcheck_input\u001b[0m\u001b[0;34m,\u001b[0m\u001b[0;34m\u001b[0m\u001b[0;34m\u001b[0m\u001b[0m\n\u001b[0;32m--> 801\u001b[0;31m             X_idx_sorted=X_idx_sorted)\n\u001b[0m\u001b[1;32m    802\u001b[0m         \u001b[0;32mreturn\u001b[0m \u001b[0mself\u001b[0m\u001b[0;34m\u001b[0m\u001b[0;34m\u001b[0m\u001b[0m\n\u001b[1;32m    803\u001b[0m \u001b[0;34m\u001b[0m\u001b[0m\n",
            "\u001b[0;32m/usr/local/lib/python3.6/dist-packages/sklearn/tree/tree.py\u001b[0m in \u001b[0;36mfit\u001b[0;34m(self, X, y, sample_weight, check_input, X_idx_sorted)\u001b[0m\n\u001b[1;32m    364\u001b[0m                                            min_impurity_split)\n\u001b[1;32m    365\u001b[0m \u001b[0;34m\u001b[0m\u001b[0m\n\u001b[0;32m--> 366\u001b[0;31m         \u001b[0mbuilder\u001b[0m\u001b[0;34m.\u001b[0m\u001b[0mbuild\u001b[0m\u001b[0;34m(\u001b[0m\u001b[0mself\u001b[0m\u001b[0;34m.\u001b[0m\u001b[0mtree_\u001b[0m\u001b[0;34m,\u001b[0m \u001b[0mX\u001b[0m\u001b[0;34m,\u001b[0m \u001b[0my\u001b[0m\u001b[0;34m,\u001b[0m \u001b[0msample_weight\u001b[0m\u001b[0;34m,\u001b[0m \u001b[0mX_idx_sorted\u001b[0m\u001b[0;34m)\u001b[0m\u001b[0;34m\u001b[0m\u001b[0;34m\u001b[0m\u001b[0m\n\u001b[0m\u001b[1;32m    367\u001b[0m \u001b[0;34m\u001b[0m\u001b[0m\n\u001b[1;32m    368\u001b[0m         \u001b[0;32mif\u001b[0m \u001b[0mself\u001b[0m\u001b[0;34m.\u001b[0m\u001b[0mn_outputs_\u001b[0m \u001b[0;34m==\u001b[0m \u001b[0;36m1\u001b[0m\u001b[0;34m:\u001b[0m\u001b[0;34m\u001b[0m\u001b[0;34m\u001b[0m\u001b[0m\n",
            "\u001b[0;31mKeyboardInterrupt\u001b[0m: "
          ]
        }
      ]
    },
    {
      "metadata": {
        "id": "YAkPE89YV9rh",
        "colab_type": "code",
        "colab": {}
      },
      "cell_type": "code",
      "source": [
        "rf.score(res_train_one_hot, y_train)*100\n"
      ],
      "execution_count": 0,
      "outputs": []
    },
    {
      "metadata": {
        "id": "gqAZbsy1QBGi",
        "colab_type": "code",
        "colab": {}
      },
      "cell_type": "code",
      "source": [
        "feature_imp = pd.Series(rf.feature_importances_,index=res_train_one_hot.columns).sort_values(ascending=False)\n",
        "feature_imp.head()"
      ],
      "execution_count": 0,
      "outputs": []
    },
    {
      "metadata": {
        "id": "eVpgkrGwWbKw",
        "colab_type": "code",
        "colab": {}
      },
      "cell_type": "code",
      "source": [
        "ypreds = rf.predict(res_test_one_hot)\n"
      ],
      "execution_count": 0,
      "outputs": []
    },
    {
      "metadata": {
        "id": "uIE52XNbWh0g",
        "colab_type": "code",
        "colab": {}
      },
      "cell_type": "code",
      "source": [
        "y_true = pd.read_csv('submission.csv')"
      ],
      "execution_count": 0,
      "outputs": []
    },
    {
      "metadata": {
        "id": "sVX0cjAFWrAd",
        "colab_type": "code",
        "colab": {}
      },
      "cell_type": "code",
      "source": [
        "y_true.head()\n"
      ],
      "execution_count": 0,
      "outputs": []
    },
    {
      "metadata": {
        "id": "OzoTnZQZWsbA",
        "colab_type": "code",
        "colab": {}
      },
      "cell_type": "code",
      "source": [
        "target = {1: 'Grade 1', 2: 'Grade 2', 3: 'Grade 3', 4: 'Grade 4', 5: 'Grade 5'}\n",
        "prediction.damage_grade.replace(target, inplace=True)"
      ],
      "execution_count": 0,
      "outputs": []
    },
    {
      "metadata": {
        "id": "WIhwjoVrW1B0",
        "colab_type": "code",
        "colab": {}
      },
      "cell_type": "code",
      "source": [
        "prediction=pd.DataFrame({'building_id': test['building_id'], 'damage_grade':ypreds})\n",
        "sklearn.metrics.accuracy_score(y_true['damage_grade'],prediction['damage_grade']) * 100"
      ],
      "execution_count": 0,
      "outputs": []
    },
    {
      "metadata": {
        "id": "wrpnEZbJW8_y",
        "colab_type": "code",
        "colab": {}
      },
      "cell_type": "code",
      "source": [
        "prediction.to_csv('submission.csv', index=False)\n"
      ],
      "execution_count": 0,
      "outputs": []
    },
    {
      "metadata": {
        "id": "UzmWcmboXAaw",
        "colab_type": "code",
        "colab": {}
      },
      "cell_type": "code",
      "source": [
        "prediction.head()\n"
      ],
      "execution_count": 0,
      "outputs": []
    }
  ]
}